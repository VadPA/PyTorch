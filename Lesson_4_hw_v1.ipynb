{
  "nbformat": 4,
  "nbformat_minor": 0,
  "metadata": {
    "colab": {
      "provenance": [],
      "authorship_tag": "ABX9TyOlTVZ18ZjSjyqI4C3b0BW7",
      "include_colab_link": true
    },
    "kernelspec": {
      "name": "python3",
      "display_name": "Python 3"
    },
    "language_info": {
      "name": "python"
    },
    "widgets": {
      "application/vnd.jupyter.widget-state+json": {
        "dd55b004f57c4865a8763f12cb03f9e9": {
          "model_module": "@jupyter-widgets/controls",
          "model_name": "HBoxModel",
          "model_module_version": "1.5.0",
          "state": {
            "_dom_classes": [],
            "_model_module": "@jupyter-widgets/controls",
            "_model_module_version": "1.5.0",
            "_model_name": "HBoxModel",
            "_view_count": null,
            "_view_module": "@jupyter-widgets/controls",
            "_view_module_version": "1.5.0",
            "_view_name": "HBoxView",
            "box_style": "",
            "children": [
              "IPY_MODEL_05a60fe1336341a0a21021daa6be0893",
              "IPY_MODEL_7aef20e3ea2c4e8f80cd00fa9e25cc92",
              "IPY_MODEL_34f498e64e56419dbf591e46d110714e"
            ],
            "layout": "IPY_MODEL_354665b83f764d9c8dc83f58f186b17b"
          }
        },
        "05a60fe1336341a0a21021daa6be0893": {
          "model_module": "@jupyter-widgets/controls",
          "model_name": "HTMLModel",
          "model_module_version": "1.5.0",
          "state": {
            "_dom_classes": [],
            "_model_module": "@jupyter-widgets/controls",
            "_model_module_version": "1.5.0",
            "_model_name": "HTMLModel",
            "_view_count": null,
            "_view_module": "@jupyter-widgets/controls",
            "_view_module_version": "1.5.0",
            "_view_name": "HTMLView",
            "description": "",
            "description_tooltip": null,
            "layout": "IPY_MODEL_13152d0f0c6f409dabacb7571089349a",
            "placeholder": "​",
            "style": "IPY_MODEL_214400583b5b47ac89490f12f3b5ce69",
            "value": "100%"
          }
        },
        "7aef20e3ea2c4e8f80cd00fa9e25cc92": {
          "model_module": "@jupyter-widgets/controls",
          "model_name": "FloatProgressModel",
          "model_module_version": "1.5.0",
          "state": {
            "_dom_classes": [],
            "_model_module": "@jupyter-widgets/controls",
            "_model_module_version": "1.5.0",
            "_model_name": "FloatProgressModel",
            "_view_count": null,
            "_view_module": "@jupyter-widgets/controls",
            "_view_module_version": "1.5.0",
            "_view_name": "ProgressView",
            "bar_style": "success",
            "description": "",
            "description_tooltip": null,
            "layout": "IPY_MODEL_927f6f9852ba485e948e9a0e3a748dc4",
            "max": 169001437,
            "min": 0,
            "orientation": "horizontal",
            "style": "IPY_MODEL_38667948a4d346f493261746a86fd84c",
            "value": 169001437
          }
        },
        "34f498e64e56419dbf591e46d110714e": {
          "model_module": "@jupyter-widgets/controls",
          "model_name": "HTMLModel",
          "model_module_version": "1.5.0",
          "state": {
            "_dom_classes": [],
            "_model_module": "@jupyter-widgets/controls",
            "_model_module_version": "1.5.0",
            "_model_name": "HTMLModel",
            "_view_count": null,
            "_view_module": "@jupyter-widgets/controls",
            "_view_module_version": "1.5.0",
            "_view_name": "HTMLView",
            "description": "",
            "description_tooltip": null,
            "layout": "IPY_MODEL_035c7203e94842d4b56d8b6fe3fef76a",
            "placeholder": "​",
            "style": "IPY_MODEL_7ad2d1c8124f4cdd8deec7de51ffe3d4",
            "value": " 169001437/169001437 [00:13&lt;00:00, 13729690.30it/s]"
          }
        },
        "354665b83f764d9c8dc83f58f186b17b": {
          "model_module": "@jupyter-widgets/base",
          "model_name": "LayoutModel",
          "model_module_version": "1.2.0",
          "state": {
            "_model_module": "@jupyter-widgets/base",
            "_model_module_version": "1.2.0",
            "_model_name": "LayoutModel",
            "_view_count": null,
            "_view_module": "@jupyter-widgets/base",
            "_view_module_version": "1.2.0",
            "_view_name": "LayoutView",
            "align_content": null,
            "align_items": null,
            "align_self": null,
            "border": null,
            "bottom": null,
            "display": null,
            "flex": null,
            "flex_flow": null,
            "grid_area": null,
            "grid_auto_columns": null,
            "grid_auto_flow": null,
            "grid_auto_rows": null,
            "grid_column": null,
            "grid_gap": null,
            "grid_row": null,
            "grid_template_areas": null,
            "grid_template_columns": null,
            "grid_template_rows": null,
            "height": null,
            "justify_content": null,
            "justify_items": null,
            "left": null,
            "margin": null,
            "max_height": null,
            "max_width": null,
            "min_height": null,
            "min_width": null,
            "object_fit": null,
            "object_position": null,
            "order": null,
            "overflow": null,
            "overflow_x": null,
            "overflow_y": null,
            "padding": null,
            "right": null,
            "top": null,
            "visibility": null,
            "width": null
          }
        },
        "13152d0f0c6f409dabacb7571089349a": {
          "model_module": "@jupyter-widgets/base",
          "model_name": "LayoutModel",
          "model_module_version": "1.2.0",
          "state": {
            "_model_module": "@jupyter-widgets/base",
            "_model_module_version": "1.2.0",
            "_model_name": "LayoutModel",
            "_view_count": null,
            "_view_module": "@jupyter-widgets/base",
            "_view_module_version": "1.2.0",
            "_view_name": "LayoutView",
            "align_content": null,
            "align_items": null,
            "align_self": null,
            "border": null,
            "bottom": null,
            "display": null,
            "flex": null,
            "flex_flow": null,
            "grid_area": null,
            "grid_auto_columns": null,
            "grid_auto_flow": null,
            "grid_auto_rows": null,
            "grid_column": null,
            "grid_gap": null,
            "grid_row": null,
            "grid_template_areas": null,
            "grid_template_columns": null,
            "grid_template_rows": null,
            "height": null,
            "justify_content": null,
            "justify_items": null,
            "left": null,
            "margin": null,
            "max_height": null,
            "max_width": null,
            "min_height": null,
            "min_width": null,
            "object_fit": null,
            "object_position": null,
            "order": null,
            "overflow": null,
            "overflow_x": null,
            "overflow_y": null,
            "padding": null,
            "right": null,
            "top": null,
            "visibility": null,
            "width": null
          }
        },
        "214400583b5b47ac89490f12f3b5ce69": {
          "model_module": "@jupyter-widgets/controls",
          "model_name": "DescriptionStyleModel",
          "model_module_version": "1.5.0",
          "state": {
            "_model_module": "@jupyter-widgets/controls",
            "_model_module_version": "1.5.0",
            "_model_name": "DescriptionStyleModel",
            "_view_count": null,
            "_view_module": "@jupyter-widgets/base",
            "_view_module_version": "1.2.0",
            "_view_name": "StyleView",
            "description_width": ""
          }
        },
        "927f6f9852ba485e948e9a0e3a748dc4": {
          "model_module": "@jupyter-widgets/base",
          "model_name": "LayoutModel",
          "model_module_version": "1.2.0",
          "state": {
            "_model_module": "@jupyter-widgets/base",
            "_model_module_version": "1.2.0",
            "_model_name": "LayoutModel",
            "_view_count": null,
            "_view_module": "@jupyter-widgets/base",
            "_view_module_version": "1.2.0",
            "_view_name": "LayoutView",
            "align_content": null,
            "align_items": null,
            "align_self": null,
            "border": null,
            "bottom": null,
            "display": null,
            "flex": null,
            "flex_flow": null,
            "grid_area": null,
            "grid_auto_columns": null,
            "grid_auto_flow": null,
            "grid_auto_rows": null,
            "grid_column": null,
            "grid_gap": null,
            "grid_row": null,
            "grid_template_areas": null,
            "grid_template_columns": null,
            "grid_template_rows": null,
            "height": null,
            "justify_content": null,
            "justify_items": null,
            "left": null,
            "margin": null,
            "max_height": null,
            "max_width": null,
            "min_height": null,
            "min_width": null,
            "object_fit": null,
            "object_position": null,
            "order": null,
            "overflow": null,
            "overflow_x": null,
            "overflow_y": null,
            "padding": null,
            "right": null,
            "top": null,
            "visibility": null,
            "width": null
          }
        },
        "38667948a4d346f493261746a86fd84c": {
          "model_module": "@jupyter-widgets/controls",
          "model_name": "ProgressStyleModel",
          "model_module_version": "1.5.0",
          "state": {
            "_model_module": "@jupyter-widgets/controls",
            "_model_module_version": "1.5.0",
            "_model_name": "ProgressStyleModel",
            "_view_count": null,
            "_view_module": "@jupyter-widgets/base",
            "_view_module_version": "1.2.0",
            "_view_name": "StyleView",
            "bar_color": null,
            "description_width": ""
          }
        },
        "035c7203e94842d4b56d8b6fe3fef76a": {
          "model_module": "@jupyter-widgets/base",
          "model_name": "LayoutModel",
          "model_module_version": "1.2.0",
          "state": {
            "_model_module": "@jupyter-widgets/base",
            "_model_module_version": "1.2.0",
            "_model_name": "LayoutModel",
            "_view_count": null,
            "_view_module": "@jupyter-widgets/base",
            "_view_module_version": "1.2.0",
            "_view_name": "LayoutView",
            "align_content": null,
            "align_items": null,
            "align_self": null,
            "border": null,
            "bottom": null,
            "display": null,
            "flex": null,
            "flex_flow": null,
            "grid_area": null,
            "grid_auto_columns": null,
            "grid_auto_flow": null,
            "grid_auto_rows": null,
            "grid_column": null,
            "grid_gap": null,
            "grid_row": null,
            "grid_template_areas": null,
            "grid_template_columns": null,
            "grid_template_rows": null,
            "height": null,
            "justify_content": null,
            "justify_items": null,
            "left": null,
            "margin": null,
            "max_height": null,
            "max_width": null,
            "min_height": null,
            "min_width": null,
            "object_fit": null,
            "object_position": null,
            "order": null,
            "overflow": null,
            "overflow_x": null,
            "overflow_y": null,
            "padding": null,
            "right": null,
            "top": null,
            "visibility": null,
            "width": null
          }
        },
        "7ad2d1c8124f4cdd8deec7de51ffe3d4": {
          "model_module": "@jupyter-widgets/controls",
          "model_name": "DescriptionStyleModel",
          "model_module_version": "1.5.0",
          "state": {
            "_model_module": "@jupyter-widgets/controls",
            "_model_module_version": "1.5.0",
            "_model_name": "DescriptionStyleModel",
            "_view_count": null,
            "_view_module": "@jupyter-widgets/base",
            "_view_module_version": "1.2.0",
            "_view_name": "StyleView",
            "description_width": ""
          }
        }
      }
    },
    "gpuClass": "standard",
    "accelerator": "GPU"
  },
  "cells": [
    {
      "cell_type": "markdown",
      "metadata": {
        "id": "view-in-github",
        "colab_type": "text"
      },
      "source": [
        "<a href=\"https://colab.research.google.com/github/VadPA/PyTorch/blob/master/Lesson_4_hw_v1.ipynb\" target=\"_parent\"><img src=\"https://colab.research.google.com/assets/colab-badge.svg\" alt=\"Open In Colab\"/></a>"
      ]
    },
    {
      "cell_type": "code",
      "execution_count": 1,
      "metadata": {
        "id": "OtfO0KgiqntQ"
      },
      "outputs": [],
      "source": [
        "import numpy as np\n",
        "import torch\n",
        "\n",
        "from torch import nn\n",
        "from torch.nn import functional as F\n",
        "from PIL import Image\n",
        "from torchvision import transforms, datasets\n",
        "from tqdm import tqdm\n",
        "\n",
        "from sklearn.model_selection import train_test_split\n",
        "import pickle\n",
        "import os"
      ]
    },
    {
      "cell_type": "code",
      "source": [
        "import matplotlib.pyplot as plt\n",
        "from torchsummary import summary"
      ],
      "metadata": {
        "id": "JBVjFbRzCh6p"
      },
      "execution_count": 2,
      "outputs": []
    },
    {
      "cell_type": "code",
      "source": [
        "def load_labels_name(filename):\n",
        "    with open(filename, 'rb') as f:\n",
        "        obj = pickle.load(f)\n",
        "    return obj"
      ],
      "metadata": {
        "id": "IO3XH5Xo24Cv"
      },
      "execution_count": 3,
      "outputs": []
    },
    {
      "cell_type": "code",
      "source": [
        "def train_valid_split(Xt):\n",
        "    X_train, X_test = train_test_split(Xt, test_size=0.05, random_state=13)\n",
        "    return X_train, X_test"
      ],
      "metadata": {
        "id": "2ya6Cczf98Qg"
      },
      "execution_count": 4,
      "outputs": []
    },
    {
      "cell_type": "code",
      "source": [
        "class MyOwnCifar(torch.utils.data.Dataset):\n",
        "   \n",
        "    def __init__(self, init_dataset, transform=None):\n",
        "        self._base_dataset = init_dataset\n",
        "        self.transform = transform\n",
        "\n",
        "    def __len__(self):\n",
        "        return len(self._base_dataset)\n",
        "\n",
        "    def __getitem__(self, idx):\n",
        "        img = self._base_dataset[idx][0]\n",
        "        if self.transform is not None:\n",
        "            img = self.transform(img)\n",
        "        return img, self._base_dataset[idx][1]"
      ],
      "metadata": {
        "id": "pHKYhqkLqx8B"
      },
      "execution_count": 5,
      "outputs": []
    },
    {
      "cell_type": "code",
      "source": [
        "dataset = datasets.CIFAR100(root='data/', train=True, download=True)"
      ],
      "metadata": {
        "colab": {
          "base_uri": "https://localhost:8080/",
          "height": 84,
          "referenced_widgets": [
            "dd55b004f57c4865a8763f12cb03f9e9",
            "05a60fe1336341a0a21021daa6be0893",
            "7aef20e3ea2c4e8f80cd00fa9e25cc92",
            "34f498e64e56419dbf591e46d110714e",
            "354665b83f764d9c8dc83f58f186b17b",
            "13152d0f0c6f409dabacb7571089349a",
            "214400583b5b47ac89490f12f3b5ce69",
            "927f6f9852ba485e948e9a0e3a748dc4",
            "38667948a4d346f493261746a86fd84c",
            "035c7203e94842d4b56d8b6fe3fef76a",
            "7ad2d1c8124f4cdd8deec7de51ffe3d4"
          ]
        },
        "id": "2j_xjS21WGk3",
        "outputId": "24ed11c1-5de8-4ae7-daeb-d84d1456acf2"
      },
      "execution_count": 6,
      "outputs": [
        {
          "output_type": "stream",
          "name": "stdout",
          "text": [
            "Downloading https://www.cs.toronto.edu/~kriz/cifar-100-python.tar.gz to data/cifar-100-python.tar.gz\n"
          ]
        },
        {
          "output_type": "display_data",
          "data": {
            "text/plain": [
              "  0%|          | 0/169001437 [00:00<?, ?it/s]"
            ],
            "application/vnd.jupyter.widget-view+json": {
              "version_major": 2,
              "version_minor": 0,
              "model_id": "dd55b004f57c4865a8763f12cb03f9e9"
            }
          },
          "metadata": {}
        },
        {
          "output_type": "stream",
          "name": "stdout",
          "text": [
            "Extracting data/cifar-100-python.tar.gz to data/\n"
          ]
        }
      ]
    },
    {
      "cell_type": "code",
      "source": [
        "trans_actions = transforms.Compose([transforms.Resize(44),\n",
        "                                    transforms.RandomCrop(32, padding=4), \n",
        "                                    transforms.ToTensor()])"
      ],
      "metadata": {
        "id": "0VnyOhJE9wca"
      },
      "execution_count": 7,
      "outputs": []
    },
    {
      "cell_type": "code",
      "source": [
        "train_dataset, valid_dataset = train_valid_split(dataset)"
      ],
      "metadata": {
        "id": "_Syfyk11993_"
      },
      "execution_count": 8,
      "outputs": []
    },
    {
      "cell_type": "code",
      "source": [
        "train_dataset = MyOwnCifar(train_dataset, trans_actions)\n",
        "valid_dataset = MyOwnCifar(valid_dataset, transforms.ToTensor())"
      ],
      "metadata": {
        "id": "9YGsPC2G-LBw"
      },
      "execution_count": 9,
      "outputs": []
    },
    {
      "cell_type": "code",
      "source": [
        "train_loader = torch.utils.data.DataLoader(train_dataset,\n",
        "                                           batch_size=128,\n",
        "                                           shuffle=True,\n",
        "                                           num_workers=2)\n",
        "valid_loader = torch.utils.data.DataLoader(valid_dataset,\n",
        "                                           batch_size=128,\n",
        "                                           shuffle=False,\n",
        "                                           num_workers=1)"
      ],
      "metadata": {
        "id": "7IkseQgj-Ei_"
      },
      "execution_count": 10,
      "outputs": []
    },
    {
      "cell_type": "code",
      "source": [
        "files = os.listdir('data/cifar-100-python')\n",
        "print(files)"
      ],
      "metadata": {
        "colab": {
          "base_uri": "https://localhost:8080/"
        },
        "id": "xNG9Gf5u5biE",
        "outputId": "58b9cc52-5850-4303-f9c0-199818059345"
      },
      "execution_count": 11,
      "outputs": [
        {
          "output_type": "stream",
          "name": "stdout",
          "text": [
            "['meta', 'file.txt~', 'train', 'test']\n"
          ]
        }
      ]
    },
    {
      "cell_type": "code",
      "source": [
        "data_cifar100 = load_labels_name('data/cifar-100-python/meta')"
      ],
      "metadata": {
        "id": "oJtbgEzc3L_d"
      },
      "execution_count": 12,
      "outputs": []
    },
    {
      "cell_type": "code",
      "source": [
        "classes_cifar100 = data_cifar100['fine_label_names']"
      ],
      "metadata": {
        "id": "9TD9WAIf3sdE"
      },
      "execution_count": 13,
      "outputs": []
    },
    {
      "cell_type": "code",
      "source": [
        "for img, lbl in train_loader:\n",
        "    print(img.shape)\n",
        "    print(classes_cifar100[lbl[0]])\n",
        "    plt.imshow(img[0].permute(1, 2, 0))\n",
        "    break"
      ],
      "metadata": {
        "colab": {
          "base_uri": "https://localhost:8080/",
          "height": 301
        },
        "id": "0afGnfQlC1O-",
        "outputId": "05bd5852-26ff-4225-b5f0-2bcf7e5be909"
      },
      "execution_count": 14,
      "outputs": [
        {
          "output_type": "stream",
          "name": "stdout",
          "text": [
            "torch.Size([128, 3, 32, 32])\n",
            "man\n"
          ]
        },
        {
          "output_type": "display_data",
          "data": {
            "text/plain": [
              "<Figure size 432x288 with 1 Axes>"
            ],
            "image/png": "[encoded data removed]"
          },
          "metadata": {
            "needs_background": "light"
          }
        }
      ]
    },
    {
      "cell_type": "code",
      "source": [
        "device = 'cuda' if torch.cuda.is_available() else 'cpu'\n",
        "device"
      ],
      "metadata": {
        "colab": {
          "base_uri": "https://localhost:8080/",
          "height": 35
        },
        "id": "30kbZR_jEt1w",
        "outputId": "ad1d15b9-88e1-4264-fe61-d2ebc76a77ee"
      },
      "execution_count": 15,
      "outputs": [
        {
          "output_type": "execute_result",
          "data": {
            "text/plain": [
              "'cuda'"
            ],
            "application/vnd.google.colaboratory.intrinsic+json": {
              "type": "string"
            }
          },
          "metadata": {},
          "execution_count": 15
        }
      ]
    },
    {
      "cell_type": "code",
      "source": [
        "class Net(nn.Module):\n",
        "    def __init__(self):\n",
        "        super(Net, self).__init__()\n",
        "        self.dp_one = nn.Dropout(0.2)\n",
        "        self.dp_two = nn.Dropout(0.2)\n",
        "        \n",
        "        self.bn_one = torch.nn.BatchNorm2d(3) \n",
        "        self.conv_one = torch.nn.Conv2d(3, 30, 3)\n",
        "        self.bn_two = torch.nn.BatchNorm2d(30) \n",
        "        self.conv_two = torch.nn.Conv2d(30, 60, 3)\n",
        "        self.bn_three = torch.nn.BatchNorm2d(60)\n",
        "        self.conv_three = torch.nn.Conv2d(60, 120, 3)\n",
        "        self.bn_four = torch.nn.BatchNorm2d(120)\n",
        "        self.fc1 = torch.nn.Linear(480, 200)\n",
        "        self.fc2 = torch.nn.Linear(200, 160)\n",
        "        self.out = torch.nn.Linear(160, 100)\n",
        "        \n",
        "    def forward(self, x):\n",
        "        x = self.bn_one(x)\n",
        "        x = self.conv_one(x)\n",
        "        x = F.relu(x)\n",
        "        x = F.max_pool2d(x, 2)\n",
        "        \n",
        "        x = self.bn_two(x)\n",
        "        x = self.conv_two(x)\n",
        "        x = F.relu(x)\n",
        "        x = F.max_pool2d(x, 2)\n",
        "        \n",
        "        x = self.bn_three(x)\n",
        "        x = self.conv_three(x)\n",
        "        x = F.leaky_relu(x, 0.1)\n",
        "        x = F.max_pool2d(x, 2)\n",
        "        \n",
        "        x = self.bn_four(x)\n",
        "        x = x.view(x.size(0), -1)\n",
        "        x = self.dp_one(x)\n",
        "        x = self.fc1(x)\n",
        "        x = F.relu(x)\n",
        "        x = self.dp_two(x)\n",
        "        x = self.fc2(x)\n",
        "        x = F.relu(x)\n",
        "        return self.out(x)"
      ],
      "metadata": {
        "id": "X6mMR7zSC33G"
      },
      "execution_count": 16,
      "outputs": []
    },
    {
      "cell_type": "code",
      "source": [
        "net = Net()\n",
        "print(net)"
      ],
      "metadata": {
        "colab": {
          "base_uri": "https://localhost:8080/"
        },
        "id": "DaH1t2S-ewTU",
        "outputId": "f7efef87-8b51-424b-9c0a-0e3b538fa351"
      },
      "execution_count": 17,
      "outputs": [
        {
          "output_type": "stream",
          "name": "stdout",
          "text": [
            "Net(\n",
            "  (dp_one): Dropout(p=0.2, inplace=False)\n",
            "  (dp_two): Dropout(p=0.2, inplace=False)\n",
            "  (bn_one): BatchNorm2d(3, eps=1e-05, momentum=0.1, affine=True, track_running_stats=True)\n",
            "  (conv_one): Conv2d(3, 30, kernel_size=(3, 3), stride=(1, 1))\n",
            "  (bn_two): BatchNorm2d(30, eps=1e-05, momentum=0.1, affine=True, track_running_stats=True)\n",
            "  (conv_two): Conv2d(30, 60, kernel_size=(3, 3), stride=(1, 1))\n",
            "  (bn_three): BatchNorm2d(60, eps=1e-05, momentum=0.1, affine=True, track_running_stats=True)\n",
            "  (conv_three): Conv2d(60, 120, kernel_size=(3, 3), stride=(1, 1))\n",
            "  (bn_four): BatchNorm2d(120, eps=1e-05, momentum=0.1, affine=True, track_running_stats=True)\n",
            "  (fc1): Linear(in_features=480, out_features=200, bias=True)\n",
            "  (fc2): Linear(in_features=200, out_features=160, bias=True)\n",
            "  (out): Linear(in_features=160, out_features=100, bias=True)\n",
            ")\n"
          ]
        }
      ]
    },
    {
      "cell_type": "code",
      "source": [
        "optimizer = torch.optim.Adam(net.parameters(), lr=0.001)\n",
        "criterion = nn.CrossEntropyLoss()"
      ],
      "metadata": {
        "id": "Ac-nIo74DGUw"
      },
      "execution_count": 18,
      "outputs": []
    },
    {
      "cell_type": "code",
      "source": [
        "summary(net.to(device), input_size=(3, 32, 32))"
      ],
      "metadata": {
        "colab": {
          "base_uri": "https://localhost:8080/"
        },
        "id": "cBW8lvm1DHI1",
        "outputId": "b679166a-7eb3-413a-db5d-08b87b99a59b"
      },
      "execution_count": 19,
      "outputs": [
        {
          "output_type": "stream",
          "name": "stdout",
          "text": [
            "----------------------------------------------------------------\n",
            "        Layer (type)               Output Shape         Param #\n",
            "================================================================\n",
            "       BatchNorm2d-1            [-1, 3, 32, 32]               6\n",
            "            Conv2d-2           [-1, 30, 30, 30]             840\n",
            "       BatchNorm2d-3           [-1, 30, 15, 15]              60\n",
            "            Conv2d-4           [-1, 60, 13, 13]          16,260\n",
            "       BatchNorm2d-5             [-1, 60, 6, 6]             120\n",
            "            Conv2d-6            [-1, 120, 4, 4]          64,920\n",
            "       BatchNorm2d-7            [-1, 120, 2, 2]             240\n",
            "           Dropout-8                  [-1, 480]               0\n",
            "            Linear-9                  [-1, 200]          96,200\n",
            "          Dropout-10                  [-1, 200]               0\n",
            "           Linear-11                  [-1, 160]          32,160\n",
            "           Linear-12                  [-1, 100]          16,100\n",
            "================================================================\n",
            "Total params: 226,906\n",
            "Trainable params: 226,906\n",
            "Non-trainable params: 0\n",
            "----------------------------------------------------------------\n",
            "Input size (MB): 0.01\n",
            "Forward/backward pass size (MB): 0.40\n",
            "Params size (MB): 0.87\n",
            "Estimated Total Size (MB): 1.28\n",
            "----------------------------------------------------------------\n"
          ]
        }
      ]
    },
    {
      "cell_type": "code",
      "source": [
        "num_epochs = 25\n",
        "net.train()"
      ],
      "metadata": {
        "colab": {
          "base_uri": "https://localhost:8080/"
        },
        "id": "ZbqzRNEIZ5aS",
        "outputId": "1611eb7a-8c1f-4db4-d612-df59ecf4f99e"
      },
      "execution_count": 22,
      "outputs": [
        {
          "output_type": "execute_result",
          "data": {
            "text/plain": [
              "Net(\n",
              "  (dp_one): Dropout(p=0.2, inplace=False)\n",
              "  (dp_two): Dropout(p=0.2, inplace=False)\n",
              "  (bn_one): BatchNorm2d(3, eps=1e-05, momentum=0.1, affine=True, track_running_stats=True)\n",
              "  (conv_one): Conv2d(3, 30, kernel_size=(3, 3), stride=(1, 1))\n",
              "  (bn_two): BatchNorm2d(30, eps=1e-05, momentum=0.1, affine=True, track_running_stats=True)\n",
              "  (conv_two): Conv2d(30, 60, kernel_size=(3, 3), stride=(1, 1))\n",
              "  (bn_three): BatchNorm2d(60, eps=1e-05, momentum=0.1, affine=True, track_running_stats=True)\n",
              "  (conv_three): Conv2d(60, 120, kernel_size=(3, 3), stride=(1, 1))\n",
              "  (bn_four): BatchNorm2d(120, eps=1e-05, momentum=0.1, affine=True, track_running_stats=True)\n",
              "  (fc1): Linear(in_features=480, out_features=200, bias=True)\n",
              "  (fc2): Linear(in_features=200, out_features=160, bias=True)\n",
              "  (out): Linear(in_features=160, out_features=100, bias=True)\n",
              ")"
            ]
          },
          "metadata": {},
          "execution_count": 22
        }
      ]
    },
    {
      "cell_type": "code",
      "source": [
        "for epoch in range(num_epochs):  \n",
        "    running_loss, running_items, running_right = 0.0, 0.0, 0.0\n",
        "    for i, data in enumerate(train_loader, 0):\n",
        "        inputs, labels = data[0].to(device), data[1].to(device)\n",
        "\n",
        "        # обнуляем градиент\n",
        "        optimizer.zero_grad()\n",
        "\n",
        "        outputs = net(inputs)\n",
        "        loss = criterion(outputs, labels)\n",
        "        loss.backward()\n",
        "        optimizer.step()\n",
        "\n",
        "        # выводим статистику о процессе обучения\n",
        "        running_loss += loss.item()\n",
        "        running_items += len(labels)\n",
        "        running_right += (labels  == torch.max(outputs, 1)[1]).sum()\n",
        "        \n",
        "        # выводим статистику о процессе обучения\n",
        "        if i % 300 == 0:    # печатаем каждые 300 mini-batches\n",
        "            net.eval()\n",
        "            \n",
        "            print(f'Epoch [{epoch + 1}/{num_epochs}]. ' \\\n",
        "                  f'Step [{i + 1}/{len(train_loader)}]. ' \\\n",
        "                  f'Loss: {running_loss / running_items:.3f}. ' \\\n",
        "                  f'Acc: {running_right / running_items:.3f}', end='. ')\n",
        "            running_loss, running_items, running_right = 0.0, 0.0, 0.0\n",
        "\n",
        "            test_running_right, test_running_total = 0.0, 0.0\n",
        "            for i, data in enumerate(valid_loader, 0):\n",
        "            \n",
        "                test_outputs = net(data[0].to(device))\n",
        "                test_running_total += len(data[1])\n",
        "                test_running_right += (data[1].to(device) == torch.max(test_outputs, 1)[1]).sum()\n",
        "            \n",
        "            print(f'Test acc: {test_running_right / test_running_total:.3f}')\n",
        "        \n",
        "        net.train()\n",
        "        \n",
        "print('Training is finished!')"
      ],
      "metadata": {
        "colab": {
          "base_uri": "https://localhost:8080/"
        },
        "id": "TTDd9p1vDQAY",
        "outputId": "24f55195-8ec7-4a60-a964-f5152858c180"
      },
      "execution_count": 24,
      "outputs": [
        {
          "output_type": "stream",
          "name": "stdout",
          "text": [
            "Epoch [1/25]. Step [1/372]. Loss: 0.019. Acc: 0.289. Test acc: 0.240\n",
            "Epoch [1/25]. Step [301/372]. Loss: 0.020. Acc: 0.341. Test acc: 0.264\n",
            "Epoch [2/25]. Step [1/372]. Loss: 0.016. Acc: 0.383. Test acc: 0.275\n",
            "Epoch [2/25]. Step [301/372]. Loss: 0.020. Acc: 0.343. Test acc: 0.276\n",
            "Epoch [3/25]. Step [1/372]. Loss: 0.021. Acc: 0.297. Test acc: 0.244\n",
            "Epoch [3/25]. Step [301/372]. Loss: 0.020. Acc: 0.339. Test acc: 0.275\n",
            "Epoch [4/25]. Step [1/372]. Loss: 0.021. Acc: 0.383. Test acc: 0.276\n",
            "Epoch [4/25]. Step [301/372]. Loss: 0.020. Acc: 0.345. Test acc: 0.275\n",
            "Epoch [5/25]. Step [1/372]. Loss: 0.019. Acc: 0.383. Test acc: 0.272\n",
            "Epoch [5/25]. Step [301/372]. Loss: 0.020. Acc: 0.344. Test acc: 0.284\n",
            "Epoch [6/25]. Step [1/372]. Loss: 0.018. Acc: 0.414. Test acc: 0.286\n",
            "Epoch [6/25]. Step [301/372]. Loss: 0.020. Acc: 0.349. Test acc: 0.265\n",
            "Epoch [7/25]. Step [1/372]. Loss: 0.022. Acc: 0.297. Test acc: 0.271\n",
            "Epoch [7/25]. Step [301/372]. Loss: 0.020. Acc: 0.351. Test acc: 0.288\n",
            "Epoch [8/25]. Step [1/372]. Loss: 0.019. Acc: 0.398. Test acc: 0.278\n",
            "Epoch [8/25]. Step [301/372]. Loss: 0.020. Acc: 0.349. Test acc: 0.292\n",
            "Epoch [9/25]. Step [1/372]. Loss: 0.018. Acc: 0.336. Test acc: 0.266\n",
            "Epoch [9/25]. Step [301/372]. Loss: 0.020. Acc: 0.353. Test acc: 0.304\n",
            "Epoch [10/25]. Step [1/372]. Loss: 0.020. Acc: 0.383. Test acc: 0.292\n",
            "Epoch [10/25]. Step [301/372]. Loss: 0.020. Acc: 0.352. Test acc: 0.272\n",
            "Epoch [11/25]. Step [1/372]. Loss: 0.018. Acc: 0.391. Test acc: 0.282\n",
            "Epoch [11/25]. Step [301/372]. Loss: 0.019. Acc: 0.355. Test acc: 0.288\n",
            "Epoch [12/25]. Step [1/372]. Loss: 0.019. Acc: 0.352. Test acc: 0.288\n",
            "Epoch [12/25]. Step [301/372]. Loss: 0.019. Acc: 0.354. Test acc: 0.300\n",
            "Epoch [13/25]. Step [1/372]. Loss: 0.017. Acc: 0.375. Test acc: 0.268\n",
            "Epoch [13/25]. Step [301/372]. Loss: 0.019. Acc: 0.354. Test acc: 0.281\n",
            "Epoch [14/25]. Step [1/372]. Loss: 0.017. Acc: 0.375. Test acc: 0.278\n",
            "Epoch [14/25]. Step [301/372]. Loss: 0.019. Acc: 0.356. Test acc: 0.288\n",
            "Epoch [15/25]. Step [1/372]. Loss: 0.019. Acc: 0.359. Test acc: 0.269\n",
            "Epoch [15/25]. Step [301/372]. Loss: 0.019. Acc: 0.358. Test acc: 0.284\n",
            "Epoch [16/25]. Step [1/372]. Loss: 0.019. Acc: 0.367. Test acc: 0.283\n",
            "Epoch [16/25]. Step [301/372]. Loss: 0.019. Acc: 0.365. Test acc: 0.270\n",
            "Epoch [17/25]. Step [1/372]. Loss: 0.020. Acc: 0.328. Test acc: 0.287\n",
            "Epoch [17/25]. Step [301/372]. Loss: 0.019. Acc: 0.363. Test acc: 0.285\n",
            "Epoch [18/25]. Step [1/372]. Loss: 0.017. Acc: 0.422. Test acc: 0.274\n",
            "Epoch [18/25]. Step [301/372]. Loss: 0.019. Acc: 0.364. Test acc: 0.284\n",
            "Epoch [19/25]. Step [1/372]. Loss: 0.021. Acc: 0.344. Test acc: 0.278\n",
            "Epoch [19/25]. Step [301/372]. Loss: 0.019. Acc: 0.363. Test acc: 0.292\n",
            "Epoch [20/25]. Step [1/372]. Loss: 0.020. Acc: 0.414. Test acc: 0.274\n",
            "Epoch [20/25]. Step [301/372]. Loss: 0.019. Acc: 0.365. Test acc: 0.280\n",
            "Epoch [21/25]. Step [1/372]. Loss: 0.019. Acc: 0.383. Test acc: 0.301\n",
            "Epoch [21/25]. Step [301/372]. Loss: 0.019. Acc: 0.367. Test acc: 0.288\n",
            "Epoch [22/25]. Step [1/372]. Loss: 0.016. Acc: 0.453. Test acc: 0.280\n",
            "Epoch [22/25]. Step [301/372]. Loss: 0.019. Acc: 0.368. Test acc: 0.292\n",
            "Epoch [23/25]. Step [1/372]. Loss: 0.019. Acc: 0.305. Test acc: 0.273\n",
            "Epoch [23/25]. Step [301/372]. Loss: 0.019. Acc: 0.368. Test acc: 0.283\n",
            "Epoch [24/25]. Step [1/372]. Loss: 0.017. Acc: 0.438. Test acc: 0.292\n",
            "Epoch [24/25]. Step [301/372]. Loss: 0.019. Acc: 0.373. Test acc: 0.287\n",
            "Epoch [25/25]. Step [1/372]. Loss: 0.019. Acc: 0.391. Test acc: 0.287\n",
            "Epoch [25/25]. Step [301/372]. Loss: 0.019. Acc: 0.374. Test acc: 0.314\n",
            "Training is finished!\n"
          ]
        }
      ]
    },
    {
      "cell_type": "code",
      "source": [
        "valid_loader = torch.utils.data.DataLoader(valid_dataset,\n",
        "                                           batch_size=8,\n",
        "                                           shuffle=True,\n",
        "                                           num_workers=1)"
      ],
      "metadata": {
        "id": "nslF_ynD34iR"
      },
      "execution_count": 58,
      "outputs": []
    },
    {
      "cell_type": "code",
      "source": [
        "data_iter = iter(valid_loader)\n",
        "inputs, labels = data_iter.next()\n",
        "labels = labels.to(device)\n",
        "inputs = inputs.to(device)\n",
        "labels"
      ],
      "metadata": {
        "id": "BBIWWbstDnH9",
        "colab": {
          "base_uri": "https://localhost:8080/"
        },
        "outputId": "1629bb89-bf85-4af3-98cb-e328dde5ed80"
      },
      "execution_count": 59,
      "outputs": [
        {
          "output_type": "execute_result",
          "data": {
            "text/plain": [
              "tensor([84, 22, 53, 30, 98, 49, 68, 59], device='cuda:0')"
            ]
          },
          "metadata": {},
          "execution_count": 59
        }
      ]
    },
    {
      "cell_type": "code",
      "source": [
        "import torchvision"
      ],
      "metadata": {
        "id": "u4d_pq7U0JMj"
      },
      "execution_count": 31,
      "outputs": []
    },
    {
      "cell_type": "code",
      "source": [
        "net.eval()\n",
        "outputs = net(inputs)\n",
        "imgs = torchvision.utils.make_grid(inputs.to('cpu'))\n",
        "plt.figure(figsize=(10, 5))\n",
        "plt.imshow(imgs.permute(1, 2, 0).numpy())\n",
        "print('GroundTruth: ', ' '.join(classes_cifar100[labels[j]] for j in range(len(labels))))"
      ],
      "metadata": {
        "colab": {
          "base_uri": "https://localhost:8080/",
          "height": 141
        },
        "id": "Y5Flku4Pz4kB",
        "outputId": "7d9127ff-21e3-4078-acaf-e4d02408964f"
      },
      "execution_count": 60,
      "outputs": [
        {
          "output_type": "stream",
          "name": "stdout",
          "text": [
            "GroundTruth:  table clock orange dolphin woman mountain road pine_tree\n"
          ]
        },
        {
          "output_type": "display_data",
          "data": {
            "text/plain": [
              "<Figure size 720x360 with 1 Axes>"
            ],
            "image/png": "[encoded data removed]"
          },
          "metadata": {
            "needs_background": "light"
          }
        }
      ]
    },
    {
      "cell_type": "code",
      "source": [
        "print(outputs)"
      ],
      "metadata": {
        "colab": {
          "base_uri": "https://localhost:8080/"
        },
        "id": "bQIQF5GV4UVq",
        "outputId": "a5eff4bf-f0dd-4b65-a087-46372f00ec33"
      },
      "execution_count": 61,
      "outputs": [
        {
          "output_type": "stream",
          "name": "stdout",
          "text": [
            "tensor([[-5.8007e+00, -1.0321e+01, -5.1708e+00, -1.1348e+01, -9.1463e+00,\n",
            "          1.1263e+00, -6.7253e+00, -2.6862e+00, -5.0324e+00, -4.4531e+00,\n",
            "         -8.5426e-01, -1.8505e+00, -5.8314e+00, -7.4330e+00, -4.0379e+00,\n",
            "         -7.8680e-01, -1.2735e+00, -1.4197e+01, -8.4202e+00, -7.4332e+00,\n",
            "          6.9738e+00, -1.1446e+01, -1.4140e-01, -1.6952e+01, -2.3808e-01,\n",
            "         -1.2381e+00, -1.8229e+00, -1.1557e+01,  9.3040e-01,  9.6352e-01,\n",
            "         -1.5582e+01, -9.0109e+00, -8.3542e+00, -1.5100e+01, -4.4694e+00,\n",
            "         -5.1802e+00, -8.3876e+00, -8.5583e+00, -4.8107e+00, -3.6975e+00,\n",
            "          2.0354e+00, -1.4174e+00, -7.1914e+00, -1.4355e+01, -9.0713e-01,\n",
            "         -9.9420e-01, -5.7047e+00, -1.1926e+01, -3.8158e+00, -1.1817e+01,\n",
            "         -3.5677e+00, -4.3658e+00, -2.2260e+01, -6.7821e+00, -1.4156e+00,\n",
            "         -4.2903e+00, -8.4874e+00, -3.6516e+00, -4.1903e+00, -1.0133e+01,\n",
            "         -1.1579e+01, -1.9695e+00, -7.5410e+00, -1.1213e+01, -9.1138e+00,\n",
            "         -5.4332e+00, -7.7492e+00, -8.4096e+00, -1.3984e+01, -5.8192e+00,\n",
            "         -3.3108e+00, -1.4114e+01, -8.1334e+00, -8.2650e+00, -2.9975e+00,\n",
            "         -3.7105e+00, -1.3766e+01, -6.4481e+00, -1.0570e+00, -3.4331e+00,\n",
            "         -1.5272e+01, -1.1828e+01, -8.3480e+00, -4.5475e+00,  5.4473e+00,\n",
            "         -9.1176e+00, -9.7106e-02, -1.8505e+00, -1.0373e+01, -1.0439e+01,\n",
            "         -1.2502e+01, -2.1334e+00, -5.3947e+00, -7.8643e+00, -1.1471e+01,\n",
            "         -5.0999e+00, -1.3310e+01, -7.6145e+00, -4.6713e+00,  1.9029e+00],\n",
            "        [-7.1165e+00, -9.2026e+00, -4.1431e+00, -9.2323e+00, -6.1688e+00,\n",
            "         -4.2404e+00, -5.4634e+00, -1.2911e-01,  1.5143e-01, -3.2571e+00,\n",
            "         -2.8496e+00, -5.8542e-01, -5.2915e+00, -6.1329e+00,  1.1212e+00,\n",
            "         -2.2412e+00, -5.2686e-01, -7.7284e+00, -6.6222e+00, -7.7311e+00,\n",
            "         -4.5526e-01, -9.3299e+00,  1.3709e-02, -1.6996e+01,  1.1418e+00,\n",
            "         -5.3710e+00,  1.9499e+00, -9.5819e+00, -4.1380e+00,  6.9789e-01,\n",
            "         -1.1685e+01, -9.9281e+00, -4.1389e+00, -8.9952e+00, -4.4056e+00,\n",
            "         -4.5225e+00, -7.8232e+00, -5.8723e+00, -3.8841e+00, -3.4047e+00,\n",
            "         -1.6870e+00,  1.0951e+00, -4.6302e+00, -9.3724e+00, -5.1022e+00,\n",
            "          1.3256e+00, -4.7648e+00, -7.3260e+00,  3.1018e+00, -8.6481e+00,\n",
            "         -4.5698e+00, -9.2147e+00, -1.4677e+01, -5.5454e+00, -3.9221e+00,\n",
            "         -1.2637e+00, -6.7557e+00, -2.7140e+00, -4.8383e+00, -7.1228e+00,\n",
            "         -1.4483e+01, -1.2297e+00, -5.4940e+00, -1.2021e+01, -5.9709e+00,\n",
            "         -3.7478e+00, -2.5854e+00, -7.0338e+00, -1.1857e+01, -7.5013e+00,\n",
            "         -2.6360e+00, -1.7868e+01, -4.9984e+00, -8.7389e+00, -4.1436e+00,\n",
            "         -5.0354e+00, -7.6012e+00, -4.4716e+00, -1.3899e+00, -2.7942e+00,\n",
            "         -1.1004e+01, -1.0564e+01, -5.9980e+00, -4.1831e+00, -2.9524e+00,\n",
            "         -5.9485e+00,  1.0508e+00, -3.9257e+00, -3.3019e+00, -4.2789e+00,\n",
            "         -5.8260e+00, -5.4662e+00, -5.5412e+00, -6.4401e+00, -1.2044e+01,\n",
            "         -3.5252e+00, -8.1535e+00, -5.9721e+00, -3.2506e+00, -1.2800e+00],\n",
            "        [-2.6243e+00, -4.2354e+00, -9.8887e-01, -5.5525e+00, -7.1694e+00,\n",
            "          2.7107e-01, -2.1523e+00, -1.4990e+00, -4.1170e+00,  5.9462e-01,\n",
            "          5.7812e-02, -9.1290e-01, -5.2730e+00, -5.6975e+00, -3.5614e+00,\n",
            "         -2.6054e+00,  6.9298e-01, -9.5583e+00, -7.1813e+00, -4.3922e+00,\n",
            "         -1.7677e+00, -1.0557e+01, -5.7247e-01, -5.9175e+00, -3.9961e+00,\n",
            "         -4.1687e-01, -4.8235e+00, -8.3183e+00, -1.4744e+00, -5.4218e+00,\n",
            "         -9.8418e+00, -6.9626e+00, -4.4813e+00, -8.2040e+00, -1.2042e+00,\n",
            "         -4.0115e+00, -3.1341e+00, -8.2137e+00, -3.7622e+00, -2.8776e+00,\n",
            "         -4.8882e-01, -5.8966e+00, -6.0053e+00, -8.5928e+00,  4.0142e-01,\n",
            "         -3.3755e+00, -2.8289e+00, -7.0366e+00, -4.0239e+00, -5.4082e+00,\n",
            "         -2.9227e+00, -7.9801e+00, -1.0989e+01,  2.2606e+00, -6.1255e+00,\n",
            "         -4.8907e+00, -5.0173e+00, -1.9823e+00, -4.6957e+00, -9.9116e+00,\n",
            "         -5.6054e+00, -6.0734e-01,  1.5778e+00, -9.7953e+00, -7.5999e+00,\n",
            "         -2.2669e+00, -8.8211e+00, -5.5325e+00, -8.5183e+00, -3.9031e+00,\n",
            "         -4.4095e+00, -2.0268e+00, -6.4505e+00, -6.3043e+00, -5.1812e+00,\n",
            "         -1.9166e+00, -3.6632e+00, -6.2600e+00, -3.3075e+00, -2.2018e+00,\n",
            "         -1.0212e+01, -6.8755e+00, -3.1688e+00,  9.0318e-01, -2.5855e+00,\n",
            "         -9.9935e+00,  1.2812e-01,  1.1702e+00, -7.3462e+00, -6.9439e+00,\n",
            "         -6.5860e+00, -7.6171e+00, -2.9894e+00, -6.6990e+00,  1.7818e+00,\n",
            "         -7.2404e+00, -1.0825e+01, -1.1637e+01, -2.4243e+00,  8.4438e-01],\n",
            "        [-8.3422e+00, -2.4228e+00, -5.8734e+00, -2.3165e+00,  8.9719e-01,\n",
            "         -5.8073e+00, -8.5898e+00, -2.9649e+00, -6.7725e+00, -3.9831e+00,\n",
            "         -1.0643e+00, -5.3679e+00, -2.5388e+00, -2.4748e+00, -7.3639e+00,\n",
            "         -4.9344e+00, -5.0941e+00, -6.0664e+00, -4.7035e+00, -6.7223e+00,\n",
            "         -7.0724e+00, -5.0012e+00, -3.5566e+00, -2.7287e+00, -3.9792e+00,\n",
            "         -3.7700e+00, -2.1970e+00, -1.8474e+00, -2.8278e+00, -5.2527e+00,\n",
            "          6.3344e+00, -5.8107e+00, -2.8298e+00, -5.7117e+00, -6.2799e+00,\n",
            "         -5.9853e+00, -5.5157e+00, -5.3240e+00, -6.7463e+00, -1.3226e+00,\n",
            "         -2.3860e+00, -6.9916e+00, -7.6370e+00, -1.4134e+01, -3.4218e+00,\n",
            "         -3.3243e+00, -4.9430e+00, -2.6739e+00, -5.8872e+00,  4.5975e-02,\n",
            "         -1.4334e+00, -7.6601e+00, -3.6845e+00, -1.5249e+01, -7.0955e+00,\n",
            "          1.8141e+00, -3.8421e+00, -6.2971e+00, -3.3882e+00, -6.3488e-01,\n",
            "         -4.4950e+00, -5.3035e+00, -8.0044e+00, -5.9205e+00, -4.5988e+00,\n",
            "         -6.8253e+00, -3.2570e+00,  2.9835e+00, -5.5551e+00, -2.9360e+00,\n",
            "         -7.7767e+00,  1.8989e+00,  3.0235e+00,  6.2524e+00, -3.0619e+00,\n",
            "         -1.6532e+00,  5.4051e-01, -7.5978e+00, -2.4866e+00, -4.0046e+00,\n",
            "         -8.8332e+00, -6.0746e+00, -4.8137e+00, -8.6726e+00, -4.9396e+00,\n",
            "         -5.1643e+00, -5.1300e+00, -3.2883e+00, -1.0989e+01, -1.0527e+01,\n",
            "         -4.0465e+00, -2.2063e+00, -7.5139e+00,  2.0263e+00, -8.6371e+00,\n",
            "          6.4331e+00, -4.0421e+00, -5.6718e+00, -4.9601e+00,  2.9653e-01],\n",
            "        [-7.0884e+00, -3.9588e+00,  7.9235e-02, -3.1787e-01,  2.3483e-01,\n",
            "         -1.7262e+00, -1.1257e+00,  3.0160e-01,  2.1721e-03, -3.3742e+00,\n",
            "         -1.8397e+00,  5.2137e-01, -1.1633e+00, -2.5983e+00, -1.4672e+00,\n",
            "         -1.0848e+00, -2.5145e+00, -3.4351e+00, -1.3115e+00, -1.1766e+00,\n",
            "         -3.5720e+00, -8.9940e-01, -1.3345e-01, -3.5805e+00, -1.4693e+00,\n",
            "         -1.7855e+00,  8.3722e-01,  2.8063e-01, -1.6916e+00, -8.8462e-01,\n",
            "         -3.0123e-01, -2.0181e+00, -9.5885e-01, -3.1056e+00, -1.2752e+00,\n",
            "          3.5268e-01, -2.2185e+00, -2.4058e+00, -8.3876e-01,  8.3236e-02,\n",
            "         -1.7169e+00, -3.4846e+00,  7.0396e-01, -1.6964e+00,  5.8556e-01,\n",
            "         -8.5144e-01, -3.0606e-01, -5.0873e+00, -9.5046e-01, -2.4203e+00,\n",
            "         -1.5318e+00, -1.1649e+00, -5.4683e+00, -6.7191e+00, -1.5058e+00,\n",
            "          2.7256e-01, -2.1345e+00, -3.8637e+00, -3.7105e+00, -1.7872e+00,\n",
            "         -5.6523e+00, -8.6158e-01, -4.1224e+00, -1.4775e+00, -1.2555e-01,\n",
            "         -1.9195e+00, -1.7205e+00, -2.7080e+00, -5.0083e+00, -2.3725e+00,\n",
            "         -4.1954e+00, -4.1101e+00, -2.3766e-01, -2.0137e+00, -1.1230e+00,\n",
            "         -2.2933e+00, -3.3170e+00, -8.1136e-01,  5.8691e-01,  2.2955e-01,\n",
            "          9.9950e-02, -3.6435e+00, -3.5524e+00, -6.8742e+00, -2.8507e-01,\n",
            "         -9.5355e-01, -2.2195e+00, -2.3387e+00, -5.4322e-01, -3.4650e+00,\n",
            "         -2.3732e+00, -2.1841e+00, -3.7283e+00,  4.0165e-02, -6.2435e+00,\n",
            "         -2.2773e+00, -3.5205e+00, -2.7596e-02, -4.2579e-02, -1.3647e+00],\n",
            "        [-1.0867e+01, -5.1654e+00, -5.2670e+00, -6.3785e+00, -3.2165e+00,\n",
            "         -2.8395e+00, -7.1326e+00, -3.9383e+00, -1.7043e+00, -5.7524e+00,\n",
            "         -2.0599e+00, -8.2302e+00,  2.2080e+00, -3.1520e+00, -4.6286e+00,\n",
            "         -5.1391e+00, -2.8978e+00, -1.3220e+00, -2.2404e+00, -5.6599e+00,\n",
            "         -5.8917e+00, -6.3026e+00, -2.6325e+00, -4.0188e+00, -6.0879e+00,\n",
            "         -2.0758e+00, -1.9033e+00,  2.5631e-01, -5.7759e+00, -1.4001e+00,\n",
            "         -2.7887e+00, -3.6972e+00, -1.2654e+00, -4.5613e-01, -5.7789e+00,\n",
            "         -7.2254e+00, -7.5959e+00,  7.4156e-01, -5.0358e+00,  6.0332e-01,\n",
            "         -2.6420e+00, -4.7353e+00, -2.2796e+00, -8.5640e+00, -2.3385e+00,\n",
            "         -4.3800e+00, -4.5324e+00, -4.2774e+00, -3.2303e+00,  3.8377e+00,\n",
            "         -4.0029e+00, -5.3684e+00, -1.7746e+00, -1.3741e+01, -9.6521e+00,\n",
            "         -2.4109e+00, -3.2837e+00, -6.7197e+00, -4.5227e+00, -1.6821e+00,\n",
            "         -2.2350e-01, -3.0514e-01, -1.0092e+01, -1.6203e+00, -4.7358e+00,\n",
            "         -4.7309e+00, -4.3319e+00, -2.0876e+00,  2.2105e+00, -2.5202e+00,\n",
            "         -5.5965e+00, -1.3608e+00, -1.3704e+00, -1.8509e+00, -4.6565e+00,\n",
            "         -4.3010e+00,  1.4129e+00, -3.4338e+00, -1.8025e+00, -4.2462e+00,\n",
            "         -6.0033e+00, -2.2309e+00, -5.6168e+00, -1.0958e+01, -5.6260e+00,\n",
            "          1.0573e+00, -2.0910e+00, -4.2933e+00, -6.5317e+00, -3.2854e+00,\n",
            "          1.4269e+00, -1.5696e+00, -8.8573e+00, -9.4875e-01, -1.2038e+01,\n",
            "         -4.9514e-01, -2.0994e+00, -5.1873e+00, -6.3745e+00, -2.2181e+00],\n",
            "        [-1.0900e+01, -2.8681e+00, -3.4393e+00, -5.0507e-01,  9.8151e-01,\n",
            "         -2.9664e+00, -5.4204e+00, -2.6262e+00, -1.8334e+00, -3.7924e+00,\n",
            "         -1.8179e+00, -2.8690e+00,  1.2489e+00,  3.3429e-01, -4.2376e+00,\n",
            "         -3.3943e+00, -3.4546e+00, -2.3679e+00, -3.1221e+00, -2.8762e+00,\n",
            "         -5.8122e+00, -3.0144e+00, -3.4834e+00, -2.2802e+00, -2.4477e+00,\n",
            "         -1.4791e+00, -2.5591e+00, -5.8637e-01, -3.0033e+00, -2.5132e+00,\n",
            "          1.6853e+00, -3.3119e+00, -2.8779e+00, -2.9438e+00, -3.5385e+00,\n",
            "         -2.9178e+00, -6.0507e+00, -1.7782e+00, -3.6473e+00, -2.0232e+00,\n",
            "         -8.9016e-01, -2.3936e+00, -4.2512e+00, -8.9700e+00, -1.9671e+00,\n",
            "         -2.4641e+00, -2.4469e+00, -3.6147e+00, -6.1525e-01,  1.3640e+00,\n",
            "         -4.1831e+00, -7.0885e+00, -3.2460e+00, -1.3249e+01, -6.5381e+00,\n",
            "          1.4972e+00, -1.7046e+00, -5.6365e+00,  1.1158e+00,  7.6267e-02,\n",
            "         -2.1368e+00, -4.2801e+00, -6.1858e+00, -4.6342e+00, -4.4260e+00,\n",
            "         -3.3463e+00, -4.6641e+00, -1.9620e+00, -3.9912e-01, -3.5506e-01,\n",
            "         -7.0042e+00,  2.4489e+00,  1.1108e+00, -2.3595e-01, -3.8308e+00,\n",
            "         -2.9946e+00, -8.1867e-01, -3.4503e+00, -2.4766e+00, -3.7488e+00,\n",
            "         -4.6495e+00, -7.8453e-01, -2.9646e+00, -9.3212e+00, -3.4173e+00,\n",
            "         -1.1579e+00, -3.1366e+00, -1.9871e+00, -5.4513e+00, -2.6469e+00,\n",
            "          7.2334e-01, -2.9606e+00, -7.9863e+00, -9.3381e-01, -9.8564e+00,\n",
            "          3.4629e+00, -4.5562e+00, -4.6010e+00, -4.3162e+00, -3.7473e+00],\n",
            "        [-9.4671e+00, -7.6340e+00, -7.1311e+00, -4.9606e+00, -2.2997e+00,\n",
            "         -6.6736e+00, -1.7520e+00, -2.8912e+00, -1.9460e+00, -9.4571e+00,\n",
            "         -1.9674e+00, -6.3782e+00, -4.0812e-01, -4.3495e+00, -1.5999e+00,\n",
            "         -6.3343e+00, -3.6221e+00, -3.0562e+00, -3.0489e+00, -7.0684e+00,\n",
            "         -7.6746e+00, -8.5560e+00, -1.8424e+00, -8.4250e+00, -5.1941e+00,\n",
            "         -4.8552e+00, -3.6145e+00, -2.4218e+00, -5.7355e+00,  1.4469e+00,\n",
            "         -1.0352e+01, -3.8243e+00, -2.1347e+00,  1.5772e+00, -6.7733e+00,\n",
            "         -7.7856e+00, -7.4392e+00, -1.2502e+00, -4.5734e+00, -9.5521e-02,\n",
            "         -6.1706e+00, -4.5671e+00,  1.9309e+00, -7.4322e+00, -4.2246e+00,\n",
            "         -5.0823e+00, -7.7326e+00,  4.8567e+00, -3.9635e+00, -1.3884e+00,\n",
            "         -5.0549e+00, -5.7850e-01,  5.5278e+00, -6.8514e+00, -7.3181e+00,\n",
            "         -3.8155e+00,  1.4912e+00, -4.3811e+00, -7.6590e+00,  4.9244e+00,\n",
            "         -1.3515e+00, -1.9315e+00, -6.4392e+00,  2.0220e+00, -4.9781e+00,\n",
            "         -7.1911e+00, -2.6029e+00, -3.5807e+00, -4.1370e+00, -6.9465e+00,\n",
            "         -2.2065e+00, -3.8135e+00, -2.8924e+00, -7.2171e+00, -5.0924e+00,\n",
            "         -4.2423e+00, -2.8040e+00, -1.8878e+00, -1.5584e-01, -2.9417e+00,\n",
            "         -4.4059e+00, -3.5884e+00, -1.0755e-01, -6.3137e+00, -6.4237e+00,\n",
            "         -7.6926e-01, -5.9535e+00, -7.1715e+00, -4.6841e+00, -2.6875e+00,\n",
            "         -3.7060e+00, -4.6122e+00, -5.6789e+00,  7.5260e-01, -1.0356e+01,\n",
            "         -9.6934e+00,  2.8238e+00, -5.9203e+00, -5.7619e+00, -4.7252e+00]],\n",
            "       device='cuda:0', grad_fn=<AddmmBackward0>)\n"
          ]
        }
      ]
    },
    {
      "cell_type": "code",
      "source": [
        "_, predicted = torch.max(outputs, 1)\n",
        "\n",
        "predicted"
      ],
      "metadata": {
        "colab": {
          "base_uri": "https://localhost:8080/"
        },
        "id": "bMbOJP8H4n6W",
        "outputId": "50ebf221-6169-43c6-c3f5-0347f25ff3a2"
      },
      "execution_count": 62,
      "outputs": [
        {
          "output_type": "execute_result",
          "data": {
            "text/plain": [
              "tensor([20, 48, 53, 95, 26, 49, 95, 52], device='cuda:0')"
            ]
          },
          "metadata": {},
          "execution_count": 62
        }
      ]
    },
    {
      "cell_type": "code",
      "source": [
        "print('Predicted: ', ' '.join(classes_cifar100[predicted[j]] for j in range(len(labels))))"
      ],
      "metadata": {
        "colab": {
          "base_uri": "https://localhost:8080/"
        },
        "id": "oH76ng7w4sZn",
        "outputId": "e01c924e-23d2-494c-e4cf-b5a6a7bb81c7"
      },
      "execution_count": 63,
      "outputs": [
        {
          "output_type": "stream",
          "name": "stdout",
          "text": [
            "Predicted:  chair motorcycle orange whale crab mountain whale oak_tree\n"
          ]
        }
      ]
    },
    {
      "cell_type": "code",
      "source": [
        "gt = np.array([classes_cifar100[labels[j]] for j in range(len(labels))])\n",
        "pred = np.array([classes_cifar100[predicted[j]] for j in range(len(labels))])\n",
        "\n",
        "print(gt)\n",
        "print(pred)\n",
        "print(f'Accuracy is {(gt == pred).sum() / len(gt):.4f}')"
      ],
      "metadata": {
        "id": "pXnpLddxDnyW",
        "colab": {
          "base_uri": "https://localhost:8080/"
        },
        "outputId": "bfa271ce-5715-446f-c98c-7c4066f1ec95"
      },
      "execution_count": 64,
      "outputs": [
        {
          "output_type": "stream",
          "name": "stdout",
          "text": [
            "['table' 'clock' 'orange' 'dolphin' 'woman' 'mountain' 'road' 'pine_tree']\n",
            "['chair' 'motorcycle' 'orange' 'whale' 'crab' 'mountain' 'whale'\n",
            " 'oak_tree']\n",
            "Accuracy is 0.2500\n"
          ]
        }
      ]
    },
    {
      "cell_type": "code",
      "source": [],
      "metadata": {
        "id": "etcEIS5eD4TN"
      },
      "execution_count": null,
      "outputs": []
    }
  ]
}