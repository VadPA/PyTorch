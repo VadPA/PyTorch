{
  "nbformat": 4,
  "nbformat_minor": 0,
  "metadata": {
    "colab": {
      "provenance": [],
      "authorship_tag": "ABX9TyNUWI0vZpIs2q0REXpWl+uB",
      "include_colab_link": true
    },
    "kernelspec": {
      "name": "python3",
      "display_name": "Python 3"
    },
    "language_info": {
      "name": "python"
    },
    "gpuClass": "standard",
    "accelerator": "GPU"
  },
  "cells": [
    {
      "cell_type": "markdown",
      "metadata": {
        "id": "view-in-github",
        "colab_type": "text"
      },
      "source": [
        "<a href=\"https://colab.research.google.com/github/VadPA/PyTorch/blob/master/Lesson_4_hw_v2.ipynb\" target=\"_parent\"><img src=\"https://colab.research.google.com/assets/colab-badge.svg\" alt=\"Open In Colab\"/></a>"
      ]
    },
    {
      "cell_type": "code",
      "execution_count": 65,
      "metadata": {
        "id": "OtfO0KgiqntQ"
      },
      "outputs": [],
      "source": [
        "import numpy as np\n",
        "import torch\n",
        "\n",
        "from torch import nn\n",
        "from torch.nn import functional as F\n",
        "from PIL import Image\n",
        "from torchvision import transforms, datasets\n",
        "from tqdm import tqdm\n",
        "\n",
        "from sklearn.model_selection import train_test_split\n",
        "import pickle\n",
        "import os"
      ]
    },
    {
      "cell_type": "code",
      "source": [
        "import matplotlib.pyplot as plt\n",
        "from torchsummary import summary"
      ],
      "metadata": {
        "id": "JBVjFbRzCh6p"
      },
      "execution_count": 66,
      "outputs": []
    },
    {
      "cell_type": "code",
      "source": [
        "def load_labels_name(filename):\n",
        "    with open(filename, 'rb') as f:\n",
        "        obj = pickle.load(f)\n",
        "    return obj"
      ],
      "metadata": {
        "id": "IO3XH5Xo24Cv"
      },
      "execution_count": 67,
      "outputs": []
    },
    {
      "cell_type": "code",
      "source": [
        "def train_valid_split(Xt):\n",
        "    X_train, X_test = train_test_split(Xt, test_size=0.05, random_state=13)\n",
        "    return X_train, X_test"
      ],
      "metadata": {
        "id": "2ya6Cczf98Qg"
      },
      "execution_count": 68,
      "outputs": []
    },
    {
      "cell_type": "code",
      "source": [
        "class MyOwnCifar(torch.utils.data.Dataset):\n",
        "   \n",
        "    def __init__(self, init_dataset, transform=None):\n",
        "        self._base_dataset = init_dataset\n",
        "        self.transform = transform\n",
        "\n",
        "    def __len__(self):\n",
        "        return len(self._base_dataset)\n",
        "\n",
        "    def __getitem__(self, idx):\n",
        "        img = self._base_dataset[idx][0]\n",
        "        if self.transform is not None:\n",
        "            img = self.transform(img)\n",
        "        return img, self._base_dataset[idx][1]"
      ],
      "metadata": {
        "id": "pHKYhqkLqx8B"
      },
      "execution_count": 69,
      "outputs": []
    },
    {
      "cell_type": "code",
      "source": [
        "dataset = datasets.CIFAR100(root='data/', train=True, download=True)"
      ],
      "metadata": {
        "colab": {
          "base_uri": "https://localhost:8080/"
        },
        "id": "2j_xjS21WGk3",
        "outputId": "6876fa3d-2312-4b30-d50c-db12448129cf"
      },
      "execution_count": 70,
      "outputs": [
        {
          "output_type": "stream",
          "name": "stdout",
          "text": [
            "Files already downloaded and verified\n"
          ]
        }
      ]
    },
    {
      "cell_type": "code",
      "source": [
        "trans_actions = transforms.Compose([transforms.Resize(44),\n",
        "                                    transforms.RandomCrop(32, padding=4), \n",
        "                                    transforms.ToTensor()])"
      ],
      "metadata": {
        "id": "0VnyOhJE9wca"
      },
      "execution_count": 71,
      "outputs": []
    },
    {
      "cell_type": "code",
      "source": [
        "train_dataset, valid_dataset = train_valid_split(dataset)"
      ],
      "metadata": {
        "id": "_Syfyk11993_"
      },
      "execution_count": 72,
      "outputs": []
    },
    {
      "cell_type": "code",
      "source": [
        "train_dataset = MyOwnCifar(train_dataset, trans_actions)\n",
        "valid_dataset = MyOwnCifar(valid_dataset, transforms.ToTensor())"
      ],
      "metadata": {
        "id": "9YGsPC2G-LBw"
      },
      "execution_count": 73,
      "outputs": []
    },
    {
      "cell_type": "code",
      "source": [
        "train_loader = torch.utils.data.DataLoader(train_dataset,\n",
        "                                           batch_size=128,\n",
        "                                           shuffle=True,\n",
        "                                           num_workers=2)\n",
        "valid_loader = torch.utils.data.DataLoader(valid_dataset,\n",
        "                                           batch_size=128,\n",
        "                                           shuffle=False,\n",
        "                                           num_workers=1)"
      ],
      "metadata": {
        "id": "7IkseQgj-Ei_"
      },
      "execution_count": 74,
      "outputs": []
    },
    {
      "cell_type": "code",
      "source": [
        "files = os.listdir('data/cifar-100-python')\n",
        "print(files)"
      ],
      "metadata": {
        "colab": {
          "base_uri": "https://localhost:8080/"
        },
        "id": "xNG9Gf5u5biE",
        "outputId": "1bc8b01f-3a73-48fe-d222-bc64d35635fb"
      },
      "execution_count": 75,
      "outputs": [
        {
          "output_type": "stream",
          "name": "stdout",
          "text": [
            "['meta', 'file.txt~', 'train', 'test']\n"
          ]
        }
      ]
    },
    {
      "cell_type": "code",
      "source": [
        "data_cifar100 = load_labels_name('data/cifar-100-python/meta')"
      ],
      "metadata": {
        "id": "oJtbgEzc3L_d"
      },
      "execution_count": 76,
      "outputs": []
    },
    {
      "cell_type": "code",
      "source": [
        "classes_cifar100 = data_cifar100['fine_label_names']"
      ],
      "metadata": {
        "id": "9TD9WAIf3sdE"
      },
      "execution_count": 77,
      "outputs": []
    },
    {
      "cell_type": "code",
      "source": [
        "for img, lbl in train_loader:\n",
        "    print(img.shape)\n",
        "    print(classes_cifar100[lbl[0]])\n",
        "    plt.imshow(img[0].permute(1, 2, 0))\n",
        "    break"
      ],
      "metadata": {
        "colab": {
          "base_uri": "https://localhost:8080/",
          "height": 301
        },
        "id": "0afGnfQlC1O-",
        "outputId": "eff7e2fc-57c3-422e-fff3-20ff775398ce"
      },
      "execution_count": 78,
      "outputs": [
        {
          "output_type": "stream",
          "name": "stdout",
          "text": [
            "torch.Size([128, 3, 32, 32])\n",
            "chair\n"
          ]
        },
        {
          "output_type": "display_data",
          "data": {
            "text/plain": [
              "<Figure size 432x288 with 1 Axes>"
            ],
            "image/png": "[encoded data removed]"
          },
          "metadata": {
            "needs_background": "light"
          }
        }
      ]
    },
    {
      "cell_type": "code",
      "source": [
        "device = 'cuda' if torch.cuda.is_available() else 'cpu'\n",
        "device"
      ],
      "metadata": {
        "colab": {
          "base_uri": "https://localhost:8080/",
          "height": 35
        },
        "id": "30kbZR_jEt1w",
        "outputId": "f29fade4-d454-474c-a9a3-55fd97b9de3d"
      },
      "execution_count": 79,
      "outputs": [
        {
          "output_type": "execute_result",
          "data": {
            "text/plain": [
              "'cuda'"
            ],
            "application/vnd.google.colaboratory.intrinsic+json": {
              "type": "string"
            }
          },
          "metadata": {},
          "execution_count": 79
        }
      ]
    },
    {
      "cell_type": "code",
      "source": [
        "class Net(nn.Module):\n",
        "    def __init__(self):\n",
        "        super(Net, self).__init__()\n",
        "        self.dp_one = nn.Dropout(0.2)\n",
        "        self.dp_two = nn.Dropout(0.2)\n",
        "        \n",
        "        self.bn_one = torch.nn.BatchNorm2d(3) \n",
        "        self.conv_one = torch.nn.Conv2d(3, 60, 3)\n",
        "        self.bn_two = torch.nn.BatchNorm2d(60) \n",
        "        self.conv_two = torch.nn.Conv2d(60, 90, 3)\n",
        "        self.bn_three = torch.nn.BatchNorm2d(90)\n",
        "        self.conv_three = torch.nn.Conv2d(90, 150, 3)\n",
        "        self.bn_four = torch.nn.BatchNorm2d(150)\n",
        "        self.fc1 = torch.nn.Linear(600, 300)\n",
        "        self.fc2 = torch.nn.Linear(300, 160)\n",
        "        self.out = torch.nn.Linear(160, 100)\n",
        "        \n",
        "    def forward(self, x):\n",
        "        x = self.bn_one(x)\n",
        "        x = self.conv_one(x)\n",
        "        x = F.relu(x)\n",
        "        x = F.max_pool2d(x, 2)\n",
        "        \n",
        "        x = self.bn_two(x)\n",
        "        x = self.conv_two(x)\n",
        "        x = F.relu(x)\n",
        "        x = F.max_pool2d(x, 2)\n",
        "        \n",
        "        x = self.bn_three(x)\n",
        "        x = self.conv_three(x)\n",
        "        x = F.leaky_relu(x, 0.1)\n",
        "        x = F.max_pool2d(x, 2)\n",
        "        \n",
        "        x = self.bn_four(x)\n",
        "        x = x.view(x.size(0), -1)\n",
        "        x = self.dp_one(x)\n",
        "        x = self.fc1(x)\n",
        "        x = F.relu(x)\n",
        "        x = self.dp_two(x)\n",
        "        x = self.fc2(x)\n",
        "        x = F.relu(x)\n",
        "        return self.out(x)"
      ],
      "metadata": {
        "id": "X6mMR7zSC33G"
      },
      "execution_count": 86,
      "outputs": []
    },
    {
      "cell_type": "code",
      "source": [
        "net = Net()\n",
        "print(net)"
      ],
      "metadata": {
        "colab": {
          "base_uri": "https://localhost:8080/"
        },
        "id": "DaH1t2S-ewTU",
        "outputId": "c5bb26fc-daaf-4647-86d3-17e970c4c837"
      },
      "execution_count": 87,
      "outputs": [
        {
          "output_type": "stream",
          "name": "stdout",
          "text": [
            "Net(\n",
            "  (dp_one): Dropout(p=0.2, inplace=False)\n",
            "  (dp_two): Dropout(p=0.2, inplace=False)\n",
            "  (bn_one): BatchNorm2d(3, eps=1e-05, momentum=0.1, affine=True, track_running_stats=True)\n",
            "  (conv_one): Conv2d(3, 60, kernel_size=(3, 3), stride=(1, 1))\n",
            "  (bn_two): BatchNorm2d(60, eps=1e-05, momentum=0.1, affine=True, track_running_stats=True)\n",
            "  (conv_two): Conv2d(60, 90, kernel_size=(3, 3), stride=(1, 1))\n",
            "  (bn_three): BatchNorm2d(90, eps=1e-05, momentum=0.1, affine=True, track_running_stats=True)\n",
            "  (conv_three): Conv2d(90, 150, kernel_size=(3, 3), stride=(1, 1))\n",
            "  (bn_four): BatchNorm2d(150, eps=1e-05, momentum=0.1, affine=True, track_running_stats=True)\n",
            "  (fc1): Linear(in_features=600, out_features=300, bias=True)\n",
            "  (fc2): Linear(in_features=300, out_features=160, bias=True)\n",
            "  (out): Linear(in_features=160, out_features=100, bias=True)\n",
            ")\n"
          ]
        }
      ]
    },
    {
      "cell_type": "code",
      "source": [
        "optimizer = torch.optim.Adam(net.parameters(), lr=0.001)\n",
        "criterion = nn.CrossEntropyLoss()"
      ],
      "metadata": {
        "id": "Ac-nIo74DGUw"
      },
      "execution_count": 88,
      "outputs": []
    },
    {
      "cell_type": "code",
      "source": [
        "summary(net.to(device), input_size=(3, 32, 32))"
      ],
      "metadata": {
        "colab": {
          "base_uri": "https://localhost:8080/"
        },
        "id": "cBW8lvm1DHI1",
        "outputId": "57c3af28-6984-41ea-900d-634af514a3f7"
      },
      "execution_count": 89,
      "outputs": [
        {
          "output_type": "stream",
          "name": "stdout",
          "text": [
            "----------------------------------------------------------------\n",
            "        Layer (type)               Output Shape         Param #\n",
            "================================================================\n",
            "       BatchNorm2d-1            [-1, 3, 32, 32]               6\n",
            "            Conv2d-2           [-1, 60, 30, 30]           1,680\n",
            "       BatchNorm2d-3           [-1, 60, 15, 15]             120\n",
            "            Conv2d-4           [-1, 90, 13, 13]          48,690\n",
            "       BatchNorm2d-5             [-1, 90, 6, 6]             180\n",
            "            Conv2d-6            [-1, 150, 4, 4]         121,650\n",
            "       BatchNorm2d-7            [-1, 150, 2, 2]             300\n",
            "           Dropout-8                  [-1, 600]               0\n",
            "            Linear-9                  [-1, 300]         180,300\n",
            "          Dropout-10                  [-1, 300]               0\n",
            "           Linear-11                  [-1, 160]          48,160\n",
            "           Linear-12                  [-1, 100]          16,100\n",
            "================================================================\n",
            "Total params: 417,186\n",
            "Trainable params: 417,186\n",
            "Non-trainable params: 0\n",
            "----------------------------------------------------------------\n",
            "Input size (MB): 0.01\n",
            "Forward/backward pass size (MB): 0.71\n",
            "Params size (MB): 1.59\n",
            "Estimated Total Size (MB): 2.32\n",
            "----------------------------------------------------------------\n"
          ]
        }
      ]
    },
    {
      "cell_type": "code",
      "source": [
        "num_epochs = 25\n",
        "net.train()"
      ],
      "metadata": {
        "colab": {
          "base_uri": "https://localhost:8080/"
        },
        "id": "ZbqzRNEIZ5aS",
        "outputId": "ae8f26e1-dbf1-454a-f7c3-4fae8d37e7b4"
      },
      "execution_count": 90,
      "outputs": [
        {
          "output_type": "execute_result",
          "data": {
            "text/plain": [
              "Net(\n",
              "  (dp_one): Dropout(p=0.2, inplace=False)\n",
              "  (dp_two): Dropout(p=0.2, inplace=False)\n",
              "  (bn_one): BatchNorm2d(3, eps=1e-05, momentum=0.1, affine=True, track_running_stats=True)\n",
              "  (conv_one): Conv2d(3, 60, kernel_size=(3, 3), stride=(1, 1))\n",
              "  (bn_two): BatchNorm2d(60, eps=1e-05, momentum=0.1, affine=True, track_running_stats=True)\n",
              "  (conv_two): Conv2d(60, 90, kernel_size=(3, 3), stride=(1, 1))\n",
              "  (bn_three): BatchNorm2d(90, eps=1e-05, momentum=0.1, affine=True, track_running_stats=True)\n",
              "  (conv_three): Conv2d(90, 150, kernel_size=(3, 3), stride=(1, 1))\n",
              "  (bn_four): BatchNorm2d(150, eps=1e-05, momentum=0.1, affine=True, track_running_stats=True)\n",
              "  (fc1): Linear(in_features=600, out_features=300, bias=True)\n",
              "  (fc2): Linear(in_features=300, out_features=160, bias=True)\n",
              "  (out): Linear(in_features=160, out_features=100, bias=True)\n",
              ")"
            ]
          },
          "metadata": {},
          "execution_count": 90
        }
      ]
    },
    {
      "cell_type": "code",
      "source": [
        "for epoch in range(num_epochs):  \n",
        "    running_loss, running_items, running_right = 0.0, 0.0, 0.0\n",
        "    for i, data in enumerate(train_loader, 0):\n",
        "        inputs, labels = data[0].to(device), data[1].to(device)\n",
        "\n",
        "        # обнуляем градиент\n",
        "        optimizer.zero_grad()\n",
        "\n",
        "        outputs = net(inputs)\n",
        "        loss = criterion(outputs, labels)\n",
        "        loss.backward()\n",
        "        optimizer.step()\n",
        "\n",
        "        # выводим статистику о процессе обучения\n",
        "        running_loss += loss.item()\n",
        "        running_items += len(labels)\n",
        "        running_right += (labels  == torch.max(outputs, 1)[1]).sum()\n",
        "        \n",
        "        # выводим статистику о процессе обучения\n",
        "        if i % 300 == 0:    # печатаем каждые 300 mini-batches\n",
        "            net.eval()\n",
        "            \n",
        "            print(f'Epoch [{epoch + 1}/{num_epochs}]. ' \\\n",
        "                  f'Step [{i + 1}/{len(train_loader)}]. ' \\\n",
        "                  f'Loss: {running_loss / running_items:.3f}. ' \\\n",
        "                  f'Acc: {running_right / running_items:.3f}', end='. ')\n",
        "            running_loss, running_items, running_right = 0.0, 0.0, 0.0\n",
        "\n",
        "            test_running_right, test_running_total = 0.0, 0.0\n",
        "            for i, data in enumerate(valid_loader, 0):\n",
        "            \n",
        "                test_outputs = net(data[0].to(device))\n",
        "                test_running_total += len(data[1])\n",
        "                test_running_right += (data[1].to(device) == torch.max(test_outputs, 1)[1]).sum()\n",
        "            \n",
        "            print(f'Test acc: {test_running_right / test_running_total:.3f}')\n",
        "        \n",
        "        net.train()\n",
        "        \n",
        "print('Training is finished!')"
      ],
      "metadata": {
        "colab": {
          "base_uri": "https://localhost:8080/"
        },
        "id": "TTDd9p1vDQAY",
        "outputId": "8cfdabc4-ae91-4fbb-ba46-f5d05268a5f2"
      },
      "execution_count": 91,
      "outputs": [
        {
          "output_type": "stream",
          "name": "stdout",
          "text": [
            "Epoch [1/25]. Step [1/372]. Loss: 0.036. Acc: 0.008. Test acc: 0.010\n",
            "Epoch [1/25]. Step [301/372]. Loss: 0.031. Acc: 0.086. Test acc: 0.098\n",
            "Epoch [2/25]. Step [1/372]. Loss: 0.029. Acc: 0.133. Test acc: 0.103\n",
            "Epoch [2/25]. Step [301/372]. Loss: 0.028. Acc: 0.151. Test acc: 0.163\n",
            "Epoch [3/25]. Step [1/372]. Loss: 0.024. Acc: 0.242. Test acc: 0.138\n",
            "Epoch [3/25]. Step [301/372]. Loss: 0.026. Acc: 0.195. Test acc: 0.164\n",
            "Epoch [4/25]. Step [1/372]. Loss: 0.024. Acc: 0.227. Test acc: 0.176\n",
            "Epoch [4/25]. Step [301/372]. Loss: 0.025. Acc: 0.221. Test acc: 0.199\n",
            "Epoch [5/25]. Step [1/372]. Loss: 0.023. Acc: 0.250. Test acc: 0.200\n",
            "Epoch [5/25]. Step [301/372]. Loss: 0.024. Acc: 0.238. Test acc: 0.202\n",
            "Epoch [6/25]. Step [1/372]. Loss: 0.023. Acc: 0.250. Test acc: 0.204\n",
            "Epoch [6/25]. Step [301/372]. Loss: 0.023. Acc: 0.257. Test acc: 0.213\n",
            "Epoch [7/25]. Step [1/372]. Loss: 0.024. Acc: 0.297. Test acc: 0.207\n",
            "Epoch [7/25]. Step [301/372]. Loss: 0.023. Acc: 0.267. Test acc: 0.220\n",
            "Epoch [8/25]. Step [1/372]. Loss: 0.022. Acc: 0.281. Test acc: 0.212\n",
            "Epoch [8/25]. Step [301/372]. Loss: 0.022. Acc: 0.278. Test acc: 0.228\n",
            "Epoch [9/25]. Step [1/372]. Loss: 0.022. Acc: 0.234. Test acc: 0.220\n",
            "Epoch [9/25]. Step [301/372]. Loss: 0.022. Acc: 0.287. Test acc: 0.238\n",
            "Epoch [10/25]. Step [1/372]. Loss: 0.022. Acc: 0.320. Test acc: 0.230\n",
            "Epoch [10/25]. Step [301/372]. Loss: 0.022. Acc: 0.296. Test acc: 0.226\n",
            "Epoch [11/25]. Step [1/372]. Loss: 0.018. Acc: 0.383. Test acc: 0.248\n",
            "Epoch [11/25]. Step [301/372]. Loss: 0.021. Acc: 0.301. Test acc: 0.232\n",
            "Epoch [12/25]. Step [1/372]. Loss: 0.022. Acc: 0.234. Test acc: 0.258\n",
            "Epoch [12/25]. Step [301/372]. Loss: 0.021. Acc: 0.307. Test acc: 0.242\n",
            "Epoch [13/25]. Step [1/372]. Loss: 0.022. Acc: 0.281. Test acc: 0.250\n",
            "Epoch [13/25]. Step [301/372]. Loss: 0.021. Acc: 0.315. Test acc: 0.238\n",
            "Epoch [14/25]. Step [1/372]. Loss: 0.020. Acc: 0.359. Test acc: 0.257\n",
            "Epoch [14/25]. Step [301/372]. Loss: 0.021. Acc: 0.323. Test acc: 0.255\n",
            "Epoch [15/25]. Step [1/372]. Loss: 0.019. Acc: 0.359. Test acc: 0.265\n",
            "Epoch [15/25]. Step [301/372]. Loss: 0.021. Acc: 0.326. Test acc: 0.258\n",
            "Epoch [16/25]. Step [1/372]. Loss: 0.021. Acc: 0.305. Test acc: 0.285\n",
            "Epoch [16/25]. Step [301/372]. Loss: 0.020. Acc: 0.338. Test acc: 0.282\n",
            "Epoch [17/25]. Step [1/372]. Loss: 0.019. Acc: 0.445. Test acc: 0.243\n",
            "Epoch [17/25]. Step [301/372]. Loss: 0.020. Acc: 0.337. Test acc: 0.265\n",
            "Epoch [18/25]. Step [1/372]. Loss: 0.021. Acc: 0.289. Test acc: 0.279\n",
            "Epoch [18/25]. Step [301/372]. Loss: 0.020. Acc: 0.345. Test acc: 0.269\n",
            "Epoch [19/25]. Step [1/372]. Loss: 0.020. Acc: 0.359. Test acc: 0.258\n",
            "Epoch [19/25]. Step [301/372]. Loss: 0.020. Acc: 0.347. Test acc: 0.282\n",
            "Epoch [20/25]. Step [1/372]. Loss: 0.020. Acc: 0.375. Test acc: 0.273\n",
            "Epoch [20/25]. Step [301/372]. Loss: 0.020. Acc: 0.353. Test acc: 0.290\n",
            "Epoch [21/25]. Step [1/372]. Loss: 0.020. Acc: 0.328. Test acc: 0.284\n",
            "Epoch [21/25]. Step [301/372]. Loss: 0.019. Acc: 0.357. Test acc: 0.273\n",
            "Epoch [22/25]. Step [1/372]. Loss: 0.019. Acc: 0.359. Test acc: 0.260\n",
            "Epoch [22/25]. Step [301/372]. Loss: 0.019. Acc: 0.357. Test acc: 0.282\n",
            "Epoch [23/25]. Step [1/372]. Loss: 0.020. Acc: 0.398. Test acc: 0.269\n",
            "Epoch [23/25]. Step [301/372]. Loss: 0.019. Acc: 0.362. Test acc: 0.278\n",
            "Epoch [24/25]. Step [1/372]. Loss: 0.019. Acc: 0.383. Test acc: 0.286\n",
            "Epoch [24/25]. Step [301/372]. Loss: 0.019. Acc: 0.364. Test acc: 0.286\n",
            "Epoch [25/25]. Step [1/372]. Loss: 0.020. Acc: 0.344. Test acc: 0.276\n",
            "Epoch [25/25]. Step [301/372]. Loss: 0.019. Acc: 0.369. Test acc: 0.254\n",
            "Training is finished!\n"
          ]
        }
      ]
    },
    {
      "cell_type": "code",
      "source": [
        "valid_loader = torch.utils.data.DataLoader(valid_dataset,\n",
        "                                           batch_size=8,\n",
        "                                           shuffle=True,\n",
        "                                           num_workers=1)"
      ],
      "metadata": {
        "id": "nslF_ynD34iR"
      },
      "execution_count": 92,
      "outputs": []
    },
    {
      "cell_type": "code",
      "source": [
        "data_iter = iter(valid_loader)\n",
        "inputs, labels = data_iter.next()\n",
        "labels = labels.to(device)\n",
        "inputs = inputs.to(device)\n",
        "labels"
      ],
      "metadata": {
        "id": "BBIWWbstDnH9",
        "colab": {
          "base_uri": "https://localhost:8080/"
        },
        "outputId": "3100bec5-a7ef-40d2-ca78-df8992b0c6d2"
      },
      "execution_count": 93,
      "outputs": [
        {
          "output_type": "execute_result",
          "data": {
            "text/plain": [
              "tensor([30,  7, 89, 25, 27, 85, 59,  0], device='cuda:0')"
            ]
          },
          "metadata": {},
          "execution_count": 93
        }
      ]
    },
    {
      "cell_type": "code",
      "source": [
        "import torchvision"
      ],
      "metadata": {
        "id": "u4d_pq7U0JMj"
      },
      "execution_count": 94,
      "outputs": []
    },
    {
      "cell_type": "code",
      "source": [
        "net.eval()\n",
        "outputs = net(inputs)\n",
        "imgs = torchvision.utils.make_grid(inputs.to('cpu'))\n",
        "plt.figure(figsize=(10, 5))\n",
        "plt.imshow(imgs.permute(1, 2, 0).numpy())\n",
        "print('GroundTruth: ', ' '.join(classes_cifar100[labels[j]] for j in range(len(labels))))"
      ],
      "metadata": {
        "colab": {
          "base_uri": "https://localhost:8080/",
          "height": 141
        },
        "id": "Y5Flku4Pz4kB",
        "outputId": "ba4de0c8-f78d-4460-f82c-3eac17fd189c"
      },
      "execution_count": 95,
      "outputs": [
        {
          "output_type": "stream",
          "name": "stdout",
          "text": [
            "GroundTruth:  dolphin beetle tractor couch crocodile tank pine_tree apple\n"
          ]
        },
        {
          "output_type": "display_data",
          "data": {
            "text/plain": [
              "<Figure size 720x360 with 1 Axes>"
            ],
            "image/png": "[encoded data removed]"
          },
          "metadata": {
            "needs_background": "light"
          }
        }
      ]
    },
    {
      "cell_type": "code",
      "source": [
        "print(outputs)"
      ],
      "metadata": {
        "colab": {
          "base_uri": "https://localhost:8080/"
        },
        "id": "bQIQF5GV4UVq",
        "outputId": "4d64dd95-a195-43f0-d41c-578e5ced005c"
      },
      "execution_count": 96,
      "outputs": [
        {
          "output_type": "stream",
          "name": "stdout",
          "text": [
            "tensor([[-1.2428e+01, -2.4094e-01, -3.7597e+00, -2.8749e+00, -1.1922e+00,\n",
            "         -2.3801e+00, -4.2525e+00, -1.5207e+00,  1.0797e-01, -4.1777e+00,\n",
            "         -9.8514e-01, -4.6867e+00,  5.6588e-01,  1.2835e+00, -3.6105e+00,\n",
            "         -2.5714e+00, -2.5353e+00, -3.6729e+00, -1.5857e+00, -2.2415e+00,\n",
            "         -2.5536e+00, -4.0128e+00, -1.1853e+00, -2.7585e+00, -2.7508e+00,\n",
            "         -1.0682e+00,  9.6408e-01, -1.5019e+00, -2.8618e+00, -9.0518e-01,\n",
            "          1.8316e-01, -4.1648e+00, -1.9421e+00, -2.6172e+00, -1.1110e+00,\n",
            "         -4.8964e+00, -4.9117e+00,  4.2153e-01, -2.0206e+00, -2.0495e+00,\n",
            "         -1.3482e+00, -3.6636e+00, -2.8328e+00, -7.8349e+00, -4.7334e-01,\n",
            "          5.5464e-01, -4.3860e+00, -6.6971e+00,  6.0355e-01,  1.1884e+00,\n",
            "         -8.5067e-01, -5.3615e+00, -4.2040e+00, -1.0469e+01, -4.1718e+00,\n",
            "         -3.1615e-01, -2.8234e+00, -7.3951e+00,  1.9887e+00, -3.9358e+00,\n",
            "         -4.2206e+00, -3.0249e+00, -7.0870e+00, -3.7433e+00, -2.1352e+00,\n",
            "         -1.0521e+00, -6.8457e-02, -3.7718e-01, -2.7705e+00,  4.8183e-01,\n",
            "         -7.7295e+00, -1.4081e+00, -1.1090e+00,  3.0526e-01, -1.0556e+00,\n",
            "         -1.6368e+00, -3.7664e+00, -4.5791e+00, -1.1035e+00, -1.8652e+00,\n",
            "         -3.3920e+00, -2.2504e-01, -3.5144e+00, -7.4948e+00, -9.2255e-01,\n",
            "         -1.0256e+00, -1.7357e+00, -1.6427e+00, -3.7450e+00, -1.7706e+00,\n",
            "         -1.1848e+00, -8.7129e-02, -7.3707e+00, -1.7268e-01, -1.0289e+01,\n",
            "          5.6275e-01, -4.1218e+00, -3.0515e-01, -6.3169e+00, -2.5820e+00],\n",
            "        [-3.8110e+00, -4.8433e+00, -3.8352e-01,  9.2664e-01,  2.6243e-01,\n",
            "         -7.7138e+00,  1.1469e+00,  2.4531e+00, -1.8130e+00,  2.7484e-01,\n",
            "         -2.5408e+00, -8.1693e-01, -2.9409e+00, -4.1614e+00,  5.1790e+00,\n",
            "         -2.3531e+00, -1.8645e+00, -8.0110e+00, -1.9155e+00, -1.5943e+00,\n",
            "         -3.7524e+00,  5.8263e-01, -4.7999e-01, -1.2545e+01, -2.9999e-01,\n",
            "         -4.8093e+00, -1.8564e+00, -5.9233e+00, -3.0889e+00, -2.8868e+00,\n",
            "         -4.0747e+00, -3.9572e+00, -4.5328e+00, -4.6260e+00, -3.5971e+00,\n",
            "         -1.7035e+00, -7.5222e+00, -4.2840e+00, -3.9702e+00, -3.1936e+00,\n",
            "         -1.6923e+00,  2.0375e+00, -4.6386e+00, -5.8956e+00, -2.1738e+00,\n",
            "          9.4708e-01,  5.2717e-02, -5.6627e+00,  2.5485e+00, -5.1057e+00,\n",
            "         -1.9456e+00, -4.7532e+00, -5.6220e+00, -7.4760e+00, -2.7002e+00,\n",
            "         -2.4314e-01, -1.6019e+00, -1.8224e+00, -2.3534e+00, -3.3107e+00,\n",
            "         -1.3024e+01, -4.3490e+00, -4.0991e+00, -3.9425e+00, -1.6589e+00,\n",
            "         -2.2171e+00, -2.9774e+00, -4.1881e+00, -7.8409e+00, -4.8446e+00,\n",
            "         -3.4181e+00, -1.2413e+01, -1.9727e+00, -3.3595e+00, -3.1687e+00,\n",
            "         -5.1891e-02, -7.1832e+00,  2.8802e-01, -9.6042e-01, -2.7164e-01,\n",
            "         -3.7453e+00, -4.8993e+00, -3.0019e+00, -1.2860e+00, -3.3255e+00,\n",
            "         -5.7449e+00, -7.6188e-01, -3.3825e-01, -4.3255e+00, -1.4944e+00,\n",
            "         -3.7343e+00, -7.3126e+00, -2.5146e+00, -1.7539e+00, -9.4986e+00,\n",
            "         -2.5336e+00, -7.4859e+00, -5.4590e+00, -5.2677e-01, -4.4140e+00],\n",
            "        [-9.1579e+00, -3.8450e+00, -2.7801e+00, -3.9772e+00, -2.7611e+00,\n",
            "         -3.5696e+00, -3.6998e+00, -2.4313e+00,  3.2552e+00, -4.4112e+00,\n",
            "         -3.2287e+00, -3.9559e+00,  1.3661e+00,  6.5602e-01, -3.2006e+00,\n",
            "          1.3298e+00, -2.1445e+00, -5.8506e-01, -3.2262e+00, -1.4688e+00,\n",
            "         -4.1344e+00, -6.2119e+00, -2.1640e+00, -7.2513e+00, -2.7045e+00,\n",
            "         -2.3312e+00, -1.3296e+00, -4.3346e+00, -6.6850e+00, -1.1521e+00,\n",
            "         -6.2381e+00, -2.8319e+00, -2.8780e+00, -8.1831e-01, -4.5758e+00,\n",
            "         -5.0764e+00, -1.0252e+01,  1.0854e+00, -1.9034e+00, -1.9953e+00,\n",
            "         -1.7184e+00, -1.9023e+00, -4.0211e+00, -7.2141e+00, -3.9528e+00,\n",
            "         -1.4674e+00, -2.3837e+00, -5.0924e+00,  2.5381e+00, -1.2066e+00,\n",
            "         -5.1395e+00, -3.6547e+00, -5.5213e+00, -1.0063e+01, -5.1863e+00,\n",
            "         -2.7426e+00, -2.6944e+00, -4.7090e+00, -1.2251e+00, -2.0566e+00,\n",
            "         -4.2885e+00, -4.0367e+00, -7.8986e+00, -9.2841e+00, -3.2369e+00,\n",
            "         -3.9366e+00, -3.4066e+00, -6.3580e+00, -2.5492e+00, -2.4301e+00,\n",
            "         -5.8255e+00, -4.9549e+00, -2.4963e+00, -5.4128e+00, -5.0702e+00,\n",
            "         -4.7966e+00, -2.1194e+00, -3.6508e+00, -3.4392e+00, -1.0162e+00,\n",
            "         -5.5302e+00,  8.7611e-01, -4.8704e+00, -6.0791e+00, -1.2414e+00,\n",
            "         -5.9074e-02, -3.1372e+00, -8.9908e-01, -4.1288e+00,  2.8882e+00,\n",
            "          1.5220e+00, -4.0321e+00, -5.9972e+00, -4.7808e+00, -6.6455e+00,\n",
            "         -5.2251e+00, -5.6847e+00, -4.2135e+00, -5.2564e+00, -4.4218e+00],\n",
            "        [-8.8807e+00, -3.2160e+00, -1.2913e+00, -1.0231e+00,  9.5777e-01,\n",
            "         -1.7776e+00, -1.9444e+00, -5.8579e-01, -5.3391e-01, -2.8634e+00,\n",
            "         -1.4408e+00, -1.9207e+00,  4.5745e-01, -4.3680e-01, -6.0651e-01,\n",
            "          1.0749e+00, -1.7893e+00, -3.0952e+00, -2.1815e+00, -1.2020e+00,\n",
            "         -1.9732e+00, -3.4447e+00, -1.2906e+00, -3.2343e+00, -2.9225e-01,\n",
            "         -1.3383e+00,  3.1597e-02, -5.8100e-01, -1.1973e+00, -3.1151e-01,\n",
            "          6.8979e-01, -2.3617e+00, -1.9925e+00, -3.7616e+00, -1.1511e+00,\n",
            "         -3.2884e+00, -6.5599e+00, -1.5622e+00, -3.9535e-01, -1.8845e+00,\n",
            "         -4.8367e-01, -2.4969e+00, -1.8145e+00, -4.4783e+00, -1.0489e-01,\n",
            "         -1.0342e+00, -2.0663e+00, -6.2316e+00,  1.0983e+00, -4.4616e-01,\n",
            "         -2.3136e+00, -3.0091e+00, -6.4123e+00, -1.0704e+01, -4.5805e+00,\n",
            "          1.5521e+00, -1.7248e+00, -4.0512e+00, -1.6626e+00, -3.5330e+00,\n",
            "         -4.1324e+00, -2.6342e+00, -7.4965e+00, -4.7439e+00, -2.3033e+00,\n",
            "         -1.2204e+00, -2.4671e+00, -2.1467e+00, -2.3317e+00, -1.4458e+00,\n",
            "         -6.0251e+00, -1.6394e+00,  1.3440e+00, -1.2540e+00, -2.4066e+00,\n",
            "         -1.9865e+00, -2.3590e+00, -6.7385e-01, -9.7187e-01,  5.4002e-02,\n",
            "         -2.2919e+00, -2.6303e+00, -5.1022e+00, -6.9344e+00, -7.5758e-01,\n",
            "         -1.1186e+00, -1.4531e+00, -5.1010e-01, -3.1917e+00, -2.1835e-01,\n",
            "         -9.3574e-01, -2.3792e+00, -7.5415e+00, -8.8565e-01, -7.9639e+00,\n",
            "          1.5731e+00, -6.5429e+00, -2.1283e+00, -2.7369e+00, -2.0104e+00],\n",
            "        [-1.1515e+01, -4.8321e+00, -3.3939e+00, -2.0454e+00,  2.0473e+00,\n",
            "         -3.8674e+00, -1.8993e+00, -2.5868e+00, -2.9713e+00, -7.1584e+00,\n",
            "         -2.2916e+00, -4.8859e+00, -1.3196e+00, -2.2371e+00, -2.9296e+00,\n",
            "         -2.4057e-01, -7.0468e+00, -5.9937e+00,  1.2240e-02, -1.3188e+00,\n",
            "         -5.1038e+00, -4.7258e+00, -3.6947e+00, -8.6146e+00, -2.5365e+00,\n",
            "         -2.4782e+00,  1.4808e+00,  2.0533e+00, -5.7998e+00, -1.1040e-01,\n",
            "         -1.2768e+00, -2.1815e+00, -1.0458e+00, -3.7563e+00, -8.1243e-01,\n",
            "         -5.2673e+00, -6.4110e+00, -2.5599e+00, -1.4731e+00, -2.4837e+00,\n",
            "         -4.0870e+00, -5.5597e+00, -5.2713e-01, -4.1239e+00,  9.5780e-01,\n",
            "          1.1181e-01, -4.3669e+00, -5.1740e+00, -3.3158e+00, -4.4499e+00,\n",
            "         -3.1448e+00,  3.0158e-01, -5.4446e+00, -1.0450e+01, -7.9969e+00,\n",
            "          7.2607e-01, -2.2175e+00, -5.0585e+00, -4.4049e+00, -4.8371e+00,\n",
            "         -8.8351e+00, -4.1284e+00, -1.1084e+01, -3.0129e+00, -3.2194e+00,\n",
            "         -2.9070e+00, -3.7756e+00, -7.7333e-01, -6.3567e+00, -6.6748e+00,\n",
            "         -7.7297e+00, -5.0152e+00,  1.0956e+00, -3.3793e+00, -1.5373e-01,\n",
            "         -5.5234e+00, -7.1871e+00,  1.0301e+00,  1.0649e+00, -1.5373e+00,\n",
            "          9.2944e-01, -2.9934e+00, -7.6833e+00, -8.6827e+00, -2.6333e+00,\n",
            "          7.4052e-01, -5.7611e+00, -6.7945e+00, -1.5608e+00, -4.0700e-01,\n",
            "         -1.4494e+00, -1.2980e+00, -8.4104e+00,  1.9585e+00, -1.3716e+01,\n",
            "         -4.4988e+00, -5.9348e+00, -2.0945e+00, -5.8966e+00, -2.4113e+00],\n",
            "        [-9.1280e+00, -6.1174e+00, -3.1927e+00, -1.4599e+00,  8.3859e-01,\n",
            "         -4.1616e+00, -5.8620e-01,  1.7690e+00, -7.5860e-01, -3.7674e+00,\n",
            "         -1.9468e+00, -4.0710e+00, -1.2873e+00, -4.3924e+00,  2.1098e-01,\n",
            "         -1.1474e+00, -1.8444e+00, -4.7036e+00,  9.4409e-02, -2.5186e+00,\n",
            "         -4.4103e+00, -2.9934e+00, -9.3841e-01, -6.2116e+00,  4.8703e-01,\n",
            "         -3.0686e+00,  9.7015e-01,  2.0587e+00, -3.4844e+00, -7.9376e-01,\n",
            "         -1.2426e+00, -2.6711e+00, -1.3006e+00, -3.4700e+00, -2.9230e+00,\n",
            "         -4.7960e+00, -5.9901e+00, -2.6063e+00, -1.3990e+00, -2.1372e+00,\n",
            "         -1.9954e+00, -1.4626e+00, -7.2716e-01, -3.9457e+00,  4.4455e-01,\n",
            "         -3.1983e-01, -2.5911e+00, -4.4188e+00, -1.2618e+00, -4.4761e+00,\n",
            "         -1.9648e+00, -2.4732e+00, -5.3121e+00, -1.1163e+01, -7.1851e+00,\n",
            "          9.1518e-01, -1.7395e+00, -4.4811e+00, -4.0170e+00, -3.2694e+00,\n",
            "         -6.5560e+00, -3.3092e+00, -9.1583e+00, -1.4230e+00, -8.2591e-01,\n",
            "         -2.8234e+00, -1.4885e+00, -6.7531e-01, -3.7129e+00, -3.7295e+00,\n",
            "         -6.3041e+00, -5.6035e+00,  8.4338e-01, -3.9603e+00, -2.5812e-01,\n",
            "         -1.6733e+00, -3.3783e+00,  2.0716e+00,  6.3727e-02,  1.6744e+00,\n",
            "         -9.1059e-01, -4.3963e+00, -5.0910e+00, -6.9716e+00, -4.7173e+00,\n",
            "          1.6025e+00, -1.0583e+00, -5.1614e+00, -2.2193e+00, -1.1735e+00,\n",
            "          1.7520e-01, -3.3196e+00, -6.8042e+00,  2.2535e+00, -1.2469e+01,\n",
            "         -2.2333e+00, -4.2301e+00, -1.7016e+00, -4.4292e+00, -2.5612e+00],\n",
            "        [-1.0776e+01, -4.6201e+00, -3.9851e+00, -2.4933e+00, -1.4077e+00,\n",
            "         -2.2811e+00, -4.9754e+00, -1.2015e+00, -7.1252e-01, -3.0016e+00,\n",
            "         -7.6291e-01, -3.6428e+00,  2.6240e-01, -6.3991e-01, -4.1667e+00,\n",
            "         -5.7790e+00, -1.3300e+00, -1.9316e+00, -1.3845e+00, -5.4654e+00,\n",
            "         -1.3301e-01, -2.7949e+00, -5.2563e-01, -1.3754e+00, -1.4153e+00,\n",
            "         -2.0088e+00, -1.1643e+00, -6.1314e-01, -3.7858e+00, -1.7419e+00,\n",
            "          1.3056e+00, -4.1530e+00, -3.8691e+00, -4.6022e-01, -4.7620e+00,\n",
            "         -5.1441e+00, -7.6709e+00, -2.0806e+00, -4.1810e+00,  2.3125e+00,\n",
            "         -4.0396e-01, -4.3893e-01, -1.4584e+00, -7.2947e+00, -2.4074e+00,\n",
            "         -1.8083e+00, -3.1108e+00,  2.0822e+00,  1.1606e-01, -1.9879e+00,\n",
            "         -3.8424e+00, -4.9073e+00,  2.0493e+00, -1.1399e+01, -4.3384e+00,\n",
            "         -1.0263e+00, -1.4671e+00, -5.1792e+00, -1.1716e+00,  3.5800e+00,\n",
            "         -3.4051e+00, -2.0152e+00, -7.4008e+00, -1.8524e+00, -5.1661e+00,\n",
            "         -3.9791e+00, -4.0015e-01, -2.5770e+00, -3.1502e+00, -2.2123e+00,\n",
            "         -3.6567e+00, -1.3856e+00, -9.2516e-01, -1.1880e+00, -2.0947e+00,\n",
            "          1.2975e-01,  7.1564e-01, -4.6251e+00, -9.2853e-01, -1.6430e+00,\n",
            "         -3.5422e+00, -2.9415e-01, -6.6736e-01, -6.9824e+00, -4.0496e+00,\n",
            "          5.3407e-01, -1.0697e+00, -1.3977e+00, -4.3446e+00, -1.9319e+00,\n",
            "         -4.5196e-01, -3.1159e+00, -6.3666e+00, -2.0362e-01, -6.7206e+00,\n",
            "          1.0778e+00,  1.1632e+00, -5.1167e+00, -4.7201e+00, -2.0582e+00],\n",
            "        [ 5.9672e+00,  3.0707e+00, -1.3560e+00, -3.2594e+00, -2.0730e+00,\n",
            "         -2.6795e+00, -5.8966e+00, -3.4261e-01, -8.1297e+00, -1.1264e+00,\n",
            "          1.8014e+00, -1.1148e+00, -3.3491e+00, -4.4453e+00,  8.2673e-01,\n",
            "         -4.2348e+00, -1.8576e+00, -6.6093e+00, -2.0172e+00, -2.4236e+00,\n",
            "         -3.4139e+00, -1.6834e+00, -3.0692e+00, -6.5912e+00, -3.1699e+00,\n",
            "         -2.9134e+00,  4.6166e-01, -5.8914e+00, -1.7098e+00, -2.8521e+00,\n",
            "         -9.3160e+00, -4.7806e+00, -1.5358e+00, -3.4504e+00, -6.0723e-01,\n",
            "         -1.6134e+00, -1.1594e+00, -2.0341e+00, -5.7289e+00, -7.3847e+00,\n",
            "         -2.0924e+00, -1.8828e+00, -6.6868e+00, -5.7128e+00, -4.9709e+00,\n",
            "         -1.4064e+00, -1.8749e+00, -3.5169e+00, -8.2390e+00, -6.6122e+00,\n",
            "         -2.5667e+00,  1.2108e+00, -6.5019e+00,  2.9833e+00, -3.8474e+00,\n",
            "         -2.5839e+00, -4.4549e+00,  4.0224e+00, -3.3822e+00, -9.2218e+00,\n",
            "         -8.1167e+00, -5.5133e+00,  2.8826e-01, -3.9076e+00, -3.8170e+00,\n",
            "         -2.4488e+00, -7.5761e+00, -3.8379e+00, -4.2720e+00, -3.2210e+00,\n",
            "          3.6753e-01, -6.8209e+00, -2.2688e+00, -3.9168e+00, -2.4736e+00,\n",
            "         -4.7594e+00, -7.9369e+00,  2.3635e+00, -2.4084e+00, -4.2829e+00,\n",
            "         -2.6141e+00, -4.0609e+00, -3.3613e+00,  3.2380e+00, -3.8659e+00,\n",
            "         -6.5198e+00, -3.5232e+00, -2.4198e+00, -5.1304e+00, -3.4433e+00,\n",
            "         -1.4668e+00, -2.1660e+00,  1.7427e+00, -3.6468e+00, -5.2438e+00,\n",
            "         -9.5284e+00, -5.8264e+00, -7.6808e+00, -2.6469e+00, -3.9643e+00]],\n",
            "       device='cuda:0', grad_fn=<AddmmBackward0>)\n"
          ]
        }
      ]
    },
    {
      "cell_type": "code",
      "source": [
        "_, predicted = torch.max(outputs, 1)\n",
        "\n",
        "predicted"
      ],
      "metadata": {
        "colab": {
          "base_uri": "https://localhost:8080/"
        },
        "id": "bMbOJP8H4n6W",
        "outputId": "cc950bc3-fe68-416f-9476-fc692701b706"
      },
      "execution_count": 97,
      "outputs": [
        {
          "output_type": "execute_result",
          "data": {
            "text/plain": [
              "tensor([58, 14,  8, 95, 27, 93, 59,  0], device='cuda:0')"
            ]
          },
          "metadata": {},
          "execution_count": 97
        }
      ]
    },
    {
      "cell_type": "code",
      "source": [
        "print('Predicted: ', ' '.join(classes_cifar100[predicted[j]] for j in range(len(labels))))"
      ],
      "metadata": {
        "colab": {
          "base_uri": "https://localhost:8080/"
        },
        "id": "oH76ng7w4sZn",
        "outputId": "cb26b34a-886c-4d65-bedb-e2606fe20209"
      },
      "execution_count": 98,
      "outputs": [
        {
          "output_type": "stream",
          "name": "stdout",
          "text": [
            "Predicted:  pickup_truck butterfly bicycle whale crocodile turtle pine_tree apple\n"
          ]
        }
      ]
    },
    {
      "cell_type": "code",
      "source": [
        "gt = np.array([classes_cifar100[labels[j]] for j in range(len(labels))])\n",
        "pred = np.array([classes_cifar100[predicted[j]] for j in range(len(labels))])\n",
        "\n",
        "print(gt)\n",
        "print(pred)\n",
        "print(f'Accuracy is {(gt == pred).sum() / len(gt):.4f}')"
      ],
      "metadata": {
        "id": "pXnpLddxDnyW",
        "colab": {
          "base_uri": "https://localhost:8080/"
        },
        "outputId": "feec9f50-96fd-47dc-c5a9-97b91144dd0f"
      },
      "execution_count": 99,
      "outputs": [
        {
          "output_type": "stream",
          "name": "stdout",
          "text": [
            "['dolphin' 'beetle' 'tractor' 'couch' 'crocodile' 'tank' 'pine_tree'\n",
            " 'apple']\n",
            "['pickup_truck' 'butterfly' 'bicycle' 'whale' 'crocodile' 'turtle'\n",
            " 'pine_tree' 'apple']\n",
            "Accuracy is 0.3750\n"
          ]
        }
      ]
    },
    {
      "cell_type": "code",
      "source": [],
      "metadata": {
        "id": "etcEIS5eD4TN"
      },
      "execution_count": null,
      "outputs": []
    }
  ]
}