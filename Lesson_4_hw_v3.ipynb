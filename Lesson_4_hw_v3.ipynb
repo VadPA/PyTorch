{
  "nbformat": 4,
  "nbformat_minor": 0,
  "metadata": {
    "colab": {
      "provenance": [],
      "collapsed_sections": [],
      "authorship_tag": "ABX9TyPnxv1hYm7O2oR1hFggJ94i",
      "include_colab_link": true
    },
    "kernelspec": {
      "name": "python3",
      "display_name": "Python 3"
    },
    "language_info": {
      "name": "python"
    },
    "widgets": {
      "application/vnd.jupyter.widget-state+json": {
        "552cd0e243d4466088c0c05cbb3bad84": {
          "model_module": "@jupyter-widgets/controls",
          "model_name": "HBoxModel",
          "model_module_version": "1.5.0",
          "state": {
            "_dom_classes": [],
            "_model_module": "@jupyter-widgets/controls",
            "_model_module_version": "1.5.0",
            "_model_name": "HBoxModel",
            "_view_count": null,
            "_view_module": "@jupyter-widgets/controls",
            "_view_module_version": "1.5.0",
            "_view_name": "HBoxView",
            "box_style": "",
            "children": [
              "IPY_MODEL_7b541d7681c348678defab8fa9f3b7c5",
              "IPY_MODEL_8e201d596c314b68bb27535a0e796f9c",
              "IPY_MODEL_6998e4588b34465585f173ce9efeac19"
            ],
            "layout": "IPY_MODEL_4a4881c57852495083f68d75030fe7dc"
          }
        },
        "7b541d7681c348678defab8fa9f3b7c5": {
          "model_module": "@jupyter-widgets/controls",
          "model_name": "HTMLModel",
          "model_module_version": "1.5.0",
          "state": {
            "_dom_classes": [],
            "_model_module": "@jupyter-widgets/controls",
            "_model_module_version": "1.5.0",
            "_model_name": "HTMLModel",
            "_view_count": null,
            "_view_module": "@jupyter-widgets/controls",
            "_view_module_version": "1.5.0",
            "_view_name": "HTMLView",
            "description": "",
            "description_tooltip": null,
            "layout": "IPY_MODEL_2137a06843b94ce59665f261e879eec9",
            "placeholder": "​",
            "style": "IPY_MODEL_1faf134bcbf447ef96e3029b8f9449ad",
            "value": "100%"
          }
        },
        "8e201d596c314b68bb27535a0e796f9c": {
          "model_module": "@jupyter-widgets/controls",
          "model_name": "FloatProgressModel",
          "model_module_version": "1.5.0",
          "state": {
            "_dom_classes": [],
            "_model_module": "@jupyter-widgets/controls",
            "_model_module_version": "1.5.0",
            "_model_name": "FloatProgressModel",
            "_view_count": null,
            "_view_module": "@jupyter-widgets/controls",
            "_view_module_version": "1.5.0",
            "_view_name": "ProgressView",
            "bar_style": "success",
            "description": "",
            "description_tooltip": null,
            "layout": "IPY_MODEL_f18f009d24e64d64a071fdb661d0c528",
            "max": 169001437,
            "min": 0,
            "orientation": "horizontal",
            "style": "IPY_MODEL_fc791ce44fbe48748e360f09882b16b2",
            "value": 169001437
          }
        },
        "6998e4588b34465585f173ce9efeac19": {
          "model_module": "@jupyter-widgets/controls",
          "model_name": "HTMLModel",
          "model_module_version": "1.5.0",
          "state": {
            "_dom_classes": [],
            "_model_module": "@jupyter-widgets/controls",
            "_model_module_version": "1.5.0",
            "_model_name": "HTMLModel",
            "_view_count": null,
            "_view_module": "@jupyter-widgets/controls",
            "_view_module_version": "1.5.0",
            "_view_name": "HTMLView",
            "description": "",
            "description_tooltip": null,
            "layout": "IPY_MODEL_aa95ee8d296d419296f63e0e217ea62d",
            "placeholder": "​",
            "style": "IPY_MODEL_91c02ffd1c634914b101d8527af9694a",
            "value": " 169001437/169001437 [00:03&lt;00:00, 69655604.17it/s]"
          }
        },
        "4a4881c57852495083f68d75030fe7dc": {
          "model_module": "@jupyter-widgets/base",
          "model_name": "LayoutModel",
          "model_module_version": "1.2.0",
          "state": {
            "_model_module": "@jupyter-widgets/base",
            "_model_module_version": "1.2.0",
            "_model_name": "LayoutModel",
            "_view_count": null,
            "_view_module": "@jupyter-widgets/base",
            "_view_module_version": "1.2.0",
            "_view_name": "LayoutView",
            "align_content": null,
            "align_items": null,
            "align_self": null,
            "border": null,
            "bottom": null,
            "display": null,
            "flex": null,
            "flex_flow": null,
            "grid_area": null,
            "grid_auto_columns": null,
            "grid_auto_flow": null,
            "grid_auto_rows": null,
            "grid_column": null,
            "grid_gap": null,
            "grid_row": null,
            "grid_template_areas": null,
            "grid_template_columns": null,
            "grid_template_rows": null,
            "height": null,
            "justify_content": null,
            "justify_items": null,
            "left": null,
            "margin": null,
            "max_height": null,
            "max_width": null,
            "min_height": null,
            "min_width": null,
            "object_fit": null,
            "object_position": null,
            "order": null,
            "overflow": null,
            "overflow_x": null,
            "overflow_y": null,
            "padding": null,
            "right": null,
            "top": null,
            "visibility": null,
            "width": null
          }
        },
        "2137a06843b94ce59665f261e879eec9": {
          "model_module": "@jupyter-widgets/base",
          "model_name": "LayoutModel",
          "model_module_version": "1.2.0",
          "state": {
            "_model_module": "@jupyter-widgets/base",
            "_model_module_version": "1.2.0",
            "_model_name": "LayoutModel",
            "_view_count": null,
            "_view_module": "@jupyter-widgets/base",
            "_view_module_version": "1.2.0",
            "_view_name": "LayoutView",
            "align_content": null,
            "align_items": null,
            "align_self": null,
            "border": null,
            "bottom": null,
            "display": null,
            "flex": null,
            "flex_flow": null,
            "grid_area": null,
            "grid_auto_columns": null,
            "grid_auto_flow": null,
            "grid_auto_rows": null,
            "grid_column": null,
            "grid_gap": null,
            "grid_row": null,
            "grid_template_areas": null,
            "grid_template_columns": null,
            "grid_template_rows": null,
            "height": null,
            "justify_content": null,
            "justify_items": null,
            "left": null,
            "margin": null,
            "max_height": null,
            "max_width": null,
            "min_height": null,
            "min_width": null,
            "object_fit": null,
            "object_position": null,
            "order": null,
            "overflow": null,
            "overflow_x": null,
            "overflow_y": null,
            "padding": null,
            "right": null,
            "top": null,
            "visibility": null,
            "width": null
          }
        },
        "1faf134bcbf447ef96e3029b8f9449ad": {
          "model_module": "@jupyter-widgets/controls",
          "model_name": "DescriptionStyleModel",
          "model_module_version": "1.5.0",
          "state": {
            "_model_module": "@jupyter-widgets/controls",
            "_model_module_version": "1.5.0",
            "_model_name": "DescriptionStyleModel",
            "_view_count": null,
            "_view_module": "@jupyter-widgets/base",
            "_view_module_version": "1.2.0",
            "_view_name": "StyleView",
            "description_width": ""
          }
        },
        "f18f009d24e64d64a071fdb661d0c528": {
          "model_module": "@jupyter-widgets/base",
          "model_name": "LayoutModel",
          "model_module_version": "1.2.0",
          "state": {
            "_model_module": "@jupyter-widgets/base",
            "_model_module_version": "1.2.0",
            "_model_name": "LayoutModel",
            "_view_count": null,
            "_view_module": "@jupyter-widgets/base",
            "_view_module_version": "1.2.0",
            "_view_name": "LayoutView",
            "align_content": null,
            "align_items": null,
            "align_self": null,
            "border": null,
            "bottom": null,
            "display": null,
            "flex": null,
            "flex_flow": null,
            "grid_area": null,
            "grid_auto_columns": null,
            "grid_auto_flow": null,
            "grid_auto_rows": null,
            "grid_column": null,
            "grid_gap": null,
            "grid_row": null,
            "grid_template_areas": null,
            "grid_template_columns": null,
            "grid_template_rows": null,
            "height": null,
            "justify_content": null,
            "justify_items": null,
            "left": null,
            "margin": null,
            "max_height": null,
            "max_width": null,
            "min_height": null,
            "min_width": null,
            "object_fit": null,
            "object_position": null,
            "order": null,
            "overflow": null,
            "overflow_x": null,
            "overflow_y": null,
            "padding": null,
            "right": null,
            "top": null,
            "visibility": null,
            "width": null
          }
        },
        "fc791ce44fbe48748e360f09882b16b2": {
          "model_module": "@jupyter-widgets/controls",
          "model_name": "ProgressStyleModel",
          "model_module_version": "1.5.0",
          "state": {
            "_model_module": "@jupyter-widgets/controls",
            "_model_module_version": "1.5.0",
            "_model_name": "ProgressStyleModel",
            "_view_count": null,
            "_view_module": "@jupyter-widgets/base",
            "_view_module_version": "1.2.0",
            "_view_name": "StyleView",
            "bar_color": null,
            "description_width": ""
          }
        },
        "aa95ee8d296d419296f63e0e217ea62d": {
          "model_module": "@jupyter-widgets/base",
          "model_name": "LayoutModel",
          "model_module_version": "1.2.0",
          "state": {
            "_model_module": "@jupyter-widgets/base",
            "_model_module_version": "1.2.0",
            "_model_name": "LayoutModel",
            "_view_count": null,
            "_view_module": "@jupyter-widgets/base",
            "_view_module_version": "1.2.0",
            "_view_name": "LayoutView",
            "align_content": null,
            "align_items": null,
            "align_self": null,
            "border": null,
            "bottom": null,
            "display": null,
            "flex": null,
            "flex_flow": null,
            "grid_area": null,
            "grid_auto_columns": null,
            "grid_auto_flow": null,
            "grid_auto_rows": null,
            "grid_column": null,
            "grid_gap": null,
            "grid_row": null,
            "grid_template_areas": null,
            "grid_template_columns": null,
            "grid_template_rows": null,
            "height": null,
            "justify_content": null,
            "justify_items": null,
            "left": null,
            "margin": null,
            "max_height": null,
            "max_width": null,
            "min_height": null,
            "min_width": null,
            "object_fit": null,
            "object_position": null,
            "order": null,
            "overflow": null,
            "overflow_x": null,
            "overflow_y": null,
            "padding": null,
            "right": null,
            "top": null,
            "visibility": null,
            "width": null
          }
        },
        "91c02ffd1c634914b101d8527af9694a": {
          "model_module": "@jupyter-widgets/controls",
          "model_name": "DescriptionStyleModel",
          "model_module_version": "1.5.0",
          "state": {
            "_model_module": "@jupyter-widgets/controls",
            "_model_module_version": "1.5.0",
            "_model_name": "DescriptionStyleModel",
            "_view_count": null,
            "_view_module": "@jupyter-widgets/base",
            "_view_module_version": "1.2.0",
            "_view_name": "StyleView",
            "description_width": ""
          }
        },
        "8fd977697f91429cb44e7375ffa7c8f3": {
          "model_module": "@jupyter-widgets/controls",
          "model_name": "HBoxModel",
          "model_module_version": "1.5.0",
          "state": {
            "_dom_classes": [],
            "_model_module": "@jupyter-widgets/controls",
            "_model_module_version": "1.5.0",
            "_model_name": "HBoxModel",
            "_view_count": null,
            "_view_module": "@jupyter-widgets/controls",
            "_view_module_version": "1.5.0",
            "_view_name": "HBoxView",
            "box_style": "",
            "children": [
              "IPY_MODEL_c90ab03eca174fabbb760f71d9d0c76c",
              "IPY_MODEL_2719e15a06a445a78c73cf362e684b0a",
              "IPY_MODEL_e7588f39a2284a3e98698fe6d9569168"
            ],
            "layout": "IPY_MODEL_befde978e30c4ec3aeb4950234c6030c"
          }
        },
        "c90ab03eca174fabbb760f71d9d0c76c": {
          "model_module": "@jupyter-widgets/controls",
          "model_name": "HTMLModel",
          "model_module_version": "1.5.0",
          "state": {
            "_dom_classes": [],
            "_model_module": "@jupyter-widgets/controls",
            "_model_module_version": "1.5.0",
            "_model_name": "HTMLModel",
            "_view_count": null,
            "_view_module": "@jupyter-widgets/controls",
            "_view_module_version": "1.5.0",
            "_view_name": "HTMLView",
            "description": "",
            "description_tooltip": null,
            "layout": "IPY_MODEL_256d768d2a8d4b13b43345d8a6e1cab5",
            "placeholder": "​",
            "style": "IPY_MODEL_20bcc53edb6645249f6efa71e5498bc8",
            "value": "100%"
          }
        },
        "2719e15a06a445a78c73cf362e684b0a": {
          "model_module": "@jupyter-widgets/controls",
          "model_name": "FloatProgressModel",
          "model_module_version": "1.5.0",
          "state": {
            "_dom_classes": [],
            "_model_module": "@jupyter-widgets/controls",
            "_model_module_version": "1.5.0",
            "_model_name": "FloatProgressModel",
            "_view_count": null,
            "_view_module": "@jupyter-widgets/controls",
            "_view_module_version": "1.5.0",
            "_view_name": "ProgressView",
            "bar_style": "success",
            "description": "",
            "description_tooltip": null,
            "layout": "IPY_MODEL_fb2fb4600b2d494e96eeed872a3645c3",
            "max": 102530333,
            "min": 0,
            "orientation": "horizontal",
            "style": "IPY_MODEL_7a9f9b017f7a483a9c58125c07f6f4fc",
            "value": 102530333
          }
        },
        "e7588f39a2284a3e98698fe6d9569168": {
          "model_module": "@jupyter-widgets/controls",
          "model_name": "HTMLModel",
          "model_module_version": "1.5.0",
          "state": {
            "_dom_classes": [],
            "_model_module": "@jupyter-widgets/controls",
            "_model_module_version": "1.5.0",
            "_model_name": "HTMLModel",
            "_view_count": null,
            "_view_module": "@jupyter-widgets/controls",
            "_view_module_version": "1.5.0",
            "_view_name": "HTMLView",
            "description": "",
            "description_tooltip": null,
            "layout": "IPY_MODEL_e38c5cb8bb2443b09a8a95bc4632681e",
            "placeholder": "​",
            "style": "IPY_MODEL_04b2a7b711c64fc1a5ea8e8047b1c85b",
            "value": " 97.8M/97.8M [00:00&lt;00:00, 135MB/s]"
          }
        },
        "befde978e30c4ec3aeb4950234c6030c": {
          "model_module": "@jupyter-widgets/base",
          "model_name": "LayoutModel",
          "model_module_version": "1.2.0",
          "state": {
            "_model_module": "@jupyter-widgets/base",
            "_model_module_version": "1.2.0",
            "_model_name": "LayoutModel",
            "_view_count": null,
            "_view_module": "@jupyter-widgets/base",
            "_view_module_version": "1.2.0",
            "_view_name": "LayoutView",
            "align_content": null,
            "align_items": null,
            "align_self": null,
            "border": null,
            "bottom": null,
            "display": null,
            "flex": null,
            "flex_flow": null,
            "grid_area": null,
            "grid_auto_columns": null,
            "grid_auto_flow": null,
            "grid_auto_rows": null,
            "grid_column": null,
            "grid_gap": null,
            "grid_row": null,
            "grid_template_areas": null,
            "grid_template_columns": null,
            "grid_template_rows": null,
            "height": null,
            "justify_content": null,
            "justify_items": null,
            "left": null,
            "margin": null,
            "max_height": null,
            "max_width": null,
            "min_height": null,
            "min_width": null,
            "object_fit": null,
            "object_position": null,
            "order": null,
            "overflow": null,
            "overflow_x": null,
            "overflow_y": null,
            "padding": null,
            "right": null,
            "top": null,
            "visibility": null,
            "width": null
          }
        },
        "256d768d2a8d4b13b43345d8a6e1cab5": {
          "model_module": "@jupyter-widgets/base",
          "model_name": "LayoutModel",
          "model_module_version": "1.2.0",
          "state": {
            "_model_module": "@jupyter-widgets/base",
            "_model_module_version": "1.2.0",
            "_model_name": "LayoutModel",
            "_view_count": null,
            "_view_module": "@jupyter-widgets/base",
            "_view_module_version": "1.2.0",
            "_view_name": "LayoutView",
            "align_content": null,
            "align_items": null,
            "align_self": null,
            "border": null,
            "bottom": null,
            "display": null,
            "flex": null,
            "flex_flow": null,
            "grid_area": null,
            "grid_auto_columns": null,
            "grid_auto_flow": null,
            "grid_auto_rows": null,
            "grid_column": null,
            "grid_gap": null,
            "grid_row": null,
            "grid_template_areas": null,
            "grid_template_columns": null,
            "grid_template_rows": null,
            "height": null,
            "justify_content": null,
            "justify_items": null,
            "left": null,
            "margin": null,
            "max_height": null,
            "max_width": null,
            "min_height": null,
            "min_width": null,
            "object_fit": null,
            "object_position": null,
            "order": null,
            "overflow": null,
            "overflow_x": null,
            "overflow_y": null,
            "padding": null,
            "right": null,
            "top": null,
            "visibility": null,
            "width": null
          }
        },
        "20bcc53edb6645249f6efa71e5498bc8": {
          "model_module": "@jupyter-widgets/controls",
          "model_name": "DescriptionStyleModel",
          "model_module_version": "1.5.0",
          "state": {
            "_model_module": "@jupyter-widgets/controls",
            "_model_module_version": "1.5.0",
            "_model_name": "DescriptionStyleModel",
            "_view_count": null,
            "_view_module": "@jupyter-widgets/base",
            "_view_module_version": "1.2.0",
            "_view_name": "StyleView",
            "description_width": ""
          }
        },
        "fb2fb4600b2d494e96eeed872a3645c3": {
          "model_module": "@jupyter-widgets/base",
          "model_name": "LayoutModel",
          "model_module_version": "1.2.0",
          "state": {
            "_model_module": "@jupyter-widgets/base",
            "_model_module_version": "1.2.0",
            "_model_name": "LayoutModel",
            "_view_count": null,
            "_view_module": "@jupyter-widgets/base",
            "_view_module_version": "1.2.0",
            "_view_name": "LayoutView",
            "align_content": null,
            "align_items": null,
            "align_self": null,
            "border": null,
            "bottom": null,
            "display": null,
            "flex": null,
            "flex_flow": null,
            "grid_area": null,
            "grid_auto_columns": null,
            "grid_auto_flow": null,
            "grid_auto_rows": null,
            "grid_column": null,
            "grid_gap": null,
            "grid_row": null,
            "grid_template_areas": null,
            "grid_template_columns": null,
            "grid_template_rows": null,
            "height": null,
            "justify_content": null,
            "justify_items": null,
            "left": null,
            "margin": null,
            "max_height": null,
            "max_width": null,
            "min_height": null,
            "min_width": null,
            "object_fit": null,
            "object_position": null,
            "order": null,
            "overflow": null,
            "overflow_x": null,
            "overflow_y": null,
            "padding": null,
            "right": null,
            "top": null,
            "visibility": null,
            "width": null
          }
        },
        "7a9f9b017f7a483a9c58125c07f6f4fc": {
          "model_module": "@jupyter-widgets/controls",
          "model_name": "ProgressStyleModel",
          "model_module_version": "1.5.0",
          "state": {
            "_model_module": "@jupyter-widgets/controls",
            "_model_module_version": "1.5.0",
            "_model_name": "ProgressStyleModel",
            "_view_count": null,
            "_view_module": "@jupyter-widgets/base",
            "_view_module_version": "1.2.0",
            "_view_name": "StyleView",
            "bar_color": null,
            "description_width": ""
          }
        },
        "e38c5cb8bb2443b09a8a95bc4632681e": {
          "model_module": "@jupyter-widgets/base",
          "model_name": "LayoutModel",
          "model_module_version": "1.2.0",
          "state": {
            "_model_module": "@jupyter-widgets/base",
            "_model_module_version": "1.2.0",
            "_model_name": "LayoutModel",
            "_view_count": null,
            "_view_module": "@jupyter-widgets/base",
            "_view_module_version": "1.2.0",
            "_view_name": "LayoutView",
            "align_content": null,
            "align_items": null,
            "align_self": null,
            "border": null,
            "bottom": null,
            "display": null,
            "flex": null,
            "flex_flow": null,
            "grid_area": null,
            "grid_auto_columns": null,
            "grid_auto_flow": null,
            "grid_auto_rows": null,
            "grid_column": null,
            "grid_gap": null,
            "grid_row": null,
            "grid_template_areas": null,
            "grid_template_columns": null,
            "grid_template_rows": null,
            "height": null,
            "justify_content": null,
            "justify_items": null,
            "left": null,
            "margin": null,
            "max_height": null,
            "max_width": null,
            "min_height": null,
            "min_width": null,
            "object_fit": null,
            "object_position": null,
            "order": null,
            "overflow": null,
            "overflow_x": null,
            "overflow_y": null,
            "padding": null,
            "right": null,
            "top": null,
            "visibility": null,
            "width": null
          }
        },
        "04b2a7b711c64fc1a5ea8e8047b1c85b": {
          "model_module": "@jupyter-widgets/controls",
          "model_name": "DescriptionStyleModel",
          "model_module_version": "1.5.0",
          "state": {
            "_model_module": "@jupyter-widgets/controls",
            "_model_module_version": "1.5.0",
            "_model_name": "DescriptionStyleModel",
            "_view_count": null,
            "_view_module": "@jupyter-widgets/base",
            "_view_module_version": "1.2.0",
            "_view_name": "StyleView",
            "description_width": ""
          }
        }
      }
    },
    "gpuClass": "standard",
    "accelerator": "GPU"
  },
  "cells": [
    {
      "cell_type": "markdown",
      "metadata": {
        "id": "view-in-github",
        "colab_type": "text"
      },
      "source": [
        "<a href=\"https://colab.research.google.com/github/VadPA/PyTorch/blob/master/Lesson_4_hw_v3.ipynb\" target=\"_parent\"><img src=\"https://colab.research.google.com/assets/colab-badge.svg\" alt=\"Open In Colab\"/></a>"
      ]
    },
    {
      "cell_type": "code",
      "execution_count": 1,
      "metadata": {
        "id": "OtfO0KgiqntQ"
      },
      "outputs": [],
      "source": [
        "import numpy as np\n",
        "import torch\n",
        "\n",
        "from torch import nn\n",
        "from torch.nn import functional as F\n",
        "from PIL import Image\n",
        "from torchvision import transforms, datasets\n",
        "from tqdm import tqdm\n",
        "\n",
        "from sklearn.model_selection import train_test_split\n",
        "import pickle\n",
        "import os"
      ]
    },
    {
      "cell_type": "code",
      "source": [
        "import matplotlib.pyplot as plt\n",
        "from torchsummary import summary"
      ],
      "metadata": {
        "id": "JBVjFbRzCh6p"
      },
      "execution_count": 2,
      "outputs": []
    },
    {
      "cell_type": "code",
      "source": [
        "def load_labels_name(filename):\n",
        "    with open(filename, 'rb') as f:\n",
        "        obj = pickle.load(f)\n",
        "    return obj"
      ],
      "metadata": {
        "id": "IO3XH5Xo24Cv"
      },
      "execution_count": 3,
      "outputs": []
    },
    {
      "cell_type": "code",
      "source": [
        "def train_valid_split(Xt):\n",
        "    X_train, X_test = train_test_split(Xt, test_size=0.05, random_state=13)\n",
        "    return X_train, X_test"
      ],
      "metadata": {
        "id": "2ya6Cczf98Qg"
      },
      "execution_count": 4,
      "outputs": []
    },
    {
      "cell_type": "code",
      "source": [
        "class MyOwnCifar(torch.utils.data.Dataset):\n",
        "   \n",
        "    def __init__(self, init_dataset, transform=None):\n",
        "        self._base_dataset = init_dataset\n",
        "        self.transform = transform\n",
        "\n",
        "    def __len__(self):\n",
        "        return len(self._base_dataset)\n",
        "\n",
        "    def __getitem__(self, idx):\n",
        "        img = self._base_dataset[idx][0]\n",
        "        if self.transform is not None:\n",
        "            img = self.transform(img)\n",
        "        return img, self._base_dataset[idx][1]"
      ],
      "metadata": {
        "id": "pHKYhqkLqx8B"
      },
      "execution_count": 5,
      "outputs": []
    },
    {
      "cell_type": "code",
      "source": [
        "dataset = datasets.CIFAR100(root='data/', train=True, download=True)"
      ],
      "metadata": {
        "colab": {
          "base_uri": "https://localhost:8080/",
          "height": 84,
          "referenced_widgets": [
            "552cd0e243d4466088c0c05cbb3bad84",
            "7b541d7681c348678defab8fa9f3b7c5",
            "8e201d596c314b68bb27535a0e796f9c",
            "6998e4588b34465585f173ce9efeac19",
            "4a4881c57852495083f68d75030fe7dc",
            "2137a06843b94ce59665f261e879eec9",
            "1faf134bcbf447ef96e3029b8f9449ad",
            "f18f009d24e64d64a071fdb661d0c528",
            "fc791ce44fbe48748e360f09882b16b2",
            "aa95ee8d296d419296f63e0e217ea62d",
            "91c02ffd1c634914b101d8527af9694a"
          ]
        },
        "id": "2j_xjS21WGk3",
        "outputId": "67ed00be-77bc-49aa-d865-159473867b30"
      },
      "execution_count": 6,
      "outputs": [
        {
          "output_type": "stream",
          "name": "stdout",
          "text": [
            "Downloading https://www.cs.toronto.edu/~kriz/cifar-100-python.tar.gz to data/cifar-100-python.tar.gz\n"
          ]
        },
        {
          "output_type": "display_data",
          "data": {
            "text/plain": [
              "  0%|          | 0/169001437 [00:00<?, ?it/s]"
            ],
            "application/vnd.jupyter.widget-view+json": {
              "version_major": 2,
              "version_minor": 0,
              "model_id": "552cd0e243d4466088c0c05cbb3bad84"
            }
          },
          "metadata": {}
        },
        {
          "output_type": "stream",
          "name": "stdout",
          "text": [
            "Extracting data/cifar-100-python.tar.gz to data/\n"
          ]
        }
      ]
    },
    {
      "cell_type": "code",
      "source": [
        "trans_actions = transforms.Compose([transforms.Resize(44),\n",
        "                                    transforms.RandomCrop(32, padding=4), \n",
        "                                    transforms.ToTensor()])"
      ],
      "metadata": {
        "id": "0VnyOhJE9wca"
      },
      "execution_count": 7,
      "outputs": []
    },
    {
      "cell_type": "code",
      "source": [
        "train_dataset, valid_dataset = train_valid_split(dataset)"
      ],
      "metadata": {
        "id": "_Syfyk11993_"
      },
      "execution_count": 8,
      "outputs": []
    },
    {
      "cell_type": "code",
      "source": [
        "train_dataset = MyOwnCifar(train_dataset, trans_actions)\n",
        "valid_dataset = MyOwnCifar(valid_dataset, transforms.ToTensor())"
      ],
      "metadata": {
        "id": "9YGsPC2G-LBw"
      },
      "execution_count": 9,
      "outputs": []
    },
    {
      "cell_type": "code",
      "source": [
        "train_loader = torch.utils.data.DataLoader(train_dataset,\n",
        "                                           batch_size=128,\n",
        "                                           shuffle=True,\n",
        "                                           num_workers=2)\n",
        "valid_loader = torch.utils.data.DataLoader(valid_dataset,\n",
        "                                           batch_size=128,\n",
        "                                           shuffle=False,\n",
        "                                           num_workers=1)"
      ],
      "metadata": {
        "id": "7IkseQgj-Ei_"
      },
      "execution_count": 10,
      "outputs": []
    },
    {
      "cell_type": "code",
      "source": [
        "files = os.listdir('data/cifar-100-python')\n",
        "print(files)"
      ],
      "metadata": {
        "colab": {
          "base_uri": "https://localhost:8080/"
        },
        "id": "xNG9Gf5u5biE",
        "outputId": "877c8d74-6a22-439e-9eec-d7ece41878b8"
      },
      "execution_count": 11,
      "outputs": [
        {
          "output_type": "stream",
          "name": "stdout",
          "text": [
            "['file.txt~', 'test', 'train', 'meta']\n"
          ]
        }
      ]
    },
    {
      "cell_type": "code",
      "source": [
        "data_cifar100 = load_labels_name('data/cifar-100-python/meta')"
      ],
      "metadata": {
        "id": "oJtbgEzc3L_d"
      },
      "execution_count": 12,
      "outputs": []
    },
    {
      "cell_type": "code",
      "source": [
        "classes_cifar100 = data_cifar100['fine_label_names']"
      ],
      "metadata": {
        "id": "9TD9WAIf3sdE"
      },
      "execution_count": 13,
      "outputs": []
    },
    {
      "cell_type": "code",
      "source": [
        "for img, lbl in train_loader:\n",
        "    print(img.shape)\n",
        "    print(classes_cifar100[lbl[0]])\n",
        "    plt.imshow(img[0].permute(1, 2, 0))\n",
        "    break"
      ],
      "metadata": {
        "colab": {
          "base_uri": "https://localhost:8080/",
          "height": 301
        },
        "id": "0afGnfQlC1O-",
        "outputId": "d13b6967-a06b-428c-eb3c-acaba52de26f"
      },
      "execution_count": 14,
      "outputs": [
        {
          "output_type": "stream",
          "name": "stdout",
          "text": [
            "torch.Size([128, 3, 32, 32])\n",
            "can\n"
          ]
        },
        {
          "output_type": "display_data",
          "data": {
            "text/plain": [
              "<Figure size 432x288 with 1 Axes>"
            ],
            "image/png": "[encoded data removed]"
          },
          "metadata": {
            "needs_background": "light"
          }
        }
      ]
    },
    {
      "cell_type": "code",
      "source": [
        "device = 'cuda' if torch.cuda.is_available() else 'cpu'\n",
        "device"
      ],
      "metadata": {
        "colab": {
          "base_uri": "https://localhost:8080/",
          "height": 35
        },
        "id": "30kbZR_jEt1w",
        "outputId": "f917714b-290a-4a89-cc69-e783e3622cfc"
      },
      "execution_count": 15,
      "outputs": [
        {
          "output_type": "execute_result",
          "data": {
            "text/plain": [
              "'cpu'"
            ],
            "application/vnd.google.colaboratory.intrinsic+json": {
              "type": "string"
            }
          },
          "metadata": {},
          "execution_count": 15
        }
      ]
    },
    {
      "cell_type": "code",
      "source": [
        "class Net(nn.Module):\n",
        "    def __init__(self):\n",
        "        super(Net, self).__init__()\n",
        "        self.dp_one = nn.Dropout(0.2)\n",
        "        self.dp_two = nn.Dropout(0.2)\n",
        "        \n",
        "        self.bn_one = torch.nn.BatchNorm2d(3) \n",
        "        self.conv_one = torch.nn.Conv2d(3, 60, 3)\n",
        "        self.bn_two = torch.nn.BatchNorm2d(60) \n",
        "        self.conv_two = torch.nn.Conv2d(60, 90, 3)\n",
        "        self.bn_three = torch.nn.BatchNorm2d(90)\n",
        "        self.conv_three = torch.nn.Conv2d(90, 150, 3)\n",
        "        self.bn_four = torch.nn.BatchNorm2d(150)\n",
        "        self.fc1 = torch.nn.Linear(600, 300)\n",
        "        self.fc2 = torch.nn.Linear(300, 160)\n",
        "        self.out = torch.nn.Linear(160, 100)\n",
        "        \n",
        "    def forward(self, x):\n",
        "        x = self.bn_one(x)\n",
        "        x = self.conv_one(x)\n",
        "        x = F.relu(x)\n",
        "        x = F.max_pool2d(x, 2)\n",
        "        \n",
        "        x = self.bn_two(x)\n",
        "        x = self.conv_two(x)\n",
        "        x = F.relu(x)\n",
        "        x = F.max_pool2d(x, 2)\n",
        "        \n",
        "        x = self.bn_three(x)\n",
        "        x = self.conv_three(x)\n",
        "        x = F.leaky_relu(x, 0.1)\n",
        "        x = F.max_pool2d(x, 2)\n",
        "        \n",
        "        x = self.bn_four(x)\n",
        "        x = x.view(x.size(0), -1)\n",
        "        x = self.dp_one(x)\n",
        "        x = self.fc1(x)\n",
        "        x = F.relu(x)\n",
        "        x = self.dp_two(x)\n",
        "        x = self.fc2(x)\n",
        "        x = F.relu(x)\n",
        "        return self.out(x)"
      ],
      "metadata": {
        "id": "X6mMR7zSC33G"
      },
      "execution_count": 16,
      "outputs": []
    },
    {
      "cell_type": "code",
      "source": [
        "net = Net()\n",
        "print(net)"
      ],
      "metadata": {
        "colab": {
          "base_uri": "https://localhost:8080/"
        },
        "id": "DaH1t2S-ewTU",
        "outputId": "a7166309-9d78-4ea8-df2c-9f3ccedad5ed"
      },
      "execution_count": 17,
      "outputs": [
        {
          "output_type": "stream",
          "name": "stdout",
          "text": [
            "Net(\n",
            "  (dp_one): Dropout(p=0.2, inplace=False)\n",
            "  (dp_two): Dropout(p=0.2, inplace=False)\n",
            "  (bn_one): BatchNorm2d(3, eps=1e-05, momentum=0.1, affine=True, track_running_stats=True)\n",
            "  (conv_one): Conv2d(3, 60, kernel_size=(3, 3), stride=(1, 1))\n",
            "  (bn_two): BatchNorm2d(60, eps=1e-05, momentum=0.1, affine=True, track_running_stats=True)\n",
            "  (conv_two): Conv2d(60, 90, kernel_size=(3, 3), stride=(1, 1))\n",
            "  (bn_three): BatchNorm2d(90, eps=1e-05, momentum=0.1, affine=True, track_running_stats=True)\n",
            "  (conv_three): Conv2d(90, 150, kernel_size=(3, 3), stride=(1, 1))\n",
            "  (bn_four): BatchNorm2d(150, eps=1e-05, momentum=0.1, affine=True, track_running_stats=True)\n",
            "  (fc1): Linear(in_features=600, out_features=300, bias=True)\n",
            "  (fc2): Linear(in_features=300, out_features=160, bias=True)\n",
            "  (out): Linear(in_features=160, out_features=100, bias=True)\n",
            ")\n"
          ]
        }
      ]
    },
    {
      "cell_type": "code",
      "source": [
        "optimizer = torch.optim.Adam(net.parameters(), lr=0.001)\n",
        "criterion = nn.CrossEntropyLoss()"
      ],
      "metadata": {
        "id": "Ac-nIo74DGUw"
      },
      "execution_count": 18,
      "outputs": []
    },
    {
      "cell_type": "code",
      "source": [
        "summary(net.to(device), input_size=(3, 32, 32))"
      ],
      "metadata": {
        "colab": {
          "base_uri": "https://localhost:8080/"
        },
        "id": "cBW8lvm1DHI1",
        "outputId": "ebb96680-0a59-45e5-aa5c-92c001608b2a"
      },
      "execution_count": 19,
      "outputs": [
        {
          "output_type": "stream",
          "name": "stdout",
          "text": [
            "----------------------------------------------------------------\n",
            "        Layer (type)               Output Shape         Param #\n",
            "================================================================\n",
            "       BatchNorm2d-1            [-1, 3, 32, 32]               6\n",
            "            Conv2d-2           [-1, 60, 30, 30]           1,680\n",
            "       BatchNorm2d-3           [-1, 60, 15, 15]             120\n",
            "            Conv2d-4           [-1, 90, 13, 13]          48,690\n",
            "       BatchNorm2d-5             [-1, 90, 6, 6]             180\n",
            "            Conv2d-6            [-1, 150, 4, 4]         121,650\n",
            "       BatchNorm2d-7            [-1, 150, 2, 2]             300\n",
            "           Dropout-8                  [-1, 600]               0\n",
            "            Linear-9                  [-1, 300]         180,300\n",
            "          Dropout-10                  [-1, 300]               0\n",
            "           Linear-11                  [-1, 160]          48,160\n",
            "           Linear-12                  [-1, 100]          16,100\n",
            "================================================================\n",
            "Total params: 417,186\n",
            "Trainable params: 417,186\n",
            "Non-trainable params: 0\n",
            "----------------------------------------------------------------\n",
            "Input size (MB): 0.01\n",
            "Forward/backward pass size (MB): 0.71\n",
            "Params size (MB): 1.59\n",
            "Estimated Total Size (MB): 2.32\n",
            "----------------------------------------------------------------\n"
          ]
        }
      ]
    },
    {
      "cell_type": "code",
      "source": [
        "num_epochs = 5\n",
        "net.train()"
      ],
      "metadata": {
        "colab": {
          "base_uri": "https://localhost:8080/"
        },
        "id": "ZbqzRNEIZ5aS",
        "outputId": "197e9fba-c8fa-444d-aac4-290ab67ec2f8"
      },
      "execution_count": 20,
      "outputs": [
        {
          "output_type": "execute_result",
          "data": {
            "text/plain": [
              "Net(\n",
              "  (dp_one): Dropout(p=0.2, inplace=False)\n",
              "  (dp_two): Dropout(p=0.2, inplace=False)\n",
              "  (bn_one): BatchNorm2d(3, eps=1e-05, momentum=0.1, affine=True, track_running_stats=True)\n",
              "  (conv_one): Conv2d(3, 60, kernel_size=(3, 3), stride=(1, 1))\n",
              "  (bn_two): BatchNorm2d(60, eps=1e-05, momentum=0.1, affine=True, track_running_stats=True)\n",
              "  (conv_two): Conv2d(60, 90, kernel_size=(3, 3), stride=(1, 1))\n",
              "  (bn_three): BatchNorm2d(90, eps=1e-05, momentum=0.1, affine=True, track_running_stats=True)\n",
              "  (conv_three): Conv2d(90, 150, kernel_size=(3, 3), stride=(1, 1))\n",
              "  (bn_four): BatchNorm2d(150, eps=1e-05, momentum=0.1, affine=True, track_running_stats=True)\n",
              "  (fc1): Linear(in_features=600, out_features=300, bias=True)\n",
              "  (fc2): Linear(in_features=300, out_features=160, bias=True)\n",
              "  (out): Linear(in_features=160, out_features=100, bias=True)\n",
              ")"
            ]
          },
          "metadata": {},
          "execution_count": 20
        }
      ]
    },
    {
      "cell_type": "code",
      "source": [
        "for epoch in range(num_epochs):  \n",
        "    running_loss, running_items, running_right = 0.0, 0.0, 0.0\n",
        "    for i, data in enumerate(train_loader, 0):\n",
        "        inputs, labels = data[0].to(device), data[1].to(device)\n",
        "\n",
        "        # обнуляем градиент\n",
        "        optimizer.zero_grad()\n",
        "\n",
        "        outputs = net(inputs)\n",
        "        loss = criterion(outputs, labels)\n",
        "        loss.backward()\n",
        "        optimizer.step()\n",
        "\n",
        "        # выводим статистику о процессе обучения\n",
        "        running_loss += loss.item()\n",
        "        running_items += len(labels)\n",
        "        running_right += (labels  == torch.max(outputs, 1)[1]).sum()\n",
        "        \n",
        "        # выводим статистику о процессе обучения\n",
        "        if i % 300 == 0:    # печатаем каждые 300 mini-batches\n",
        "            net.eval()\n",
        "            \n",
        "            print(f'Epoch [{epoch + 1}/{num_epochs}]. ' \\\n",
        "                  f'Step [{i + 1}/{len(train_loader)}]. ' \\\n",
        "                  f'Loss: {running_loss / running_items:.3f}. ' \\\n",
        "                  f'Acc: {running_right / running_items:.3f}', end='. ')\n",
        "            running_loss, running_items, running_right = 0.0, 0.0, 0.0\n",
        "\n",
        "            test_running_right, test_running_total = 0.0, 0.0\n",
        "            for i, data in enumerate(valid_loader, 0):\n",
        "            \n",
        "                test_outputs = net(data[0].to(device))\n",
        "                test_running_total += len(data[1])\n",
        "                test_running_right += (data[1].to(device) == torch.max(test_outputs, 1)[1]).sum()\n",
        "            \n",
        "            print(f'Test acc: {test_running_right / test_running_total:.3f}')\n",
        "        \n",
        "        net.train()\n",
        "        \n",
        "print('Training is finished!')"
      ],
      "metadata": {
        "colab": {
          "base_uri": "https://localhost:8080/"
        },
        "id": "TTDd9p1vDQAY",
        "outputId": "9be2cb2d-6a75-4ac7-984f-1d55249f44df"
      },
      "execution_count": 21,
      "outputs": [
        {
          "output_type": "stream",
          "name": "stdout",
          "text": [
            "Epoch [1/5]. Step [1/372]. Loss: 0.036. Acc: 0.000. Test acc: 0.010\n",
            "Epoch [1/5]. Step [301/372]. Loss: 0.031. Acc: 0.091. Test acc: 0.102\n",
            "Epoch [2/5]. Step [1/372]. Loss: 0.030. Acc: 0.086. Test acc: 0.111\n",
            "Epoch [2/5]. Step [301/372]. Loss: 0.027. Acc: 0.159. Test acc: 0.133\n",
            "Epoch [3/5]. Step [1/372]. Loss: 0.025. Acc: 0.195. Test acc: 0.157\n",
            "Epoch [3/5]. Step [301/372]. Loss: 0.026. Acc: 0.200. Test acc: 0.168\n",
            "Epoch [4/5]. Step [1/372]. Loss: 0.025. Acc: 0.203. Test acc: 0.167\n",
            "Epoch [4/5]. Step [301/372]. Loss: 0.025. Acc: 0.226. Test acc: 0.185\n",
            "Epoch [5/5]. Step [1/372]. Loss: 0.023. Acc: 0.289. Test acc: 0.177\n",
            "Epoch [5/5]. Step [301/372]. Loss: 0.024. Acc: 0.243. Test acc: 0.210\n",
            "Training is finished!\n"
          ]
        }
      ]
    },
    {
      "cell_type": "code",
      "source": [
        "valid_loader = torch.utils.data.DataLoader(valid_dataset,\n",
        "                                           batch_size=8,\n",
        "                                           shuffle=True,\n",
        "                                           num_workers=1)"
      ],
      "metadata": {
        "id": "nslF_ynD34iR"
      },
      "execution_count": 22,
      "outputs": []
    },
    {
      "cell_type": "code",
      "source": [
        "data_iter = iter(valid_loader)\n",
        "inputs, labels = data_iter.next()\n",
        "labels = labels.to(device)\n",
        "inputs = inputs.to(device)\n",
        "labels"
      ],
      "metadata": {
        "id": "BBIWWbstDnH9",
        "colab": {
          "base_uri": "https://localhost:8080/"
        },
        "outputId": "4455300c-e0cd-46de-ef3a-5e0271cb7532"
      },
      "execution_count": 23,
      "outputs": [
        {
          "output_type": "execute_result",
          "data": {
            "text/plain": [
              "tensor([82, 57, 19, 96, 14, 45, 51, 17])"
            ]
          },
          "metadata": {},
          "execution_count": 23
        }
      ]
    },
    {
      "cell_type": "code",
      "source": [
        "import torchvision"
      ],
      "metadata": {
        "id": "u4d_pq7U0JMj"
      },
      "execution_count": 24,
      "outputs": []
    },
    {
      "cell_type": "code",
      "source": [
        "net.eval()\n",
        "outputs = net(inputs)\n",
        "imgs = torchvision.utils.make_grid(inputs.to('cpu'))\n",
        "plt.figure(figsize=(10, 5))\n",
        "plt.imshow(imgs.permute(1, 2, 0).numpy())\n",
        "print('GroundTruth: ', ' '.join(classes_cifar100[labels[j]] for j in range(len(labels))))"
      ],
      "metadata": {
        "id": "Y5Flku4Pz4kB",
        "colab": {
          "base_uri": "https://localhost:8080/",
          "height": 141
        },
        "outputId": "fbce431c-6c29-4a20-ae8a-96890d4dd14b"
      },
      "execution_count": 25,
      "outputs": [
        {
          "output_type": "stream",
          "name": "stdout",
          "text": [
            "GroundTruth:  sunflower pear cattle willow_tree butterfly lobster mushroom castle\n"
          ]
        },
        {
          "output_type": "display_data",
          "data": {
            "text/plain": [
              "<Figure size 720x360 with 1 Axes>"
            ],
            "image/png": "[encoded data removed]"
          },
          "metadata": {
            "needs_background": "light"
          }
        }
      ]
    },
    {
      "cell_type": "code",
      "source": [
        "print(outputs)"
      ],
      "metadata": {
        "id": "bQIQF5GV4UVq",
        "colab": {
          "base_uri": "https://localhost:8080/"
        },
        "outputId": "d45108ef-dfa4-4dfc-a6a6-b25f528c4afd"
      },
      "execution_count": 26,
      "outputs": [
        {
          "output_type": "stream",
          "name": "stdout",
          "text": [
            "tensor([[ 2.0522e+00,  1.1617e+00, -3.7484e+00, -2.3105e+00, -3.6977e+00,\n",
            "         -1.9903e+00,  1.1377e+00,  3.0492e-01, -3.3720e+00,  4.1147e-01,\n",
            "          3.6961e-01, -2.7824e+00, -3.7947e+00, -3.4309e+00,  6.4624e-01,\n",
            "         -2.9165e+00, -1.7233e+00, -4.5387e+00,  1.2029e+00, -1.3402e+00,\n",
            "         -3.3675e+00, -4.3189e+00, -1.2021e+00, -2.8349e+00, -1.0764e+00,\n",
            "         -1.1063e+00, -1.4481e+00, -2.6059e+00, -4.2395e-01, -1.5998e+00,\n",
            "         -4.8768e+00, -4.5766e+00, -5.6674e-01, -1.1731e+00, -1.7883e+00,\n",
            "         -2.7121e+00, -2.2277e+00, -4.4266e+00, -2.3725e+00, -6.7370e-01,\n",
            "         -1.3257e+00, -8.8381e-01, -3.1087e+00, -3.2240e+00,  1.2696e-01,\n",
            "         -1.6208e+00, -2.1235e+00, -6.1549e-01, -3.5540e+00, -1.1052e+00,\n",
            "         -2.3318e+00, -1.5109e-01, -3.8883e+00,  2.0030e+00,  4.2311e-01,\n",
            "         -2.3950e+00, -3.1236e+00,  1.4178e+00, -3.4862e+00, -3.5138e+00,\n",
            "         -5.8538e-01,  2.9714e-01,  2.4880e+00, -4.4005e+00, -3.2733e+00,\n",
            "         -1.7257e+00, -3.9399e+00, -6.5112e-01, -3.0839e+00, -1.4829e+00,\n",
            "          9.6690e-01, -1.9257e+00, -2.4232e+00, -2.5932e+00, -1.5697e+00,\n",
            "         -2.0068e+00, -3.5199e+00, -1.3081e+00, -8.6550e-01,  2.2025e-01,\n",
            "         -3.9941e+00, -5.0772e+00,  2.9666e+00,  2.3248e+00, -9.3316e-01,\n",
            "         -4.9336e+00, -1.5630e+00, -2.3179e+00, -4.1836e+00, -3.0176e+00,\n",
            "         -2.5903e+00, -2.6156e+00,  2.2247e+00, -1.5384e+00, -2.7810e+00,\n",
            "         -4.5930e+00, -1.2758e+00, -5.0995e+00, -1.8391e+00,  7.8895e-01],\n",
            "        [ 3.4037e+00,  2.2054e+00, -3.7671e+00, -4.5155e+00, -5.0503e+00,\n",
            "         -2.7690e-01, -3.9005e-02,  8.6576e-01, -7.3774e+00,  4.4090e-01,\n",
            "          1.2877e+00, -3.2683e+00, -5.9657e+00, -4.2088e+00,  5.2799e-01,\n",
            "         -2.2604e+00, -1.4685e+00, -5.6598e+00, -1.7679e+00, -1.6104e+00,\n",
            "         -2.5048e+00, -6.8143e+00, -1.9309e+00, -2.3505e+00, -1.0415e+00,\n",
            "         -8.9415e-01, -8.5999e-01, -4.7413e+00, -1.4656e-01, -3.9443e+00,\n",
            "         -8.2748e+00, -6.8867e+00,  2.0710e-01, -4.2627e+00, -3.9293e+00,\n",
            "         -2.6187e+00, -1.4184e+00, -5.4875e+00, -4.0755e+00, -2.1792e+00,\n",
            "         -5.2285e-01, -3.7314e+00, -4.6295e+00, -5.5463e+00, -6.0267e-01,\n",
            "         -1.0532e+00, -2.3446e+00, -4.0356e-01, -5.4406e+00, -3.4928e+00,\n",
            "         -3.0472e+00, -2.9549e+00, -7.1381e+00,  6.4971e+00, -1.2922e+00,\n",
            "         -4.2671e+00, -5.3124e+00,  2.9671e+00, -2.7224e+00, -5.0844e+00,\n",
            "         -1.7952e+00, -8.8040e-01,  3.4053e+00, -7.3476e+00, -5.6340e+00,\n",
            "         -2.9392e+00, -7.2631e+00, -1.5568e+00, -5.9290e+00, -1.3162e+00,\n",
            "          5.2745e-01, -9.2656e-01, -3.6447e+00, -5.1393e+00, -1.7751e+00,\n",
            "         -5.9324e+00, -3.6018e+00, -1.5522e+00, -1.2024e+00, -1.7312e+00,\n",
            "         -6.3148e+00, -5.9908e+00,  4.9936e+00,  3.4989e+00, -1.1434e+00,\n",
            "         -8.2859e+00, -2.3527e-02, -2.0416e+00, -6.8067e+00, -4.3787e+00,\n",
            "         -4.3406e+00, -4.3368e+00,  2.7359e+00, -2.9455e+00,  5.9849e-02,\n",
            "         -7.1881e+00, -5.1579e+00, -8.5417e+00, -1.0250e+00,  3.2093e-01],\n",
            "        [-8.7000e+00, -7.7333e-01, -2.4769e+00, -3.6358e+00, -2.5174e+00,\n",
            "         -1.5869e+00, -1.6712e+00, -8.6399e-01,  4.3551e+00, -2.9642e+00,\n",
            "         -5.2691e-01, -2.6085e+00, -3.9441e-02,  1.1010e+00,  3.9727e-02,\n",
            "         -2.3433e+00, -3.7969e-01, -3.4163e+00, -2.3396e+00, -1.8912e+00,\n",
            "         -1.4317e+00, -4.6416e+00,  4.6081e-01, -6.4023e+00, -3.6451e+00,\n",
            "         -2.3026e+00,  5.3065e-01, -3.4196e+00, -3.2842e+00, -3.3145e-01,\n",
            "         -4.6448e+00, -1.8445e+00, -2.2652e+00, -9.5997e-01, -2.1238e+00,\n",
            "         -2.6070e+00, -7.0275e+00, -8.2130e-01, -3.0866e+00,  5.6391e-02,\n",
            "         -1.4995e+00, -8.4640e-02, -8.0169e-01, -5.5195e+00, -1.7641e+00,\n",
            "         -1.0307e-01, -1.8677e+00, -2.5757e+00,  5.8397e+00, -1.7191e+00,\n",
            "         -3.4670e+00, -2.9765e+00, -4.6665e+00, -7.1744e+00, -2.2497e+00,\n",
            "         -3.0680e+00, -3.0285e-01, -3.9277e+00,  7.0165e-01, -1.8894e+00,\n",
            "         -7.6959e+00,  7.4812e-01, -4.5913e+00, -4.1967e+00, -1.9802e+00,\n",
            "         -2.8776e+00, -1.4879e+00, -5.0596e+00, -4.7423e+00, -3.9501e+00,\n",
            "         -3.9701e+00, -6.1729e+00, -2.8383e+00, -4.6928e+00, -3.3348e+00,\n",
            "          5.4100e-03, -3.1669e+00, -4.5277e+00,  7.7933e-01, -1.1297e+00,\n",
            "         -4.0733e+00, -3.6843e-01, -1.9242e+00, -5.0714e+00, -1.9893e-01,\n",
            "         -5.7910e-01,  4.1965e-02, -8.7703e-01, -9.2950e-02,  1.9367e+00,\n",
            "         -1.0127e+00, -1.5284e+00, -2.5559e+00, -3.4630e+00, -4.9066e+00,\n",
            "         -3.3212e+00, -3.8448e+00, -6.7952e-01, -3.3486e+00, -4.6894e-01],\n",
            "        [-3.8161e+00, -4.0863e+00, -5.6139e+00, -2.3260e+00, -3.5709e+00,\n",
            "         -5.8673e+00, -2.8438e-01, -1.9524e+00,  8.6391e-01, -3.0247e-01,\n",
            "         -2.2908e+00, -3.5010e+00, -1.0219e+00, -1.6064e+00,  1.0256e+00,\n",
            "         -3.1281e+00, -1.6309e+00, -2.5665e+00,  1.2469e+00, -2.1077e+00,\n",
            "         -3.8664e+00, -3.7536e+00, -9.7368e-01, -1.1382e+01, -4.6368e+00,\n",
            "         -4.5727e+00, -3.5063e+00, -4.5003e+00, -3.8722e+00,  9.7763e-01,\n",
            "         -8.2314e+00, -3.3093e+00, -3.1652e+00,  1.4744e+00, -3.9196e+00,\n",
            "         -1.4779e+00, -5.9622e+00,  6.6816e-01, -3.3253e+00, -3.5304e+00,\n",
            "         -2.0645e+00,  1.4377e+00, -3.0532e+00, -4.5102e+00, -1.6212e+00,\n",
            "         -6.1049e-01, -2.5398e+00,  1.5251e+00, -9.7251e-02, -5.0260e+00,\n",
            "         -4.6402e+00,  4.7667e-01,  1.6968e+00, -5.9656e+00, -6.7426e-01,\n",
            "         -3.4423e+00,  1.8331e+00,  2.0003e-01, -2.6666e+00,  1.7255e+00,\n",
            "         -5.6062e+00, -3.5455e+00, -3.0143e+00, -4.7559e+00, -3.5190e+00,\n",
            "         -4.0674e+00, -1.8571e+00, -6.1085e+00, -3.7575e+00, -3.0924e+00,\n",
            "         -6.3989e-01, -1.0195e+01, -4.2954e+00, -6.3762e+00, -2.5304e+00,\n",
            "         -2.7412e+00, -5.4207e+00, -2.7037e+00, -1.3805e+00, -2.0645e-01,\n",
            "         -3.6053e+00,  1.1474e-01, -1.2071e-01,  3.0662e+00, -3.3782e+00,\n",
            "          5.0609e-02, -2.3544e+00, -4.3825e+00, -4.0910e+00,  1.3036e+00,\n",
            "         -4.9338e-01, -1.6447e+00, -9.3936e-01, -2.6480e+00, -7.9070e+00,\n",
            "         -7.8433e+00,  9.9331e-01, -3.7515e+00, -4.6204e+00, -2.4294e+00],\n",
            "        [ 3.8892e-01, -2.6855e-02, -6.3719e-01, -7.0486e+00, -1.0444e+01,\n",
            "         -5.1331e+00,  9.1937e-01,  3.4764e+00, -1.4422e+00,  1.9591e+00,\n",
            "         -4.6925e-01,  9.0353e-01, -7.8502e+00, -2.3155e+00,  5.6196e+00,\n",
            "         -6.3151e+00,  2.3543e+00, -8.1359e+00,  1.6589e+00, -2.9955e+00,\n",
            "         -5.4900e+00, -3.6730e+00,  1.4692e+00, -1.0412e+01, -5.9806e+00,\n",
            "         -2.8229e+00, -2.1414e+00, -9.7085e+00, -3.1379e+00, -6.1391e+00,\n",
            "         -6.2774e+00, -9.7319e+00,  1.6514e-01, -6.0135e+00, -7.4288e+00,\n",
            "          4.6319e-01, -7.6606e+00, -6.7080e+00, -5.3583e+00,  8.3932e-01,\n",
            "         -1.4766e+00,  4.0348e+00, -8.9513e+00, -9.7063e+00, -1.1186e+00,\n",
            "         -2.7383e-01, -1.3188e+00, -8.4362e+00,  3.3148e+00, -7.2861e+00,\n",
            "         -6.4122e+00, -4.3599e+00, -1.5265e+01, -2.1248e+00,  1.0720e+00,\n",
            "         -8.9767e+00, -9.3887e+00, -2.6146e+00, -6.0938e-01, -9.3550e+00,\n",
            "         -1.0017e+01,  3.2857e+00,  7.0952e+00, -8.0537e+00, -3.9221e+00,\n",
            "         -3.7742e+00, -7.9828e+00, -6.4304e+00, -1.5571e+01, -2.5817e+00,\n",
            "          5.2699e+00, -1.0059e+01, -7.2356e+00, -3.3142e+00, -9.0385e+00,\n",
            "         -3.0205e+00, -6.0112e+00, -5.9584e+00,  1.4244e+00, -3.4583e+00,\n",
            "         -8.6847e+00, -4.7465e+00, -2.8682e+00,  5.0647e+00, -2.3529e+00,\n",
            "         -1.1221e+01, -1.2105e+00, -3.0248e+00, -5.6150e+00, -9.6215e-01,\n",
            "         -2.3815e+00, -3.9466e+00,  5.5920e+00, -5.1006e+00, -1.0092e+01,\n",
            "         -8.9119e+00, -1.2206e+01, -1.0248e+01, -1.7733e+00,  1.0843e+00],\n",
            "        [-1.6489e+00,  8.4715e-01, -1.8161e+00, -2.5698e+00, -1.9243e+00,\n",
            "         -2.3624e-02, -5.3027e-01, -6.3556e-01, -1.7993e+00, -1.4249e+00,\n",
            "          2.4564e-01, -9.6797e-01, -3.1664e+00, -1.8618e+00, -1.0745e+00,\n",
            "         -2.4571e+00, -1.3409e+00, -3.7245e+00, -3.5004e-01, -1.3931e+00,\n",
            "         -1.8178e+00, -4.2274e+00, -1.6036e+00, -1.1247e+00, -8.5516e-01,\n",
            "         -2.2655e-01,  2.5983e+00, -1.0854e+00, -2.0914e+00, -7.9873e-01,\n",
            "         -4.1353e+00, -3.5459e+00,  7.5639e-01, -4.6111e-01, -5.2412e-01,\n",
            "         -2.0119e+00, -1.2231e+00, -3.6651e+00, -2.7306e+00, -3.2902e-01,\n",
            "         -2.6101e+00, -1.3182e+00, -2.9933e+00, -1.9361e+00,  3.8159e-01,\n",
            "          2.0989e+00, -2.6152e+00,  2.6888e+00, -2.2295e+00, -1.7205e+00,\n",
            "         -1.2314e+00, -2.2347e-01, -2.6295e+00,  1.5065e-01, -1.5660e+00,\n",
            "         -2.5089e+00, -3.6774e+00, -1.8657e+00, -1.7766e+00, -2.0969e+00,\n",
            "         -3.6677e-01, -5.5993e-01,  3.3687e-01, -2.1754e+00, -2.9348e+00,\n",
            "         -2.5838e+00, -4.3766e+00, -1.5283e+00, -4.4026e+00, -4.0758e+00,\n",
            "          3.4808e-01, -4.1288e-01, -2.5676e+00, -3.3429e+00, -2.9213e+00,\n",
            "         -3.2341e+00, -2.7877e+00, -1.6820e+00, -2.9704e-01, -7.4443e-01,\n",
            "         -3.2307e+00, -2.7243e+00, -8.3384e-01,  3.1442e-01, -9.4346e-02,\n",
            "         -4.8077e+00, -1.1910e+00, -2.9076e+00, -1.8938e+00, -1.5844e+00,\n",
            "         -1.0231e+00, -1.7967e+00, -5.5899e-01, -1.5187e+00, -1.2657e+00,\n",
            "         -6.6440e+00, -1.7183e+00, -6.2706e+00, -1.0833e+00, -2.3896e-01],\n",
            "        [-4.5273e+00, -3.4119e+00, -3.4306e+00, -3.0583e+00, -3.6398e+00,\n",
            "         -3.1330e+00, -1.1299e+00,  1.8011e-01,  2.7135e+00, -5.9224e-02,\n",
            "         -8.4275e-01, -1.8719e+00, -1.7867e+00, -1.6501e+00,  1.1598e+00,\n",
            "         -3.6406e+00,  6.1884e-01, -3.0955e+00,  1.2661e+00, -2.8021e+00,\n",
            "         -2.2831e+00, -4.0135e+00,  7.7510e-01, -8.0509e+00, -3.0822e+00,\n",
            "         -2.8435e+00, -1.9030e+00, -4.2614e+00, -2.6777e+00, -8.4853e-01,\n",
            "         -5.4090e+00, -3.9163e+00, -2.8997e+00, -1.3628e-01, -3.2679e+00,\n",
            "         -1.2772e+00, -5.9312e+00, -1.0684e+00, -2.2925e+00, -7.3159e-01,\n",
            "         -1.6285e+00,  2.7095e+00, -2.0807e+00, -4.7149e+00, -9.7220e-01,\n",
            "         -6.4668e-01, -2.3074e+00, -1.0994e+00,  1.5341e+00, -4.0938e+00,\n",
            "         -3.7927e+00, -1.5174e+00, -2.1162e+00, -4.9529e+00, -1.3595e+00,\n",
            "         -3.9630e+00, -1.1629e+00, -1.8816e+00, -1.5711e+00, -3.5909e-01,\n",
            "         -5.4226e+00, -2.2108e-01, -2.4482e+00, -4.4252e+00, -3.1856e+00,\n",
            "         -3.4216e+00, -2.1450e+00, -4.9619e+00, -4.7503e+00, -2.9589e+00,\n",
            "         -1.0610e+00, -8.7017e+00, -3.5494e+00, -5.0640e+00, -2.9746e+00,\n",
            "         -2.1064e+00, -3.4853e+00, -3.4133e+00,  2.2062e-01, -1.8531e-01,\n",
            "         -4.1478e+00, -3.6065e-01, -1.6942e+00,  6.8864e-01, -1.2794e+00,\n",
            "         -1.2975e+00, -7.1924e-01, -2.8378e+00, -2.2285e+00,  9.5006e-01,\n",
            "         -6.3358e-01, -1.7674e+00, -1.1045e+00, -2.9782e+00, -5.6102e+00,\n",
            "         -5.5568e+00, -1.8436e+00, -3.6385e+00, -3.8361e+00, -3.8755e-01],\n",
            "        [-9.0502e+00, -1.2516e+00, -3.7608e+00, -1.9561e+00, -1.2857e+00,\n",
            "         -1.7356e+00, -3.0158e+00, -2.6120e+00,  2.8712e+00, -4.0404e+00,\n",
            "         -1.5307e+00, -4.4668e+00,  2.0899e+00,  1.6471e+00, -2.8143e+00,\n",
            "         -8.4551e-01, -2.0300e+00,  5.7196e-01, -1.7779e+00, -5.9995e-01,\n",
            "         -3.8616e+00, -3.1482e+00, -1.6965e+00, -3.6299e+00, -4.3694e+00,\n",
            "         -1.7411e+00, -1.2858e+00, -3.5795e-01, -3.6488e+00, -1.3198e+00,\n",
            "         -3.6121e+00, -1.0007e+00, -2.4134e+00,  3.1871e-01, -2.3730e+00,\n",
            "         -4.2045e+00, -5.1016e+00,  1.9226e+00, -2.4820e+00, -1.7731e+00,\n",
            "         -2.3624e+00, -8.8912e-01, -1.1948e+00, -4.5353e+00, -1.3954e+00,\n",
            "         -1.4791e+00, -1.7839e+00, -2.1794e+00,  2.2354e+00,  1.0738e-01,\n",
            "         -3.2770e+00, -2.9666e+00, -2.5075e+00, -8.9700e+00, -4.0428e+00,\n",
            "         -1.9806e+00, -1.1049e+00, -4.8609e+00,  1.4467e+00,  9.3120e-03,\n",
            "         -2.3343e+00, -1.5003e+00, -5.7643e+00, -3.2360e+00, -2.3666e+00,\n",
            "         -2.7766e+00, -1.8155e+00, -4.2705e+00, -1.0497e+00, -1.8675e+00,\n",
            "         -4.6113e+00, -2.6290e+00, -1.4569e+00, -4.0766e+00, -2.7283e+00,\n",
            "         -1.7098e+00, -1.0007e+00, -2.5152e+00, -8.4610e-01, -9.0499e-01,\n",
            "         -2.5425e+00,  1.7820e+00, -2.8372e+00, -5.8545e+00, -1.2637e+00,\n",
            "          2.0116e+00, -2.8992e+00, -1.8459e+00, -2.5147e+00,  3.3674e+00,\n",
            "          2.4947e+00, -1.4071e+00, -4.9600e+00, -2.1642e+00, -4.6790e+00,\n",
            "         -3.4121e+00, -1.6549e+00, -2.2846e+00, -5.4102e+00, -2.6631e+00]],\n",
            "       grad_fn=<AddmmBackward0>)\n"
          ]
        }
      ]
    },
    {
      "cell_type": "code",
      "source": [
        "_, predicted = torch.max(outputs, 1)\n",
        "\n",
        "predicted"
      ],
      "metadata": {
        "id": "bMbOJP8H4n6W",
        "colab": {
          "base_uri": "https://localhost:8080/"
        },
        "outputId": "1ee8708c-f664-4c61-81d1-ee7771b57a6d"
      },
      "execution_count": 27,
      "outputs": [
        {
          "output_type": "execute_result",
          "data": {
            "text/plain": [
              "tensor([82, 53, 48, 83, 62, 47,  8, 89])"
            ]
          },
          "metadata": {},
          "execution_count": 27
        }
      ]
    },
    {
      "cell_type": "code",
      "source": [
        "print('Predicted: ', ' '.join(classes_cifar100[predicted[j]] for j in range(len(labels))))"
      ],
      "metadata": {
        "id": "oH76ng7w4sZn",
        "colab": {
          "base_uri": "https://localhost:8080/"
        },
        "outputId": "af1d1d20-3bc7-4695-fc35-2312b834545b"
      },
      "execution_count": 28,
      "outputs": [
        {
          "output_type": "stream",
          "name": "stdout",
          "text": [
            "Predicted:  sunflower orange motorcycle sweet_pepper poppy maple_tree bicycle tractor\n"
          ]
        }
      ]
    },
    {
      "cell_type": "code",
      "source": [
        "gt = np.array([classes_cifar100[labels[j]] for j in range(len(labels))])\n",
        "pred = np.array([classes_cifar100[predicted[j]] for j in range(len(labels))])\n",
        "\n",
        "print(gt)\n",
        "print(pred)\n",
        "print(f'Accuracy is {(gt == pred).sum() / len(gt):.4f}')"
      ],
      "metadata": {
        "id": "pXnpLddxDnyW",
        "colab": {
          "base_uri": "https://localhost:8080/"
        },
        "outputId": "3e47eaad-dea7-4e6f-db7b-3838bb2d31f8"
      },
      "execution_count": 29,
      "outputs": [
        {
          "output_type": "stream",
          "name": "stdout",
          "text": [
            "['sunflower' 'pear' 'cattle' 'willow_tree' 'butterfly' 'lobster'\n",
            " 'mushroom' 'castle']\n",
            "['sunflower' 'orange' 'motorcycle' 'sweet_pepper' 'poppy' 'maple_tree'\n",
            " 'bicycle' 'tractor']\n",
            "Accuracy is 0.1250\n"
          ]
        }
      ]
    },
    {
      "cell_type": "code",
      "source": [
        "from torchvision import models"
      ],
      "metadata": {
        "id": "etcEIS5eD4TN"
      },
      "execution_count": 30,
      "outputs": []
    },
    {
      "cell_type": "code",
      "source": [
        "resnet50 = models.resnet50(pretrained=True)\n",
        "print(resnet50)"
      ],
      "metadata": {
        "id": "UIjiDXvMLRDQ",
        "colab": {
          "base_uri": "https://localhost:8080/",
          "height": 1000,
          "referenced_widgets": [
            "8fd977697f91429cb44e7375ffa7c8f3",
            "c90ab03eca174fabbb760f71d9d0c76c",
            "2719e15a06a445a78c73cf362e684b0a",
            "e7588f39a2284a3e98698fe6d9569168",
            "befde978e30c4ec3aeb4950234c6030c",
            "256d768d2a8d4b13b43345d8a6e1cab5",
            "20bcc53edb6645249f6efa71e5498bc8",
            "fb2fb4600b2d494e96eeed872a3645c3",
            "7a9f9b017f7a483a9c58125c07f6f4fc",
            "e38c5cb8bb2443b09a8a95bc4632681e",
            "04b2a7b711c64fc1a5ea8e8047b1c85b"
          ]
        },
        "outputId": "ed31967f-4cf6-4a50-9b6e-2f8c4987552b"
      },
      "execution_count": 31,
      "outputs": [
        {
          "output_type": "stream",
          "name": "stderr",
          "text": [
            "/usr/local/lib/python3.7/dist-packages/torchvision/models/_utils.py:209: UserWarning: The parameter 'pretrained' is deprecated since 0.13 and will be removed in 0.15, please use 'weights' instead.\n",
            "  f\"The parameter '{pretrained_param}' is deprecated since 0.13 and will be removed in 0.15, \"\n",
            "/usr/local/lib/python3.7/dist-packages/torchvision/models/_utils.py:223: UserWarning: Arguments other than a weight enum or `None` for 'weights' are deprecated since 0.13 and will be removed in 0.15. The current behavior is equivalent to passing `weights=ResNet50_Weights.IMAGENET1K_V1`. You can also use `weights=ResNet50_Weights.DEFAULT` to get the most up-to-date weights.\n",
            "  warnings.warn(msg)\n",
            "Downloading: \"https://download.pytorch.org/models/resnet50-0676ba61.pth\" to /root/.cache/torch/hub/checkpoints/resnet50-0676ba61.pth\n"
          ]
        },
        {
          "output_type": "display_data",
          "data": {
            "text/plain": [
              "  0%|          | 0.00/97.8M [00:00<?, ?B/s]"
            ],
            "application/vnd.jupyter.widget-view+json": {
              "version_major": 2,
              "version_minor": 0,
              "model_id": "8fd977697f91429cb44e7375ffa7c8f3"
            }
          },
          "metadata": {}
        },
        {
          "output_type": "stream",
          "name": "stdout",
          "text": [
            "ResNet(\n",
            "  (conv1): Conv2d(3, 64, kernel_size=(7, 7), stride=(2, 2), padding=(3, 3), bias=False)\n",
            "  (bn1): BatchNorm2d(64, eps=1e-05, momentum=0.1, affine=True, track_running_stats=True)\n",
            "  (relu): ReLU(inplace=True)\n",
            "  (maxpool): MaxPool2d(kernel_size=3, stride=2, padding=1, dilation=1, ceil_mode=False)\n",
            "  (layer1): Sequential(\n",
            "    (0): Bottleneck(\n",
            "      (conv1): Conv2d(64, 64, kernel_size=(1, 1), stride=(1, 1), bias=False)\n",
            "      (bn1): BatchNorm2d(64, eps=1e-05, momentum=0.1, affine=True, track_running_stats=True)\n",
            "      (conv2): Conv2d(64, 64, kernel_size=(3, 3), stride=(1, 1), padding=(1, 1), bias=False)\n",
            "      (bn2): BatchNorm2d(64, eps=1e-05, momentum=0.1, affine=True, track_running_stats=True)\n",
            "      (conv3): Conv2d(64, 256, kernel_size=(1, 1), stride=(1, 1), bias=False)\n",
            "      (bn3): BatchNorm2d(256, eps=1e-05, momentum=0.1, affine=True, track_running_stats=True)\n",
            "      (relu): ReLU(inplace=True)\n",
            "      (downsample): Sequential(\n",
            "        (0): Conv2d(64, 256, kernel_size=(1, 1), stride=(1, 1), bias=False)\n",
            "        (1): BatchNorm2d(256, eps=1e-05, momentum=0.1, affine=True, track_running_stats=True)\n",
            "      )\n",
            "    )\n",
            "    (1): Bottleneck(\n",
            "      (conv1): Conv2d(256, 64, kernel_size=(1, 1), stride=(1, 1), bias=False)\n",
            "      (bn1): BatchNorm2d(64, eps=1e-05, momentum=0.1, affine=True, track_running_stats=True)\n",
            "      (conv2): Conv2d(64, 64, kernel_size=(3, 3), stride=(1, 1), padding=(1, 1), bias=False)\n",
            "      (bn2): BatchNorm2d(64, eps=1e-05, momentum=0.1, affine=True, track_running_stats=True)\n",
            "      (conv3): Conv2d(64, 256, kernel_size=(1, 1), stride=(1, 1), bias=False)\n",
            "      (bn3): BatchNorm2d(256, eps=1e-05, momentum=0.1, affine=True, track_running_stats=True)\n",
            "      (relu): ReLU(inplace=True)\n",
            "    )\n",
            "    (2): Bottleneck(\n",
            "      (conv1): Conv2d(256, 64, kernel_size=(1, 1), stride=(1, 1), bias=False)\n",
            "      (bn1): BatchNorm2d(64, eps=1e-05, momentum=0.1, affine=True, track_running_stats=True)\n",
            "      (conv2): Conv2d(64, 64, kernel_size=(3, 3), stride=(1, 1), padding=(1, 1), bias=False)\n",
            "      (bn2): BatchNorm2d(64, eps=1e-05, momentum=0.1, affine=True, track_running_stats=True)\n",
            "      (conv3): Conv2d(64, 256, kernel_size=(1, 1), stride=(1, 1), bias=False)\n",
            "      (bn3): BatchNorm2d(256, eps=1e-05, momentum=0.1, affine=True, track_running_stats=True)\n",
            "      (relu): ReLU(inplace=True)\n",
            "    )\n",
            "  )\n",
            "  (layer2): Sequential(\n",
            "    (0): Bottleneck(\n",
            "      (conv1): Conv2d(256, 128, kernel_size=(1, 1), stride=(1, 1), bias=False)\n",
            "      (bn1): BatchNorm2d(128, eps=1e-05, momentum=0.1, affine=True, track_running_stats=True)\n",
            "      (conv2): Conv2d(128, 128, kernel_size=(3, 3), stride=(2, 2), padding=(1, 1), bias=False)\n",
            "      (bn2): BatchNorm2d(128, eps=1e-05, momentum=0.1, affine=True, track_running_stats=True)\n",
            "      (conv3): Conv2d(128, 512, kernel_size=(1, 1), stride=(1, 1), bias=False)\n",
            "      (bn3): BatchNorm2d(512, eps=1e-05, momentum=0.1, affine=True, track_running_stats=True)\n",
            "      (relu): ReLU(inplace=True)\n",
            "      (downsample): Sequential(\n",
            "        (0): Conv2d(256, 512, kernel_size=(1, 1), stride=(2, 2), bias=False)\n",
            "        (1): BatchNorm2d(512, eps=1e-05, momentum=0.1, affine=True, track_running_stats=True)\n",
            "      )\n",
            "    )\n",
            "    (1): Bottleneck(\n",
            "      (conv1): Conv2d(512, 128, kernel_size=(1, 1), stride=(1, 1), bias=False)\n",
            "      (bn1): BatchNorm2d(128, eps=1e-05, momentum=0.1, affine=True, track_running_stats=True)\n",
            "      (conv2): Conv2d(128, 128, kernel_size=(3, 3), stride=(1, 1), padding=(1, 1), bias=False)\n",
            "      (bn2): BatchNorm2d(128, eps=1e-05, momentum=0.1, affine=True, track_running_stats=True)\n",
            "      (conv3): Conv2d(128, 512, kernel_size=(1, 1), stride=(1, 1), bias=False)\n",
            "      (bn3): BatchNorm2d(512, eps=1e-05, momentum=0.1, affine=True, track_running_stats=True)\n",
            "      (relu): ReLU(inplace=True)\n",
            "    )\n",
            "    (2): Bottleneck(\n",
            "      (conv1): Conv2d(512, 128, kernel_size=(1, 1), stride=(1, 1), bias=False)\n",
            "      (bn1): BatchNorm2d(128, eps=1e-05, momentum=0.1, affine=True, track_running_stats=True)\n",
            "      (conv2): Conv2d(128, 128, kernel_size=(3, 3), stride=(1, 1), padding=(1, 1), bias=False)\n",
            "      (bn2): BatchNorm2d(128, eps=1e-05, momentum=0.1, affine=True, track_running_stats=True)\n",
            "      (conv3): Conv2d(128, 512, kernel_size=(1, 1), stride=(1, 1), bias=False)\n",
            "      (bn3): BatchNorm2d(512, eps=1e-05, momentum=0.1, affine=True, track_running_stats=True)\n",
            "      (relu): ReLU(inplace=True)\n",
            "    )\n",
            "    (3): Bottleneck(\n",
            "      (conv1): Conv2d(512, 128, kernel_size=(1, 1), stride=(1, 1), bias=False)\n",
            "      (bn1): BatchNorm2d(128, eps=1e-05, momentum=0.1, affine=True, track_running_stats=True)\n",
            "      (conv2): Conv2d(128, 128, kernel_size=(3, 3), stride=(1, 1), padding=(1, 1), bias=False)\n",
            "      (bn2): BatchNorm2d(128, eps=1e-05, momentum=0.1, affine=True, track_running_stats=True)\n",
            "      (conv3): Conv2d(128, 512, kernel_size=(1, 1), stride=(1, 1), bias=False)\n",
            "      (bn3): BatchNorm2d(512, eps=1e-05, momentum=0.1, affine=True, track_running_stats=True)\n",
            "      (relu): ReLU(inplace=True)\n",
            "    )\n",
            "  )\n",
            "  (layer3): Sequential(\n",
            "    (0): Bottleneck(\n",
            "      (conv1): Conv2d(512, 256, kernel_size=(1, 1), stride=(1, 1), bias=False)\n",
            "      (bn1): BatchNorm2d(256, eps=1e-05, momentum=0.1, affine=True, track_running_stats=True)\n",
            "      (conv2): Conv2d(256, 256, kernel_size=(3, 3), stride=(2, 2), padding=(1, 1), bias=False)\n",
            "      (bn2): BatchNorm2d(256, eps=1e-05, momentum=0.1, affine=True, track_running_stats=True)\n",
            "      (conv3): Conv2d(256, 1024, kernel_size=(1, 1), stride=(1, 1), bias=False)\n",
            "      (bn3): BatchNorm2d(1024, eps=1e-05, momentum=0.1, affine=True, track_running_stats=True)\n",
            "      (relu): ReLU(inplace=True)\n",
            "      (downsample): Sequential(\n",
            "        (0): Conv2d(512, 1024, kernel_size=(1, 1), stride=(2, 2), bias=False)\n",
            "        (1): BatchNorm2d(1024, eps=1e-05, momentum=0.1, affine=True, track_running_stats=True)\n",
            "      )\n",
            "    )\n",
            "    (1): Bottleneck(\n",
            "      (conv1): Conv2d(1024, 256, kernel_size=(1, 1), stride=(1, 1), bias=False)\n",
            "      (bn1): BatchNorm2d(256, eps=1e-05, momentum=0.1, affine=True, track_running_stats=True)\n",
            "      (conv2): Conv2d(256, 256, kernel_size=(3, 3), stride=(1, 1), padding=(1, 1), bias=False)\n",
            "      (bn2): BatchNorm2d(256, eps=1e-05, momentum=0.1, affine=True, track_running_stats=True)\n",
            "      (conv3): Conv2d(256, 1024, kernel_size=(1, 1), stride=(1, 1), bias=False)\n",
            "      (bn3): BatchNorm2d(1024, eps=1e-05, momentum=0.1, affine=True, track_running_stats=True)\n",
            "      (relu): ReLU(inplace=True)\n",
            "    )\n",
            "    (2): Bottleneck(\n",
            "      (conv1): Conv2d(1024, 256, kernel_size=(1, 1), stride=(1, 1), bias=False)\n",
            "      (bn1): BatchNorm2d(256, eps=1e-05, momentum=0.1, affine=True, track_running_stats=True)\n",
            "      (conv2): Conv2d(256, 256, kernel_size=(3, 3), stride=(1, 1), padding=(1, 1), bias=False)\n",
            "      (bn2): BatchNorm2d(256, eps=1e-05, momentum=0.1, affine=True, track_running_stats=True)\n",
            "      (conv3): Conv2d(256, 1024, kernel_size=(1, 1), stride=(1, 1), bias=False)\n",
            "      (bn3): BatchNorm2d(1024, eps=1e-05, momentum=0.1, affine=True, track_running_stats=True)\n",
            "      (relu): ReLU(inplace=True)\n",
            "    )\n",
            "    (3): Bottleneck(\n",
            "      (conv1): Conv2d(1024, 256, kernel_size=(1, 1), stride=(1, 1), bias=False)\n",
            "      (bn1): BatchNorm2d(256, eps=1e-05, momentum=0.1, affine=True, track_running_stats=True)\n",
            "      (conv2): Conv2d(256, 256, kernel_size=(3, 3), stride=(1, 1), padding=(1, 1), bias=False)\n",
            "      (bn2): BatchNorm2d(256, eps=1e-05, momentum=0.1, affine=True, track_running_stats=True)\n",
            "      (conv3): Conv2d(256, 1024, kernel_size=(1, 1), stride=(1, 1), bias=False)\n",
            "      (bn3): BatchNorm2d(1024, eps=1e-05, momentum=0.1, affine=True, track_running_stats=True)\n",
            "      (relu): ReLU(inplace=True)\n",
            "    )\n",
            "    (4): Bottleneck(\n",
            "      (conv1): Conv2d(1024, 256, kernel_size=(1, 1), stride=(1, 1), bias=False)\n",
            "      (bn1): BatchNorm2d(256, eps=1e-05, momentum=0.1, affine=True, track_running_stats=True)\n",
            "      (conv2): Conv2d(256, 256, kernel_size=(3, 3), stride=(1, 1), padding=(1, 1), bias=False)\n",
            "      (bn2): BatchNorm2d(256, eps=1e-05, momentum=0.1, affine=True, track_running_stats=True)\n",
            "      (conv3): Conv2d(256, 1024, kernel_size=(1, 1), stride=(1, 1), bias=False)\n",
            "      (bn3): BatchNorm2d(1024, eps=1e-05, momentum=0.1, affine=True, track_running_stats=True)\n",
            "      (relu): ReLU(inplace=True)\n",
            "    )\n",
            "    (5): Bottleneck(\n",
            "      (conv1): Conv2d(1024, 256, kernel_size=(1, 1), stride=(1, 1), bias=False)\n",
            "      (bn1): BatchNorm2d(256, eps=1e-05, momentum=0.1, affine=True, track_running_stats=True)\n",
            "      (conv2): Conv2d(256, 256, kernel_size=(3, 3), stride=(1, 1), padding=(1, 1), bias=False)\n",
            "      (bn2): BatchNorm2d(256, eps=1e-05, momentum=0.1, affine=True, track_running_stats=True)\n",
            "      (conv3): Conv2d(256, 1024, kernel_size=(1, 1), stride=(1, 1), bias=False)\n",
            "      (bn3): BatchNorm2d(1024, eps=1e-05, momentum=0.1, affine=True, track_running_stats=True)\n",
            "      (relu): ReLU(inplace=True)\n",
            "    )\n",
            "  )\n",
            "  (layer4): Sequential(\n",
            "    (0): Bottleneck(\n",
            "      (conv1): Conv2d(1024, 512, kernel_size=(1, 1), stride=(1, 1), bias=False)\n",
            "      (bn1): BatchNorm2d(512, eps=1e-05, momentum=0.1, affine=True, track_running_stats=True)\n",
            "      (conv2): Conv2d(512, 512, kernel_size=(3, 3), stride=(2, 2), padding=(1, 1), bias=False)\n",
            "      (bn2): BatchNorm2d(512, eps=1e-05, momentum=0.1, affine=True, track_running_stats=True)\n",
            "      (conv3): Conv2d(512, 2048, kernel_size=(1, 1), stride=(1, 1), bias=False)\n",
            "      (bn3): BatchNorm2d(2048, eps=1e-05, momentum=0.1, affine=True, track_running_stats=True)\n",
            "      (relu): ReLU(inplace=True)\n",
            "      (downsample): Sequential(\n",
            "        (0): Conv2d(1024, 2048, kernel_size=(1, 1), stride=(2, 2), bias=False)\n",
            "        (1): BatchNorm2d(2048, eps=1e-05, momentum=0.1, affine=True, track_running_stats=True)\n",
            "      )\n",
            "    )\n",
            "    (1): Bottleneck(\n",
            "      (conv1): Conv2d(2048, 512, kernel_size=(1, 1), stride=(1, 1), bias=False)\n",
            "      (bn1): BatchNorm2d(512, eps=1e-05, momentum=0.1, affine=True, track_running_stats=True)\n",
            "      (conv2): Conv2d(512, 512, kernel_size=(3, 3), stride=(1, 1), padding=(1, 1), bias=False)\n",
            "      (bn2): BatchNorm2d(512, eps=1e-05, momentum=0.1, affine=True, track_running_stats=True)\n",
            "      (conv3): Conv2d(512, 2048, kernel_size=(1, 1), stride=(1, 1), bias=False)\n",
            "      (bn3): BatchNorm2d(2048, eps=1e-05, momentum=0.1, affine=True, track_running_stats=True)\n",
            "      (relu): ReLU(inplace=True)\n",
            "    )\n",
            "    (2): Bottleneck(\n",
            "      (conv1): Conv2d(2048, 512, kernel_size=(1, 1), stride=(1, 1), bias=False)\n",
            "      (bn1): BatchNorm2d(512, eps=1e-05, momentum=0.1, affine=True, track_running_stats=True)\n",
            "      (conv2): Conv2d(512, 512, kernel_size=(3, 3), stride=(1, 1), padding=(1, 1), bias=False)\n",
            "      (bn2): BatchNorm2d(512, eps=1e-05, momentum=0.1, affine=True, track_running_stats=True)\n",
            "      (conv3): Conv2d(512, 2048, kernel_size=(1, 1), stride=(1, 1), bias=False)\n",
            "      (bn3): BatchNorm2d(2048, eps=1e-05, momentum=0.1, affine=True, track_running_stats=True)\n",
            "      (relu): ReLU(inplace=True)\n",
            "    )\n",
            "  )\n",
            "  (avgpool): AdaptiveAvgPool2d(output_size=(1, 1))\n",
            "  (fc): Linear(in_features=2048, out_features=1000, bias=True)\n",
            ")\n"
          ]
        }
      ]
    },
    {
      "cell_type": "code",
      "source": [
        "summary(resnet50.to(device), input_size=(3, 32, 32))"
      ],
      "metadata": {
        "id": "2lq2We87LULc",
        "colab": {
          "base_uri": "https://localhost:8080/"
        },
        "outputId": "b068d608-b2af-455e-c261-7e20d7c75f0a"
      },
      "execution_count": 32,
      "outputs": [
        {
          "output_type": "stream",
          "name": "stdout",
          "text": [
            "----------------------------------------------------------------\n",
            "        Layer (type)               Output Shape         Param #\n",
            "================================================================\n",
            "            Conv2d-1           [-1, 64, 16, 16]           9,408\n",
            "       BatchNorm2d-2           [-1, 64, 16, 16]             128\n",
            "              ReLU-3           [-1, 64, 16, 16]               0\n",
            "         MaxPool2d-4             [-1, 64, 8, 8]               0\n",
            "            Conv2d-5             [-1, 64, 8, 8]           4,096\n",
            "       BatchNorm2d-6             [-1, 64, 8, 8]             128\n",
            "              ReLU-7             [-1, 64, 8, 8]               0\n",
            "            Conv2d-8             [-1, 64, 8, 8]          36,864\n",
            "       BatchNorm2d-9             [-1, 64, 8, 8]             128\n",
            "             ReLU-10             [-1, 64, 8, 8]               0\n",
            "           Conv2d-11            [-1, 256, 8, 8]          16,384\n",
            "      BatchNorm2d-12            [-1, 256, 8, 8]             512\n",
            "           Conv2d-13            [-1, 256, 8, 8]          16,384\n",
            "      BatchNorm2d-14            [-1, 256, 8, 8]             512\n",
            "             ReLU-15            [-1, 256, 8, 8]               0\n",
            "       Bottleneck-16            [-1, 256, 8, 8]               0\n",
            "           Conv2d-17             [-1, 64, 8, 8]          16,384\n",
            "      BatchNorm2d-18             [-1, 64, 8, 8]             128\n",
            "             ReLU-19             [-1, 64, 8, 8]               0\n",
            "           Conv2d-20             [-1, 64, 8, 8]          36,864\n",
            "      BatchNorm2d-21             [-1, 64, 8, 8]             128\n",
            "             ReLU-22             [-1, 64, 8, 8]               0\n",
            "           Conv2d-23            [-1, 256, 8, 8]          16,384\n",
            "      BatchNorm2d-24            [-1, 256, 8, 8]             512\n",
            "             ReLU-25            [-1, 256, 8, 8]               0\n",
            "       Bottleneck-26            [-1, 256, 8, 8]               0\n",
            "           Conv2d-27             [-1, 64, 8, 8]          16,384\n",
            "      BatchNorm2d-28             [-1, 64, 8, 8]             128\n",
            "             ReLU-29             [-1, 64, 8, 8]               0\n",
            "           Conv2d-30             [-1, 64, 8, 8]          36,864\n",
            "      BatchNorm2d-31             [-1, 64, 8, 8]             128\n",
            "             ReLU-32             [-1, 64, 8, 8]               0\n",
            "           Conv2d-33            [-1, 256, 8, 8]          16,384\n",
            "      BatchNorm2d-34            [-1, 256, 8, 8]             512\n",
            "             ReLU-35            [-1, 256, 8, 8]               0\n",
            "       Bottleneck-36            [-1, 256, 8, 8]               0\n",
            "           Conv2d-37            [-1, 128, 8, 8]          32,768\n",
            "      BatchNorm2d-38            [-1, 128, 8, 8]             256\n",
            "             ReLU-39            [-1, 128, 8, 8]               0\n",
            "           Conv2d-40            [-1, 128, 4, 4]         147,456\n",
            "      BatchNorm2d-41            [-1, 128, 4, 4]             256\n",
            "             ReLU-42            [-1, 128, 4, 4]               0\n",
            "           Conv2d-43            [-1, 512, 4, 4]          65,536\n",
            "      BatchNorm2d-44            [-1, 512, 4, 4]           1,024\n",
            "           Conv2d-45            [-1, 512, 4, 4]         131,072\n",
            "      BatchNorm2d-46            [-1, 512, 4, 4]           1,024\n",
            "             ReLU-47            [-1, 512, 4, 4]               0\n",
            "       Bottleneck-48            [-1, 512, 4, 4]               0\n",
            "           Conv2d-49            [-1, 128, 4, 4]          65,536\n",
            "      BatchNorm2d-50            [-1, 128, 4, 4]             256\n",
            "             ReLU-51            [-1, 128, 4, 4]               0\n",
            "           Conv2d-52            [-1, 128, 4, 4]         147,456\n",
            "      BatchNorm2d-53            [-1, 128, 4, 4]             256\n",
            "             ReLU-54            [-1, 128, 4, 4]               0\n",
            "           Conv2d-55            [-1, 512, 4, 4]          65,536\n",
            "      BatchNorm2d-56            [-1, 512, 4, 4]           1,024\n",
            "             ReLU-57            [-1, 512, 4, 4]               0\n",
            "       Bottleneck-58            [-1, 512, 4, 4]               0\n",
            "           Conv2d-59            [-1, 128, 4, 4]          65,536\n",
            "      BatchNorm2d-60            [-1, 128, 4, 4]             256\n",
            "             ReLU-61            [-1, 128, 4, 4]               0\n",
            "           Conv2d-62            [-1, 128, 4, 4]         147,456\n",
            "      BatchNorm2d-63            [-1, 128, 4, 4]             256\n",
            "             ReLU-64            [-1, 128, 4, 4]               0\n",
            "           Conv2d-65            [-1, 512, 4, 4]          65,536\n",
            "      BatchNorm2d-66            [-1, 512, 4, 4]           1,024\n",
            "             ReLU-67            [-1, 512, 4, 4]               0\n",
            "       Bottleneck-68            [-1, 512, 4, 4]               0\n",
            "           Conv2d-69            [-1, 128, 4, 4]          65,536\n",
            "      BatchNorm2d-70            [-1, 128, 4, 4]             256\n",
            "             ReLU-71            [-1, 128, 4, 4]               0\n",
            "           Conv2d-72            [-1, 128, 4, 4]         147,456\n",
            "      BatchNorm2d-73            [-1, 128, 4, 4]             256\n",
            "             ReLU-74            [-1, 128, 4, 4]               0\n",
            "           Conv2d-75            [-1, 512, 4, 4]          65,536\n",
            "      BatchNorm2d-76            [-1, 512, 4, 4]           1,024\n",
            "             ReLU-77            [-1, 512, 4, 4]               0\n",
            "       Bottleneck-78            [-1, 512, 4, 4]               0\n",
            "           Conv2d-79            [-1, 256, 4, 4]         131,072\n",
            "      BatchNorm2d-80            [-1, 256, 4, 4]             512\n",
            "             ReLU-81            [-1, 256, 4, 4]               0\n",
            "           Conv2d-82            [-1, 256, 2, 2]         589,824\n",
            "      BatchNorm2d-83            [-1, 256, 2, 2]             512\n",
            "             ReLU-84            [-1, 256, 2, 2]               0\n",
            "           Conv2d-85           [-1, 1024, 2, 2]         262,144\n",
            "      BatchNorm2d-86           [-1, 1024, 2, 2]           2,048\n",
            "           Conv2d-87           [-1, 1024, 2, 2]         524,288\n",
            "      BatchNorm2d-88           [-1, 1024, 2, 2]           2,048\n",
            "             ReLU-89           [-1, 1024, 2, 2]               0\n",
            "       Bottleneck-90           [-1, 1024, 2, 2]               0\n",
            "           Conv2d-91            [-1, 256, 2, 2]         262,144\n",
            "      BatchNorm2d-92            [-1, 256, 2, 2]             512\n",
            "             ReLU-93            [-1, 256, 2, 2]               0\n",
            "           Conv2d-94            [-1, 256, 2, 2]         589,824\n",
            "      BatchNorm2d-95            [-1, 256, 2, 2]             512\n",
            "             ReLU-96            [-1, 256, 2, 2]               0\n",
            "           Conv2d-97           [-1, 1024, 2, 2]         262,144\n",
            "      BatchNorm2d-98           [-1, 1024, 2, 2]           2,048\n",
            "             ReLU-99           [-1, 1024, 2, 2]               0\n",
            "      Bottleneck-100           [-1, 1024, 2, 2]               0\n",
            "          Conv2d-101            [-1, 256, 2, 2]         262,144\n",
            "     BatchNorm2d-102            [-1, 256, 2, 2]             512\n",
            "            ReLU-103            [-1, 256, 2, 2]               0\n",
            "          Conv2d-104            [-1, 256, 2, 2]         589,824\n",
            "     BatchNorm2d-105            [-1, 256, 2, 2]             512\n",
            "            ReLU-106            [-1, 256, 2, 2]               0\n",
            "          Conv2d-107           [-1, 1024, 2, 2]         262,144\n",
            "     BatchNorm2d-108           [-1, 1024, 2, 2]           2,048\n",
            "            ReLU-109           [-1, 1024, 2, 2]               0\n",
            "      Bottleneck-110           [-1, 1024, 2, 2]               0\n",
            "          Conv2d-111            [-1, 256, 2, 2]         262,144\n",
            "     BatchNorm2d-112            [-1, 256, 2, 2]             512\n",
            "            ReLU-113            [-1, 256, 2, 2]               0\n",
            "          Conv2d-114            [-1, 256, 2, 2]         589,824\n",
            "     BatchNorm2d-115            [-1, 256, 2, 2]             512\n",
            "            ReLU-116            [-1, 256, 2, 2]               0\n",
            "          Conv2d-117           [-1, 1024, 2, 2]         262,144\n",
            "     BatchNorm2d-118           [-1, 1024, 2, 2]           2,048\n",
            "            ReLU-119           [-1, 1024, 2, 2]               0\n",
            "      Bottleneck-120           [-1, 1024, 2, 2]               0\n",
            "          Conv2d-121            [-1, 256, 2, 2]         262,144\n",
            "     BatchNorm2d-122            [-1, 256, 2, 2]             512\n",
            "            ReLU-123            [-1, 256, 2, 2]               0\n",
            "          Conv2d-124            [-1, 256, 2, 2]         589,824\n",
            "     BatchNorm2d-125            [-1, 256, 2, 2]             512\n",
            "            ReLU-126            [-1, 256, 2, 2]               0\n",
            "          Conv2d-127           [-1, 1024, 2, 2]         262,144\n",
            "     BatchNorm2d-128           [-1, 1024, 2, 2]           2,048\n",
            "            ReLU-129           [-1, 1024, 2, 2]               0\n",
            "      Bottleneck-130           [-1, 1024, 2, 2]               0\n",
            "          Conv2d-131            [-1, 256, 2, 2]         262,144\n",
            "     BatchNorm2d-132            [-1, 256, 2, 2]             512\n",
            "            ReLU-133            [-1, 256, 2, 2]               0\n",
            "          Conv2d-134            [-1, 256, 2, 2]         589,824\n",
            "     BatchNorm2d-135            [-1, 256, 2, 2]             512\n",
            "            ReLU-136            [-1, 256, 2, 2]               0\n",
            "          Conv2d-137           [-1, 1024, 2, 2]         262,144\n",
            "     BatchNorm2d-138           [-1, 1024, 2, 2]           2,048\n",
            "            ReLU-139           [-1, 1024, 2, 2]               0\n",
            "      Bottleneck-140           [-1, 1024, 2, 2]               0\n",
            "          Conv2d-141            [-1, 512, 2, 2]         524,288\n",
            "     BatchNorm2d-142            [-1, 512, 2, 2]           1,024\n",
            "            ReLU-143            [-1, 512, 2, 2]               0\n",
            "          Conv2d-144            [-1, 512, 1, 1]       2,359,296\n",
            "     BatchNorm2d-145            [-1, 512, 1, 1]           1,024\n",
            "            ReLU-146            [-1, 512, 1, 1]               0\n",
            "          Conv2d-147           [-1, 2048, 1, 1]       1,048,576\n",
            "     BatchNorm2d-148           [-1, 2048, 1, 1]           4,096\n",
            "          Conv2d-149           [-1, 2048, 1, 1]       2,097,152\n",
            "     BatchNorm2d-150           [-1, 2048, 1, 1]           4,096\n",
            "            ReLU-151           [-1, 2048, 1, 1]               0\n",
            "      Bottleneck-152           [-1, 2048, 1, 1]               0\n",
            "          Conv2d-153            [-1, 512, 1, 1]       1,048,576\n",
            "     BatchNorm2d-154            [-1, 512, 1, 1]           1,024\n",
            "            ReLU-155            [-1, 512, 1, 1]               0\n",
            "          Conv2d-156            [-1, 512, 1, 1]       2,359,296\n",
            "     BatchNorm2d-157            [-1, 512, 1, 1]           1,024\n",
            "            ReLU-158            [-1, 512, 1, 1]               0\n",
            "          Conv2d-159           [-1, 2048, 1, 1]       1,048,576\n",
            "     BatchNorm2d-160           [-1, 2048, 1, 1]           4,096\n",
            "            ReLU-161           [-1, 2048, 1, 1]               0\n",
            "      Bottleneck-162           [-1, 2048, 1, 1]               0\n",
            "          Conv2d-163            [-1, 512, 1, 1]       1,048,576\n",
            "     BatchNorm2d-164            [-1, 512, 1, 1]           1,024\n",
            "            ReLU-165            [-1, 512, 1, 1]               0\n",
            "          Conv2d-166            [-1, 512, 1, 1]       2,359,296\n",
            "     BatchNorm2d-167            [-1, 512, 1, 1]           1,024\n",
            "            ReLU-168            [-1, 512, 1, 1]               0\n",
            "          Conv2d-169           [-1, 2048, 1, 1]       1,048,576\n",
            "     BatchNorm2d-170           [-1, 2048, 1, 1]           4,096\n",
            "            ReLU-171           [-1, 2048, 1, 1]               0\n",
            "      Bottleneck-172           [-1, 2048, 1, 1]               0\n",
            "AdaptiveAvgPool2d-173           [-1, 2048, 1, 1]               0\n",
            "          Linear-174                 [-1, 1000]       2,049,000\n",
            "================================================================\n",
            "Total params: 25,557,032\n",
            "Trainable params: 25,557,032\n",
            "Non-trainable params: 0\n",
            "----------------------------------------------------------------\n",
            "Input size (MB): 0.01\n",
            "Forward/backward pass size (MB): 5.87\n",
            "Params size (MB): 97.49\n",
            "Estimated Total Size (MB): 103.37\n",
            "----------------------------------------------------------------\n"
          ]
        }
      ]
    },
    {
      "cell_type": "code",
      "source": [
        "for param in list(resnet50.parameters())[:]:\n",
        "    param.requires_grad = False"
      ],
      "metadata": {
        "id": "GzfL3W-QLmj3"
      },
      "execution_count": 33,
      "outputs": []
    },
    {
      "cell_type": "code",
      "source": [
        "in_features = resnet50.fc.in_features\n",
        "resnet50.fc = nn.Linear(in_features, out_features=len(classes_cifar100))\n",
        "\n",
        "summary(resnet50.to(device), input_size=(3, 32, 32))"
      ],
      "metadata": {
        "id": "jBlNxFtALxVI",
        "colab": {
          "base_uri": "https://localhost:8080/"
        },
        "outputId": "532c5901-bd8e-4910-f93b-b1e1fbe80029"
      },
      "execution_count": 34,
      "outputs": [
        {
          "output_type": "stream",
          "name": "stdout",
          "text": [
            "----------------------------------------------------------------\n",
            "        Layer (type)               Output Shape         Param #\n",
            "================================================================\n",
            "            Conv2d-1           [-1, 64, 16, 16]           9,408\n",
            "       BatchNorm2d-2           [-1, 64, 16, 16]             128\n",
            "              ReLU-3           [-1, 64, 16, 16]               0\n",
            "         MaxPool2d-4             [-1, 64, 8, 8]               0\n",
            "            Conv2d-5             [-1, 64, 8, 8]           4,096\n",
            "       BatchNorm2d-6             [-1, 64, 8, 8]             128\n",
            "              ReLU-7             [-1, 64, 8, 8]               0\n",
            "            Conv2d-8             [-1, 64, 8, 8]          36,864\n",
            "       BatchNorm2d-9             [-1, 64, 8, 8]             128\n",
            "             ReLU-10             [-1, 64, 8, 8]               0\n",
            "           Conv2d-11            [-1, 256, 8, 8]          16,384\n",
            "      BatchNorm2d-12            [-1, 256, 8, 8]             512\n",
            "           Conv2d-13            [-1, 256, 8, 8]          16,384\n",
            "      BatchNorm2d-14            [-1, 256, 8, 8]             512\n",
            "             ReLU-15            [-1, 256, 8, 8]               0\n",
            "       Bottleneck-16            [-1, 256, 8, 8]               0\n",
            "           Conv2d-17             [-1, 64, 8, 8]          16,384\n",
            "      BatchNorm2d-18             [-1, 64, 8, 8]             128\n",
            "             ReLU-19             [-1, 64, 8, 8]               0\n",
            "           Conv2d-20             [-1, 64, 8, 8]          36,864\n",
            "      BatchNorm2d-21             [-1, 64, 8, 8]             128\n",
            "             ReLU-22             [-1, 64, 8, 8]               0\n",
            "           Conv2d-23            [-1, 256, 8, 8]          16,384\n",
            "      BatchNorm2d-24            [-1, 256, 8, 8]             512\n",
            "             ReLU-25            [-1, 256, 8, 8]               0\n",
            "       Bottleneck-26            [-1, 256, 8, 8]               0\n",
            "           Conv2d-27             [-1, 64, 8, 8]          16,384\n",
            "      BatchNorm2d-28             [-1, 64, 8, 8]             128\n",
            "             ReLU-29             [-1, 64, 8, 8]               0\n",
            "           Conv2d-30             [-1, 64, 8, 8]          36,864\n",
            "      BatchNorm2d-31             [-1, 64, 8, 8]             128\n",
            "             ReLU-32             [-1, 64, 8, 8]               0\n",
            "           Conv2d-33            [-1, 256, 8, 8]          16,384\n",
            "      BatchNorm2d-34            [-1, 256, 8, 8]             512\n",
            "             ReLU-35            [-1, 256, 8, 8]               0\n",
            "       Bottleneck-36            [-1, 256, 8, 8]               0\n",
            "           Conv2d-37            [-1, 128, 8, 8]          32,768\n",
            "      BatchNorm2d-38            [-1, 128, 8, 8]             256\n",
            "             ReLU-39            [-1, 128, 8, 8]               0\n",
            "           Conv2d-40            [-1, 128, 4, 4]         147,456\n",
            "      BatchNorm2d-41            [-1, 128, 4, 4]             256\n",
            "             ReLU-42            [-1, 128, 4, 4]               0\n",
            "           Conv2d-43            [-1, 512, 4, 4]          65,536\n",
            "      BatchNorm2d-44            [-1, 512, 4, 4]           1,024\n",
            "           Conv2d-45            [-1, 512, 4, 4]         131,072\n",
            "      BatchNorm2d-46            [-1, 512, 4, 4]           1,024\n",
            "             ReLU-47            [-1, 512, 4, 4]               0\n",
            "       Bottleneck-48            [-1, 512, 4, 4]               0\n",
            "           Conv2d-49            [-1, 128, 4, 4]          65,536\n",
            "      BatchNorm2d-50            [-1, 128, 4, 4]             256\n",
            "             ReLU-51            [-1, 128, 4, 4]               0\n",
            "           Conv2d-52            [-1, 128, 4, 4]         147,456\n",
            "      BatchNorm2d-53            [-1, 128, 4, 4]             256\n",
            "             ReLU-54            [-1, 128, 4, 4]               0\n",
            "           Conv2d-55            [-1, 512, 4, 4]          65,536\n",
            "      BatchNorm2d-56            [-1, 512, 4, 4]           1,024\n",
            "             ReLU-57            [-1, 512, 4, 4]               0\n",
            "       Bottleneck-58            [-1, 512, 4, 4]               0\n",
            "           Conv2d-59            [-1, 128, 4, 4]          65,536\n",
            "      BatchNorm2d-60            [-1, 128, 4, 4]             256\n",
            "             ReLU-61            [-1, 128, 4, 4]               0\n",
            "           Conv2d-62            [-1, 128, 4, 4]         147,456\n",
            "      BatchNorm2d-63            [-1, 128, 4, 4]             256\n",
            "             ReLU-64            [-1, 128, 4, 4]               0\n",
            "           Conv2d-65            [-1, 512, 4, 4]          65,536\n",
            "      BatchNorm2d-66            [-1, 512, 4, 4]           1,024\n",
            "             ReLU-67            [-1, 512, 4, 4]               0\n",
            "       Bottleneck-68            [-1, 512, 4, 4]               0\n",
            "           Conv2d-69            [-1, 128, 4, 4]          65,536\n",
            "      BatchNorm2d-70            [-1, 128, 4, 4]             256\n",
            "             ReLU-71            [-1, 128, 4, 4]               0\n",
            "           Conv2d-72            [-1, 128, 4, 4]         147,456\n",
            "      BatchNorm2d-73            [-1, 128, 4, 4]             256\n",
            "             ReLU-74            [-1, 128, 4, 4]               0\n",
            "           Conv2d-75            [-1, 512, 4, 4]          65,536\n",
            "      BatchNorm2d-76            [-1, 512, 4, 4]           1,024\n",
            "             ReLU-77            [-1, 512, 4, 4]               0\n",
            "       Bottleneck-78            [-1, 512, 4, 4]               0\n",
            "           Conv2d-79            [-1, 256, 4, 4]         131,072\n",
            "      BatchNorm2d-80            [-1, 256, 4, 4]             512\n",
            "             ReLU-81            [-1, 256, 4, 4]               0\n",
            "           Conv2d-82            [-1, 256, 2, 2]         589,824\n",
            "      BatchNorm2d-83            [-1, 256, 2, 2]             512\n",
            "             ReLU-84            [-1, 256, 2, 2]               0\n",
            "           Conv2d-85           [-1, 1024, 2, 2]         262,144\n",
            "      BatchNorm2d-86           [-1, 1024, 2, 2]           2,048\n",
            "           Conv2d-87           [-1, 1024, 2, 2]         524,288\n",
            "      BatchNorm2d-88           [-1, 1024, 2, 2]           2,048\n",
            "             ReLU-89           [-1, 1024, 2, 2]               0\n",
            "       Bottleneck-90           [-1, 1024, 2, 2]               0\n",
            "           Conv2d-91            [-1, 256, 2, 2]         262,144\n",
            "      BatchNorm2d-92            [-1, 256, 2, 2]             512\n",
            "             ReLU-93            [-1, 256, 2, 2]               0\n",
            "           Conv2d-94            [-1, 256, 2, 2]         589,824\n",
            "      BatchNorm2d-95            [-1, 256, 2, 2]             512\n",
            "             ReLU-96            [-1, 256, 2, 2]               0\n",
            "           Conv2d-97           [-1, 1024, 2, 2]         262,144\n",
            "      BatchNorm2d-98           [-1, 1024, 2, 2]           2,048\n",
            "             ReLU-99           [-1, 1024, 2, 2]               0\n",
            "      Bottleneck-100           [-1, 1024, 2, 2]               0\n",
            "          Conv2d-101            [-1, 256, 2, 2]         262,144\n",
            "     BatchNorm2d-102            [-1, 256, 2, 2]             512\n",
            "            ReLU-103            [-1, 256, 2, 2]               0\n",
            "          Conv2d-104            [-1, 256, 2, 2]         589,824\n",
            "     BatchNorm2d-105            [-1, 256, 2, 2]             512\n",
            "            ReLU-106            [-1, 256, 2, 2]               0\n",
            "          Conv2d-107           [-1, 1024, 2, 2]         262,144\n",
            "     BatchNorm2d-108           [-1, 1024, 2, 2]           2,048\n",
            "            ReLU-109           [-1, 1024, 2, 2]               0\n",
            "      Bottleneck-110           [-1, 1024, 2, 2]               0\n",
            "          Conv2d-111            [-1, 256, 2, 2]         262,144\n",
            "     BatchNorm2d-112            [-1, 256, 2, 2]             512\n",
            "            ReLU-113            [-1, 256, 2, 2]               0\n",
            "          Conv2d-114            [-1, 256, 2, 2]         589,824\n",
            "     BatchNorm2d-115            [-1, 256, 2, 2]             512\n",
            "            ReLU-116            [-1, 256, 2, 2]               0\n",
            "          Conv2d-117           [-1, 1024, 2, 2]         262,144\n",
            "     BatchNorm2d-118           [-1, 1024, 2, 2]           2,048\n",
            "            ReLU-119           [-1, 1024, 2, 2]               0\n",
            "      Bottleneck-120           [-1, 1024, 2, 2]               0\n",
            "          Conv2d-121            [-1, 256, 2, 2]         262,144\n",
            "     BatchNorm2d-122            [-1, 256, 2, 2]             512\n",
            "            ReLU-123            [-1, 256, 2, 2]               0\n",
            "          Conv2d-124            [-1, 256, 2, 2]         589,824\n",
            "     BatchNorm2d-125            [-1, 256, 2, 2]             512\n",
            "            ReLU-126            [-1, 256, 2, 2]               0\n",
            "          Conv2d-127           [-1, 1024, 2, 2]         262,144\n",
            "     BatchNorm2d-128           [-1, 1024, 2, 2]           2,048\n",
            "            ReLU-129           [-1, 1024, 2, 2]               0\n",
            "      Bottleneck-130           [-1, 1024, 2, 2]               0\n",
            "          Conv2d-131            [-1, 256, 2, 2]         262,144\n",
            "     BatchNorm2d-132            [-1, 256, 2, 2]             512\n",
            "            ReLU-133            [-1, 256, 2, 2]               0\n",
            "          Conv2d-134            [-1, 256, 2, 2]         589,824\n",
            "     BatchNorm2d-135            [-1, 256, 2, 2]             512\n",
            "            ReLU-136            [-1, 256, 2, 2]               0\n",
            "          Conv2d-137           [-1, 1024, 2, 2]         262,144\n",
            "     BatchNorm2d-138           [-1, 1024, 2, 2]           2,048\n",
            "            ReLU-139           [-1, 1024, 2, 2]               0\n",
            "      Bottleneck-140           [-1, 1024, 2, 2]               0\n",
            "          Conv2d-141            [-1, 512, 2, 2]         524,288\n",
            "     BatchNorm2d-142            [-1, 512, 2, 2]           1,024\n",
            "            ReLU-143            [-1, 512, 2, 2]               0\n",
            "          Conv2d-144            [-1, 512, 1, 1]       2,359,296\n",
            "     BatchNorm2d-145            [-1, 512, 1, 1]           1,024\n",
            "            ReLU-146            [-1, 512, 1, 1]               0\n",
            "          Conv2d-147           [-1, 2048, 1, 1]       1,048,576\n",
            "     BatchNorm2d-148           [-1, 2048, 1, 1]           4,096\n",
            "          Conv2d-149           [-1, 2048, 1, 1]       2,097,152\n",
            "     BatchNorm2d-150           [-1, 2048, 1, 1]           4,096\n",
            "            ReLU-151           [-1, 2048, 1, 1]               0\n",
            "      Bottleneck-152           [-1, 2048, 1, 1]               0\n",
            "          Conv2d-153            [-1, 512, 1, 1]       1,048,576\n",
            "     BatchNorm2d-154            [-1, 512, 1, 1]           1,024\n",
            "            ReLU-155            [-1, 512, 1, 1]               0\n",
            "          Conv2d-156            [-1, 512, 1, 1]       2,359,296\n",
            "     BatchNorm2d-157            [-1, 512, 1, 1]           1,024\n",
            "            ReLU-158            [-1, 512, 1, 1]               0\n",
            "          Conv2d-159           [-1, 2048, 1, 1]       1,048,576\n",
            "     BatchNorm2d-160           [-1, 2048, 1, 1]           4,096\n",
            "            ReLU-161           [-1, 2048, 1, 1]               0\n",
            "      Bottleneck-162           [-1, 2048, 1, 1]               0\n",
            "          Conv2d-163            [-1, 512, 1, 1]       1,048,576\n",
            "     BatchNorm2d-164            [-1, 512, 1, 1]           1,024\n",
            "            ReLU-165            [-1, 512, 1, 1]               0\n",
            "          Conv2d-166            [-1, 512, 1, 1]       2,359,296\n",
            "     BatchNorm2d-167            [-1, 512, 1, 1]           1,024\n",
            "            ReLU-168            [-1, 512, 1, 1]               0\n",
            "          Conv2d-169           [-1, 2048, 1, 1]       1,048,576\n",
            "     BatchNorm2d-170           [-1, 2048, 1, 1]           4,096\n",
            "            ReLU-171           [-1, 2048, 1, 1]               0\n",
            "      Bottleneck-172           [-1, 2048, 1, 1]               0\n",
            "AdaptiveAvgPool2d-173           [-1, 2048, 1, 1]               0\n",
            "          Linear-174                  [-1, 100]         204,900\n",
            "================================================================\n",
            "Total params: 23,712,932\n",
            "Trainable params: 204,900\n",
            "Non-trainable params: 23,508,032\n",
            "----------------------------------------------------------------\n",
            "Input size (MB): 0.01\n",
            "Forward/backward pass size (MB): 5.86\n",
            "Params size (MB): 90.46\n",
            "Estimated Total Size (MB): 96.33\n",
            "----------------------------------------------------------------\n"
          ]
        }
      ]
    },
    {
      "cell_type": "code",
      "source": [
        "resnet50 = resnet50.to(device)"
      ],
      "metadata": {
        "id": "1tI-p0LpNF6z"
      },
      "execution_count": 35,
      "outputs": []
    },
    {
      "cell_type": "code",
      "source": [
        "train_actions = transforms.Compose([transforms.Resize(44),\n",
        "                                    transforms.RandomCrop(32, padding=4), \n",
        "                                    transforms.ToTensor(),\n",
        "                                    transforms.Normalize(mean=[0.485, 0.456, 0.406],\n",
        "                                                         std=[0.229, 0.224, 0.225])])\n",
        "valid_transforms = transforms.Compose([transforms.Resize(32),\n",
        "                                       transforms.ToTensor(),\n",
        "                                       transforms.Normalize(mean=[0.485, 0.456, 0.406],\n",
        "                                                            std=[0.229, 0.224, 0.225])])\n",
        "\n",
        "\n",
        "train_dataset, valid_dataset = train_valid_split(dataset)\n",
        "\n",
        "train_dataset = MyOwnCifar(train_dataset, train_actions)\n",
        "valid_dataset = MyOwnCifar(valid_dataset, valid_transforms)"
      ],
      "metadata": {
        "id": "DNGQjIt6NMdt"
      },
      "execution_count": 36,
      "outputs": []
    },
    {
      "cell_type": "code",
      "source": [
        "train_loader = torch.utils.data.DataLoader(train_dataset,\n",
        "                                           batch_size=128,\n",
        "                                           shuffle=True,\n",
        "                                           num_workers=2)\n",
        "valid_loader = torch.utils.data.DataLoader(valid_dataset,\n",
        "                                           batch_size=128,\n",
        "                                           shuffle=False,\n",
        "                                           num_workers=1)"
      ],
      "metadata": {
        "id": "xXAzW1Q5N-Dd"
      },
      "execution_count": 37,
      "outputs": []
    },
    {
      "cell_type": "code",
      "source": [
        "params_to_update = []\n",
        "for name, param in resnet50.named_parameters():\n",
        "    if param.requires_grad == True:\n",
        "        params_to_update.append(param)\n",
        "\n",
        "\n",
        "optimizer = torch.optim.Adam(params_to_update, lr=0.001)\n",
        "criterion = nn.CrossEntropyLoss()"
      ],
      "metadata": {
        "id": "23rZ1A8tOCEG"
      },
      "execution_count": 38,
      "outputs": []
    },
    {
      "cell_type": "code",
      "source": [
        "num_epochs = 5\n",
        "resnet50.train()"
      ],
      "metadata": {
        "id": "QSZRFg31PSxL",
        "colab": {
          "base_uri": "https://localhost:8080/"
        },
        "outputId": "2f89f39b-bf5a-4846-a430-882a48128745"
      },
      "execution_count": 39,
      "outputs": [
        {
          "output_type": "execute_result",
          "data": {
            "text/plain": [
              "ResNet(\n",
              "  (conv1): Conv2d(3, 64, kernel_size=(7, 7), stride=(2, 2), padding=(3, 3), bias=False)\n",
              "  (bn1): BatchNorm2d(64, eps=1e-05, momentum=0.1, affine=True, track_running_stats=True)\n",
              "  (relu): ReLU(inplace=True)\n",
              "  (maxpool): MaxPool2d(kernel_size=3, stride=2, padding=1, dilation=1, ceil_mode=False)\n",
              "  (layer1): Sequential(\n",
              "    (0): Bottleneck(\n",
              "      (conv1): Conv2d(64, 64, kernel_size=(1, 1), stride=(1, 1), bias=False)\n",
              "      (bn1): BatchNorm2d(64, eps=1e-05, momentum=0.1, affine=True, track_running_stats=True)\n",
              "      (conv2): Conv2d(64, 64, kernel_size=(3, 3), stride=(1, 1), padding=(1, 1), bias=False)\n",
              "      (bn2): BatchNorm2d(64, eps=1e-05, momentum=0.1, affine=True, track_running_stats=True)\n",
              "      (conv3): Conv2d(64, 256, kernel_size=(1, 1), stride=(1, 1), bias=False)\n",
              "      (bn3): BatchNorm2d(256, eps=1e-05, momentum=0.1, affine=True, track_running_stats=True)\n",
              "      (relu): ReLU(inplace=True)\n",
              "      (downsample): Sequential(\n",
              "        (0): Conv2d(64, 256, kernel_size=(1, 1), stride=(1, 1), bias=False)\n",
              "        (1): BatchNorm2d(256, eps=1e-05, momentum=0.1, affine=True, track_running_stats=True)\n",
              "      )\n",
              "    )\n",
              "    (1): Bottleneck(\n",
              "      (conv1): Conv2d(256, 64, kernel_size=(1, 1), stride=(1, 1), bias=False)\n",
              "      (bn1): BatchNorm2d(64, eps=1e-05, momentum=0.1, affine=True, track_running_stats=True)\n",
              "      (conv2): Conv2d(64, 64, kernel_size=(3, 3), stride=(1, 1), padding=(1, 1), bias=False)\n",
              "      (bn2): BatchNorm2d(64, eps=1e-05, momentum=0.1, affine=True, track_running_stats=True)\n",
              "      (conv3): Conv2d(64, 256, kernel_size=(1, 1), stride=(1, 1), bias=False)\n",
              "      (bn3): BatchNorm2d(256, eps=1e-05, momentum=0.1, affine=True, track_running_stats=True)\n",
              "      (relu): ReLU(inplace=True)\n",
              "    )\n",
              "    (2): Bottleneck(\n",
              "      (conv1): Conv2d(256, 64, kernel_size=(1, 1), stride=(1, 1), bias=False)\n",
              "      (bn1): BatchNorm2d(64, eps=1e-05, momentum=0.1, affine=True, track_running_stats=True)\n",
              "      (conv2): Conv2d(64, 64, kernel_size=(3, 3), stride=(1, 1), padding=(1, 1), bias=False)\n",
              "      (bn2): BatchNorm2d(64, eps=1e-05, momentum=0.1, affine=True, track_running_stats=True)\n",
              "      (conv3): Conv2d(64, 256, kernel_size=(1, 1), stride=(1, 1), bias=False)\n",
              "      (bn3): BatchNorm2d(256, eps=1e-05, momentum=0.1, affine=True, track_running_stats=True)\n",
              "      (relu): ReLU(inplace=True)\n",
              "    )\n",
              "  )\n",
              "  (layer2): Sequential(\n",
              "    (0): Bottleneck(\n",
              "      (conv1): Conv2d(256, 128, kernel_size=(1, 1), stride=(1, 1), bias=False)\n",
              "      (bn1): BatchNorm2d(128, eps=1e-05, momentum=0.1, affine=True, track_running_stats=True)\n",
              "      (conv2): Conv2d(128, 128, kernel_size=(3, 3), stride=(2, 2), padding=(1, 1), bias=False)\n",
              "      (bn2): BatchNorm2d(128, eps=1e-05, momentum=0.1, affine=True, track_running_stats=True)\n",
              "      (conv3): Conv2d(128, 512, kernel_size=(1, 1), stride=(1, 1), bias=False)\n",
              "      (bn3): BatchNorm2d(512, eps=1e-05, momentum=0.1, affine=True, track_running_stats=True)\n",
              "      (relu): ReLU(inplace=True)\n",
              "      (downsample): Sequential(\n",
              "        (0): Conv2d(256, 512, kernel_size=(1, 1), stride=(2, 2), bias=False)\n",
              "        (1): BatchNorm2d(512, eps=1e-05, momentum=0.1, affine=True, track_running_stats=True)\n",
              "      )\n",
              "    )\n",
              "    (1): Bottleneck(\n",
              "      (conv1): Conv2d(512, 128, kernel_size=(1, 1), stride=(1, 1), bias=False)\n",
              "      (bn1): BatchNorm2d(128, eps=1e-05, momentum=0.1, affine=True, track_running_stats=True)\n",
              "      (conv2): Conv2d(128, 128, kernel_size=(3, 3), stride=(1, 1), padding=(1, 1), bias=False)\n",
              "      (bn2): BatchNorm2d(128, eps=1e-05, momentum=0.1, affine=True, track_running_stats=True)\n",
              "      (conv3): Conv2d(128, 512, kernel_size=(1, 1), stride=(1, 1), bias=False)\n",
              "      (bn3): BatchNorm2d(512, eps=1e-05, momentum=0.1, affine=True, track_running_stats=True)\n",
              "      (relu): ReLU(inplace=True)\n",
              "    )\n",
              "    (2): Bottleneck(\n",
              "      (conv1): Conv2d(512, 128, kernel_size=(1, 1), stride=(1, 1), bias=False)\n",
              "      (bn1): BatchNorm2d(128, eps=1e-05, momentum=0.1, affine=True, track_running_stats=True)\n",
              "      (conv2): Conv2d(128, 128, kernel_size=(3, 3), stride=(1, 1), padding=(1, 1), bias=False)\n",
              "      (bn2): BatchNorm2d(128, eps=1e-05, momentum=0.1, affine=True, track_running_stats=True)\n",
              "      (conv3): Conv2d(128, 512, kernel_size=(1, 1), stride=(1, 1), bias=False)\n",
              "      (bn3): BatchNorm2d(512, eps=1e-05, momentum=0.1, affine=True, track_running_stats=True)\n",
              "      (relu): ReLU(inplace=True)\n",
              "    )\n",
              "    (3): Bottleneck(\n",
              "      (conv1): Conv2d(512, 128, kernel_size=(1, 1), stride=(1, 1), bias=False)\n",
              "      (bn1): BatchNorm2d(128, eps=1e-05, momentum=0.1, affine=True, track_running_stats=True)\n",
              "      (conv2): Conv2d(128, 128, kernel_size=(3, 3), stride=(1, 1), padding=(1, 1), bias=False)\n",
              "      (bn2): BatchNorm2d(128, eps=1e-05, momentum=0.1, affine=True, track_running_stats=True)\n",
              "      (conv3): Conv2d(128, 512, kernel_size=(1, 1), stride=(1, 1), bias=False)\n",
              "      (bn3): BatchNorm2d(512, eps=1e-05, momentum=0.1, affine=True, track_running_stats=True)\n",
              "      (relu): ReLU(inplace=True)\n",
              "    )\n",
              "  )\n",
              "  (layer3): Sequential(\n",
              "    (0): Bottleneck(\n",
              "      (conv1): Conv2d(512, 256, kernel_size=(1, 1), stride=(1, 1), bias=False)\n",
              "      (bn1): BatchNorm2d(256, eps=1e-05, momentum=0.1, affine=True, track_running_stats=True)\n",
              "      (conv2): Conv2d(256, 256, kernel_size=(3, 3), stride=(2, 2), padding=(1, 1), bias=False)\n",
              "      (bn2): BatchNorm2d(256, eps=1e-05, momentum=0.1, affine=True, track_running_stats=True)\n",
              "      (conv3): Conv2d(256, 1024, kernel_size=(1, 1), stride=(1, 1), bias=False)\n",
              "      (bn3): BatchNorm2d(1024, eps=1e-05, momentum=0.1, affine=True, track_running_stats=True)\n",
              "      (relu): ReLU(inplace=True)\n",
              "      (downsample): Sequential(\n",
              "        (0): Conv2d(512, 1024, kernel_size=(1, 1), stride=(2, 2), bias=False)\n",
              "        (1): BatchNorm2d(1024, eps=1e-05, momentum=0.1, affine=True, track_running_stats=True)\n",
              "      )\n",
              "    )\n",
              "    (1): Bottleneck(\n",
              "      (conv1): Conv2d(1024, 256, kernel_size=(1, 1), stride=(1, 1), bias=False)\n",
              "      (bn1): BatchNorm2d(256, eps=1e-05, momentum=0.1, affine=True, track_running_stats=True)\n",
              "      (conv2): Conv2d(256, 256, kernel_size=(3, 3), stride=(1, 1), padding=(1, 1), bias=False)\n",
              "      (bn2): BatchNorm2d(256, eps=1e-05, momentum=0.1, affine=True, track_running_stats=True)\n",
              "      (conv3): Conv2d(256, 1024, kernel_size=(1, 1), stride=(1, 1), bias=False)\n",
              "      (bn3): BatchNorm2d(1024, eps=1e-05, momentum=0.1, affine=True, track_running_stats=True)\n",
              "      (relu): ReLU(inplace=True)\n",
              "    )\n",
              "    (2): Bottleneck(\n",
              "      (conv1): Conv2d(1024, 256, kernel_size=(1, 1), stride=(1, 1), bias=False)\n",
              "      (bn1): BatchNorm2d(256, eps=1e-05, momentum=0.1, affine=True, track_running_stats=True)\n",
              "      (conv2): Conv2d(256, 256, kernel_size=(3, 3), stride=(1, 1), padding=(1, 1), bias=False)\n",
              "      (bn2): BatchNorm2d(256, eps=1e-05, momentum=0.1, affine=True, track_running_stats=True)\n",
              "      (conv3): Conv2d(256, 1024, kernel_size=(1, 1), stride=(1, 1), bias=False)\n",
              "      (bn3): BatchNorm2d(1024, eps=1e-05, momentum=0.1, affine=True, track_running_stats=True)\n",
              "      (relu): ReLU(inplace=True)\n",
              "    )\n",
              "    (3): Bottleneck(\n",
              "      (conv1): Conv2d(1024, 256, kernel_size=(1, 1), stride=(1, 1), bias=False)\n",
              "      (bn1): BatchNorm2d(256, eps=1e-05, momentum=0.1, affine=True, track_running_stats=True)\n",
              "      (conv2): Conv2d(256, 256, kernel_size=(3, 3), stride=(1, 1), padding=(1, 1), bias=False)\n",
              "      (bn2): BatchNorm2d(256, eps=1e-05, momentum=0.1, affine=True, track_running_stats=True)\n",
              "      (conv3): Conv2d(256, 1024, kernel_size=(1, 1), stride=(1, 1), bias=False)\n",
              "      (bn3): BatchNorm2d(1024, eps=1e-05, momentum=0.1, affine=True, track_running_stats=True)\n",
              "      (relu): ReLU(inplace=True)\n",
              "    )\n",
              "    (4): Bottleneck(\n",
              "      (conv1): Conv2d(1024, 256, kernel_size=(1, 1), stride=(1, 1), bias=False)\n",
              "      (bn1): BatchNorm2d(256, eps=1e-05, momentum=0.1, affine=True, track_running_stats=True)\n",
              "      (conv2): Conv2d(256, 256, kernel_size=(3, 3), stride=(1, 1), padding=(1, 1), bias=False)\n",
              "      (bn2): BatchNorm2d(256, eps=1e-05, momentum=0.1, affine=True, track_running_stats=True)\n",
              "      (conv3): Conv2d(256, 1024, kernel_size=(1, 1), stride=(1, 1), bias=False)\n",
              "      (bn3): BatchNorm2d(1024, eps=1e-05, momentum=0.1, affine=True, track_running_stats=True)\n",
              "      (relu): ReLU(inplace=True)\n",
              "    )\n",
              "    (5): Bottleneck(\n",
              "      (conv1): Conv2d(1024, 256, kernel_size=(1, 1), stride=(1, 1), bias=False)\n",
              "      (bn1): BatchNorm2d(256, eps=1e-05, momentum=0.1, affine=True, track_running_stats=True)\n",
              "      (conv2): Conv2d(256, 256, kernel_size=(3, 3), stride=(1, 1), padding=(1, 1), bias=False)\n",
              "      (bn2): BatchNorm2d(256, eps=1e-05, momentum=0.1, affine=True, track_running_stats=True)\n",
              "      (conv3): Conv2d(256, 1024, kernel_size=(1, 1), stride=(1, 1), bias=False)\n",
              "      (bn3): BatchNorm2d(1024, eps=1e-05, momentum=0.1, affine=True, track_running_stats=True)\n",
              "      (relu): ReLU(inplace=True)\n",
              "    )\n",
              "  )\n",
              "  (layer4): Sequential(\n",
              "    (0): Bottleneck(\n",
              "      (conv1): Conv2d(1024, 512, kernel_size=(1, 1), stride=(1, 1), bias=False)\n",
              "      (bn1): BatchNorm2d(512, eps=1e-05, momentum=0.1, affine=True, track_running_stats=True)\n",
              "      (conv2): Conv2d(512, 512, kernel_size=(3, 3), stride=(2, 2), padding=(1, 1), bias=False)\n",
              "      (bn2): BatchNorm2d(512, eps=1e-05, momentum=0.1, affine=True, track_running_stats=True)\n",
              "      (conv3): Conv2d(512, 2048, kernel_size=(1, 1), stride=(1, 1), bias=False)\n",
              "      (bn3): BatchNorm2d(2048, eps=1e-05, momentum=0.1, affine=True, track_running_stats=True)\n",
              "      (relu): ReLU(inplace=True)\n",
              "      (downsample): Sequential(\n",
              "        (0): Conv2d(1024, 2048, kernel_size=(1, 1), stride=(2, 2), bias=False)\n",
              "        (1): BatchNorm2d(2048, eps=1e-05, momentum=0.1, affine=True, track_running_stats=True)\n",
              "      )\n",
              "    )\n",
              "    (1): Bottleneck(\n",
              "      (conv1): Conv2d(2048, 512, kernel_size=(1, 1), stride=(1, 1), bias=False)\n",
              "      (bn1): BatchNorm2d(512, eps=1e-05, momentum=0.1, affine=True, track_running_stats=True)\n",
              "      (conv2): Conv2d(512, 512, kernel_size=(3, 3), stride=(1, 1), padding=(1, 1), bias=False)\n",
              "      (bn2): BatchNorm2d(512, eps=1e-05, momentum=0.1, affine=True, track_running_stats=True)\n",
              "      (conv3): Conv2d(512, 2048, kernel_size=(1, 1), stride=(1, 1), bias=False)\n",
              "      (bn3): BatchNorm2d(2048, eps=1e-05, momentum=0.1, affine=True, track_running_stats=True)\n",
              "      (relu): ReLU(inplace=True)\n",
              "    )\n",
              "    (2): Bottleneck(\n",
              "      (conv1): Conv2d(2048, 512, kernel_size=(1, 1), stride=(1, 1), bias=False)\n",
              "      (bn1): BatchNorm2d(512, eps=1e-05, momentum=0.1, affine=True, track_running_stats=True)\n",
              "      (conv2): Conv2d(512, 512, kernel_size=(3, 3), stride=(1, 1), padding=(1, 1), bias=False)\n",
              "      (bn2): BatchNorm2d(512, eps=1e-05, momentum=0.1, affine=True, track_running_stats=True)\n",
              "      (conv3): Conv2d(512, 2048, kernel_size=(1, 1), stride=(1, 1), bias=False)\n",
              "      (bn3): BatchNorm2d(2048, eps=1e-05, momentum=0.1, affine=True, track_running_stats=True)\n",
              "      (relu): ReLU(inplace=True)\n",
              "    )\n",
              "  )\n",
              "  (avgpool): AdaptiveAvgPool2d(output_size=(1, 1))\n",
              "  (fc): Linear(in_features=2048, out_features=100, bias=True)\n",
              ")"
            ]
          },
          "metadata": {},
          "execution_count": 39
        }
      ]
    },
    {
      "cell_type": "code",
      "source": [
        "for epoch in range(num_epochs):  \n",
        "    running_loss, running_items, running_right = 0.0, 0.0, 0.0\n",
        "    for i, data in enumerate(train_loader):\n",
        "        inputs, labels = data[0].to(device), data[1].to(device)\n",
        "\n",
        "        # обнуляем градиент\n",
        "        optimizer.zero_grad()\n",
        "\n",
        "        outputs = resnet50(inputs)\n",
        "        loss = criterion(outputs, labels)\n",
        "        loss.backward()\n",
        "        optimizer.step()\n",
        "\n",
        "        # выводим статистику о процессе обучения\n",
        "        running_loss += loss.item()\n",
        "        running_items += len(labels)\n",
        "        running_right += (labels == torch.max(outputs, 1)[1]).sum()\n",
        "        \n",
        "        # выводим статистику о процессе обучения\n",
        "        if i % 300 == 0:    # печатаем каждые 300 mini-batches\n",
        "            resnet50.eval()\n",
        "            \n",
        "            print(f'Epoch [{epoch + 1}/{num_epochs}]. ' \\\n",
        "                  f'Step [{i + 1}/{len(train_loader)}]. ' \\\n",
        "                  f'Loss: {running_loss / running_items:.3f}. ' \\\n",
        "                  f'Acc: {running_right / running_items:.3f}', end='. ')\n",
        "            running_loss, running_items, running_right = 0.0, 0.0, 0.0\n",
        "\n",
        "            test_running_right, test_running_total = 0.0, 0.0\n",
        "            for i, data in enumerate(valid_loader):\n",
        "            \n",
        "                test_outputs = resnet50(data[0].to(device))\n",
        "                test_running_total += len(data[1])\n",
        "                test_running_right += (data[1].to(device) == torch.max(test_outputs, 1)[1]).sum()\n",
        "            \n",
        "            print(f'Test acc: {test_running_right / test_running_total:.3f}')\n",
        "\n",
        "        resnet50.train()\n",
        "        \n",
        "print('Training is finished!')"
      ],
      "metadata": {
        "id": "4sA6ceJfPVbE",
        "colab": {
          "base_uri": "https://localhost:8080/"
        },
        "outputId": "52ad9a96-3233-464c-e183-27d1a5b061ed"
      },
      "execution_count": 40,
      "outputs": [
        {
          "output_type": "stream",
          "name": "stdout",
          "text": [
            "Epoch [1/5]. Step [1/372]. Loss: 0.036. Acc: 0.008. Test acc: 0.013\n",
            "Epoch [1/5]. Step [301/372]. Loss: 0.029. Acc: 0.169. Test acc: 0.192\n",
            "Epoch [2/5]. Step [1/372]. Loss: 0.027. Acc: 0.188. Test acc: 0.185\n",
            "Epoch [2/5]. Step [301/372]. Loss: 0.026. Acc: 0.227. Test acc: 0.204\n",
            "Epoch [3/5]. Step [1/372]. Loss: 0.024. Acc: 0.273. Test acc: 0.202\n",
            "Epoch [3/5]. Step [301/372]. Loss: 0.026. Acc: 0.239. Test acc: 0.225\n",
            "Epoch [4/5]. Step [1/372]. Loss: 0.025. Acc: 0.273. Test acc: 0.214\n",
            "Epoch [4/5]. Step [301/372]. Loss: 0.025. Acc: 0.253. Test acc: 0.224\n",
            "Epoch [5/5]. Step [1/372]. Loss: 0.024. Acc: 0.266. Test acc: 0.229\n",
            "Epoch [5/5]. Step [301/372]. Loss: 0.025. Acc: 0.257. Test acc: 0.220\n",
            "Training is finished!\n"
          ]
        }
      ]
    },
    {
      "cell_type": "code",
      "source": [
        "valid_loader = torch.utils.data.DataLoader(valid_dataset,\n",
        "                                           batch_size=8,\n",
        "                                           shuffle=True,\n",
        "                                           num_workers=1)"
      ],
      "metadata": {
        "id": "SG8kwHEGPj-j"
      },
      "execution_count": 41,
      "outputs": []
    },
    {
      "cell_type": "code",
      "source": [
        "data_iter = iter(valid_loader)\n",
        "inputs, labels = data_iter.next()\n",
        "labels = labels.to(device)\n",
        "inputs = inputs.to(device)\n",
        "labels"
      ],
      "metadata": {
        "id": "iOmPN9wYTdnc",
        "colab": {
          "base_uri": "https://localhost:8080/"
        },
        "outputId": "ac96c50e-820a-422c-ce24-b1ee480c243a"
      },
      "execution_count": 54,
      "outputs": [
        {
          "output_type": "execute_result",
          "data": {
            "text/plain": [
              "tensor([69, 77, 94, 18,  3, 56, 95, 39])"
            ]
          },
          "metadata": {},
          "execution_count": 54
        }
      ]
    },
    {
      "cell_type": "code",
      "source": [
        "net.eval()\n",
        "outputs = resnet50(inputs)\n",
        "imgs = torchvision.utils.make_grid(inputs.to('cpu'))\n",
        "plt.figure(figsize=(10, 5))\n",
        "plt.imshow(imgs.permute(1, 2, 0).numpy())\n",
        "print('GroundTruth: ', ' '.join(classes_cifar100[labels[j]] for j in range(len(labels))))"
      ],
      "metadata": {
        "id": "AwGlhcoHTi3P",
        "colab": {
          "base_uri": "https://localhost:8080/",
          "height": 159
        },
        "outputId": "203a1e93-ab62-4417-be3f-29eac4dd5020"
      },
      "execution_count": 55,
      "outputs": [
        {
          "output_type": "stream",
          "name": "stderr",
          "text": [
            "WARNING:matplotlib.image:Clipping input data to the valid range for imshow with RGB data ([0..1] for floats or [0..255] for integers).\n"
          ]
        },
        {
          "output_type": "stream",
          "name": "stdout",
          "text": [
            "GroundTruth:  rocket snail wardrobe caterpillar bear palm_tree whale keyboard\n"
          ]
        },
        {
          "output_type": "display_data",
          "data": {
            "text/plain": [
              "<Figure size 720x360 with 1 Axes>"
            ],
            "image/png": "[encoded data removed]"
          },
          "metadata": {
            "needs_background": "light"
          }
        }
      ]
    },
    {
      "cell_type": "code",
      "source": [
        "print(outputs)"
      ],
      "metadata": {
        "id": "iS8ySDy4TqNE",
        "colab": {
          "base_uri": "https://localhost:8080/"
        },
        "outputId": "84eb9875-cec5-4cd6-d3c5-ec5306c47fb9"
      },
      "execution_count": 56,
      "outputs": [
        {
          "output_type": "stream",
          "name": "stdout",
          "text": [
            "tensor([[-3.7040e+00, -2.6482e+00, -2.9928e+00, -1.5147e+00, -1.5840e+00,\n",
            "         -3.8318e+00, -2.7365e+00, -3.0227e+00, -3.8721e+00, -4.1509e+00,\n",
            "         -2.6285e+00, -2.9298e+00, -5.1387e+00, -5.5398e+00, -4.5120e+00,\n",
            "         -1.1454e+00, -5.1291e+00, -5.1476e+00, -4.8396e+00, -1.5201e+00,\n",
            "         -5.7104e+00, -3.4040e+00, -3.8152e+00, -3.8927e+00, -3.6209e+00,\n",
            "         -4.2822e+00, -2.2787e+00, -2.7726e+00, -3.7745e+00, -2.8436e+00,\n",
            "         -6.7671e+00, -2.1252e+00, -2.3617e+00, -4.3859e+00, -7.7117e-01,\n",
            "         -2.5201e+00, -1.2879e+00, -5.9095e+00, -9.9664e-01, -7.4050e+00,\n",
            "         -3.6309e+00, -3.3469e+00, -2.4062e+00, -1.1591e+00, -1.1208e+00,\n",
            "         -3.3344e+00, -3.0190e+00, -6.6182e+00, -4.2227e+00, -4.8393e+00,\n",
            "         -1.5446e+00, -1.8981e+00, -6.6457e+00, -4.8021e+00, -4.5604e+00,\n",
            "         -1.8737e+00, -5.3158e+00, -1.9117e+00, -5.2232e+00, -4.8221e+00,\n",
            "         -5.4632e+00, -4.7753e+00, -5.8441e+00, -4.3323e-01, -9.2769e-01,\n",
            "         -9.2285e-01, -2.8677e+00, -2.9565e+00, -6.6841e+00, -2.5363e+00,\n",
            "         -3.2139e+00, -5.1451e+00, -3.3166e+00, -3.6695e+00, -1.1905e+00,\n",
            "         -4.1931e+00, -7.4732e+00, -3.0431e+00, -2.0076e+00, -2.7096e+00,\n",
            "         -2.5521e+00, -5.1437e+00, -6.8790e+00, -4.3537e+00, -3.3689e+00,\n",
            "         -3.4201e+00, -5.6426e+00, -3.2025e+00, -3.6058e+00, -3.7622e+00,\n",
            "         -5.4254e+00, -2.5028e+00, -3.1855e+00, -3.5386e+00, -5.1095e+00,\n",
            "         -5.5609e+00, -5.0571e+00, -1.8515e+00, -3.0034e+00, -3.3342e+00],\n",
            "        [-2.0930e+01, -1.7246e+01, -1.1387e+01, -8.7061e+00, -1.2994e+01,\n",
            "         -1.1583e+01, -9.1419e+00, -7.0781e+00, -7.2807e+00, -1.4372e+01,\n",
            "         -1.4981e+01, -1.4969e+01, -1.1060e+01, -1.2134e+01, -1.1259e+01,\n",
            "         -7.1473e+00, -1.2929e+01, -1.3186e+01, -1.0209e+01, -1.1225e+01,\n",
            "         -1.4463e+01, -1.0499e+01, -1.4156e+01, -1.7719e+01, -9.8252e+00,\n",
            "         -1.0262e+01, -8.3953e+00, -1.1490e+01, -1.0399e+01, -9.8151e+00,\n",
            "         -1.9444e+01, -8.4781e+00, -1.0415e+01, -1.5353e+01, -1.0555e+01,\n",
            "         -1.1774e+01, -1.0599e+01, -1.1993e+01, -1.1233e+01, -1.5764e+01,\n",
            "         -8.9120e+00, -1.1324e+01, -1.0934e+01, -7.3686e+00, -8.7496e+00,\n",
            "         -8.1908e+00, -1.0475e+01, -1.7424e+01, -1.3872e+01, -1.6728e+01,\n",
            "         -1.0432e+01, -1.0788e+01, -1.8358e+01, -2.2537e+01, -1.5050e+01,\n",
            "         -9.9532e+00, -1.3575e+01, -1.1000e+01, -1.5795e+01, -1.2117e+01,\n",
            "         -1.3577e+01, -1.6012e+01, -1.9480e+01, -1.2887e+01, -9.1881e+00,\n",
            "         -8.7439e+00, -8.7747e+00, -1.6129e+01, -1.4006e+01, -1.3710e+01,\n",
            "         -1.4430e+01, -1.7403e+01, -1.4090e+01, -1.5427e+01, -1.1612e+01,\n",
            "         -1.1817e+01, -1.3857e+01, -8.4853e+00, -9.1779e+00, -7.2198e+00,\n",
            "         -1.3089e+01, -1.0280e+01, -1.8574e+01, -1.8627e+01, -7.4651e+00,\n",
            "         -7.7129e+00, -1.2478e+01, -1.2525e+01, -9.0077e+00, -1.0305e+01,\n",
            "         -1.2097e+01, -7.7867e+00, -1.4729e+01, -1.0351e+01, -1.1920e+01,\n",
            "         -1.7016e+01, -1.4393e+01, -8.7874e+00, -1.0656e+01, -1.2924e+01],\n",
            "        [-6.8522e+00, -4.2667e+00, -4.0120e+00, -6.2697e+00, -4.7949e+00,\n",
            "         -2.8551e-01, -5.0224e+00, -6.0312e+00, -5.4343e+00, -2.1708e+00,\n",
            "         -4.4999e+00, -4.3317e+00, -4.1932e+00, -1.5857e+00, -5.5828e+00,\n",
            "         -4.7268e+00, -2.7223e+00, -2.8083e+00, -7.1377e+00, -3.8128e+00,\n",
            "         -3.1056e+00, -5.7474e+00, -4.1848e+00, -5.1292e+00, -4.6799e+00,\n",
            "         -1.2422e+00, -4.4867e+00, -5.4457e+00, -5.8010e+00, -7.4080e+00,\n",
            "         -7.7369e+00, -5.9838e+00, -4.4754e+00, -5.0391e+00, -4.1437e+00,\n",
            "         -3.2820e+00, -2.8615e+00, -1.1518e+00, -4.8428e+00, -7.1552e+00,\n",
            "         -4.1552e+00, -4.2592e+00, -5.5037e+00, -3.4519e+00, -6.1544e+00,\n",
            "         -4.8328e+00, -4.2329e+00, -4.4365e+00, -5.4549e+00, -5.0289e+00,\n",
            "         -3.9702e+00, -3.6713e+00, -7.4285e+00, -6.3755e+00, -7.8357e+00,\n",
            "         -5.7030e+00, -6.0727e+00, -5.7005e+00, -1.9931e+00, -5.1558e+00,\n",
            "         -5.7161e+00, -6.4128e+00, -6.7976e+00, -6.7755e+00, -5.8250e+00,\n",
            "         -4.1502e+00, -5.1487e+00, -6.0627e+00, -7.0680e+00, -7.9136e+00,\n",
            "         -8.8111e+00, -8.1488e+00, -7.0816e+00, -5.5737e+00, -5.0957e+00,\n",
            "         -4.0342e+00, -8.4129e+00, -7.5097e+00, -4.9260e+00, -6.8101e+00,\n",
            "         -8.1710e+00,  1.3383e-02, -5.5018e+00, -6.1247e+00, -7.6445e-01,\n",
            "         -2.9284e+00, -2.1904e+00, -2.2036e+00, -3.0464e+00, -2.2652e+00,\n",
            "         -1.6145e+00, -4.1006e+00, -7.5793e+00, -5.8117e+00,  1.5825e-01,\n",
            "         -7.4106e+00, -5.9308e+00, -5.7725e+00, -2.9741e+00, -7.3583e+00],\n",
            "        [-6.7036e+00, -6.5828e+00, -4.5542e+00, -5.4597e+00, -7.2187e+00,\n",
            "         -5.6754e+00, -5.1283e+00, -4.1409e+00, -4.9355e+00, -4.2974e+00,\n",
            "         -4.7315e+00, -4.8260e+00, -7.2653e+00, -7.2910e+00, -4.1101e+00,\n",
            "         -4.9551e+00, -4.5528e+00, -7.1388e+00, -3.4182e+00, -3.2215e+00,\n",
            "         -5.3023e+00, -6.1230e+00, -6.8073e+00, -1.0870e+01, -5.0344e+00,\n",
            "         -7.2326e+00, -4.4789e+00, -7.0525e+00, -4.1677e+00, -5.6938e+00,\n",
            "         -9.7657e+00, -6.3707e+00, -3.8658e+00, -6.5392e+00, -4.2564e+00,\n",
            "         -5.9737e+00, -7.4514e+00, -5.7481e+00, -4.2620e+00, -1.0467e+01,\n",
            "         -3.3974e+00, -3.7602e+00, -7.1287e+00, -6.0779e+00, -4.7503e+00,\n",
            "         -5.8223e+00, -5.6121e+00, -9.5749e+00, -5.9543e+00, -8.0181e+00,\n",
            "         -4.5896e+00, -5.4567e+00, -1.0385e+01, -7.8136e+00, -3.1642e+00,\n",
            "         -5.9504e+00, -5.8208e+00, -3.4703e+00, -6.0431e+00, -7.0888e+00,\n",
            "         -6.6612e+00, -6.6424e+00, -5.3542e+00, -6.4586e+00, -4.3598e+00,\n",
            "         -4.3294e+00, -4.9645e+00, -6.6497e+00, -6.8481e+00, -4.8990e+00,\n",
            "         -5.6705e+00, -9.1213e+00, -6.1328e+00, -5.1089e+00, -5.4960e+00,\n",
            "         -4.5133e+00, -5.4171e+00, -5.4696e+00, -5.3363e+00, -4.3065e+00,\n",
            "         -4.8029e+00, -5.9078e+00, -6.0940e+00, -4.5297e+00, -4.9471e+00,\n",
            "         -5.0992e+00, -4.5775e+00, -4.5287e+00, -6.5515e+00, -5.1514e+00,\n",
            "         -6.8097e+00, -3.6426e+00, -4.8835e+00, -5.3650e+00, -8.8945e+00,\n",
            "         -7.8820e+00, -7.6822e+00, -4.4666e+00, -4.6127e+00, -5.6730e+00],\n",
            "        [-9.7560e+00, -7.9670e+00, -6.5403e+00, -3.3524e+00, -5.6204e+00,\n",
            "         -6.7486e+00, -6.9337e+00, -5.9593e+00, -3.8046e+00, -5.2561e+00,\n",
            "         -6.3348e+00, -6.1317e+00, -5.5406e+00, -6.2548e+00, -7.5217e+00,\n",
            "         -6.6364e+00, -4.0352e+00, -5.6511e+00, -8.9568e+00, -5.0229e+00,\n",
            "         -7.9666e+00, -6.6782e+00, -5.8442e+00, -8.4294e+00, -5.3850e+00,\n",
            "         -4.7961e+00, -4.7384e+00, -6.7676e+00, -6.3117e+00, -8.1602e+00,\n",
            "         -9.6634e+00, -4.1676e+00, -5.1623e+00, -7.7903e+00, -4.4890e+00,\n",
            "         -8.4323e+00, -5.5205e+00, -4.6666e+00, -6.0899e+00, -8.6955e+00,\n",
            "         -5.3012e+00, -7.2024e+00, -4.5358e+00, -7.0820e+00, -6.2116e+00,\n",
            "         -6.8725e+00, -6.9290e+00, -7.8724e+00, -6.4509e+00, -7.1889e+00,\n",
            "         -5.3665e+00, -6.7066e+00, -6.2003e+00, -1.0249e+01, -7.5920e+00,\n",
            "         -5.5004e+00, -7.5772e+00, -7.5992e+00, -5.8649e+00, -4.0549e+00,\n",
            "         -6.7978e+00, -7.6223e+00, -8.1583e+00, -3.9228e+00, -4.9094e+00,\n",
            "         -3.3274e+00, -4.2163e+00, -7.5663e+00, -7.9009e+00, -5.9721e+00,\n",
            "         -8.3891e+00, -5.9112e+00, -6.3092e+00, -7.5361e+00, -3.7652e+00,\n",
            "         -5.6928e+00, -5.9389e+00, -5.0418e+00, -4.7908e+00, -5.1955e+00,\n",
            "         -3.7125e+00, -4.4266e+00, -6.7850e+00, -8.9290e+00, -4.8247e+00,\n",
            "         -4.9790e+00, -6.3393e+00, -6.1035e+00, -5.9043e+00, -4.4545e+00,\n",
            "         -6.8645e+00, -6.4390e+00, -8.3923e+00, -5.9882e+00, -8.4682e+00,\n",
            "         -8.7708e+00, -6.5305e+00, -5.5825e+00, -8.3168e+00, -7.8800e+00],\n",
            "        [-2.1835e+00, -2.6631e+00, -2.8053e+00, -3.5612e+00, -2.4030e+00,\n",
            "         -5.6971e+00, -2.2022e+00, -2.7499e+00, -1.2645e+00, -2.6155e+00,\n",
            "         -3.4480e+00, -3.5008e+00, -1.9654e+00, -2.6275e+00, -2.6443e+00,\n",
            "         -2.3622e+00, -3.5360e+00, -2.6095e+00, -3.3562e+00, -2.6167e+00,\n",
            "         -6.0696e+00, -2.1365e+00, -4.9465e+00, -2.2593e+00, -4.3022e+00,\n",
            "         -5.0641e+00, -1.4736e+00, -2.0332e+00, -3.0443e+00, -3.0482e+00,\n",
            "         -2.5637e+00, -9.8413e-01, -3.4567e+00, -7.8057e-01, -3.8293e+00,\n",
            "         -3.2413e+00, -4.9879e+00, -1.5493e+00, -2.1794e+00, -4.5377e+00,\n",
            "         -3.6579e+00, -1.5434e+00, -3.1717e+00, -3.8250e+00, -2.2374e+00,\n",
            "         -2.8761e+00, -2.7101e+00, -1.6805e+00, -1.5838e+00, -1.5777e+00,\n",
            "         -2.9821e+00, -1.2228e+00, -9.5010e-01, -5.6715e+00, -4.0850e+00,\n",
            "         -3.8416e+00,  2.6950e-01, -2.8763e+00, -1.4591e+00, -2.4020e-01,\n",
            "         -3.8855e+00, -4.3039e+00, -3.7014e+00, -2.6209e+00, -2.8761e+00,\n",
            "         -3.0981e+00, -1.0394e+00, -2.5957e+00, -1.6384e+00, -2.0267e+00,\n",
            "         -2.2356e+00, -1.6010e+00, -4.5706e+00, -1.2915e+00, -1.8088e+00,\n",
            "         -3.2986e+00, -2.9279e+00, -2.7046e+00, -3.4963e+00, -1.9493e+00,\n",
            "         -2.7629e+00,  2.0836e-01, -3.3128e+00, -1.8219e+00, -3.6354e+00,\n",
            "         -1.5119e+00, -3.2980e+00, -2.8616e+00, -3.2592e+00, -1.3371e-01,\n",
            "         -1.0883e+00, -2.7855e+00, -7.3381e-01, -2.5335e+00, -4.4134e+00,\n",
            "         -3.5581e+00, -4.6371e-01, -2.9091e+00, -3.5059e+00, -3.4154e+00],\n",
            "        [-6.7226e+00, -5.2010e+00, -6.8708e+00, -6.9285e+00, -5.1709e+00,\n",
            "         -7.7266e+00, -7.9743e+00, -7.3627e+00, -9.6751e+00, -9.2908e+00,\n",
            "         -5.3345e+00, -5.8797e+00, -7.2281e+00, -9.0921e+00, -8.6818e+00,\n",
            "         -7.9280e+00, -9.5004e+00, -1.1841e+01, -9.9989e+00, -9.2633e+00,\n",
            "         -7.7577e+00, -8.0773e+00, -7.1664e+00, -9.4456e+00, -9.0281e+00,\n",
            "         -9.2162e+00, -7.7541e+00, -4.4598e+00, -1.0475e+01, -9.9645e+00,\n",
            "         -4.2611e+00, -8.7675e+00, -4.3710e+00, -1.1144e+01, -4.9989e+00,\n",
            "         -7.4447e+00, -5.6752e+00, -1.0549e+01, -5.7032e+00, -1.1725e+01,\n",
            "         -7.8016e+00, -7.6452e+00, -1.0260e+01, -6.1889e+00, -7.5971e+00,\n",
            "         -6.4338e+00, -6.7916e+00, -1.0285e+01, -8.6930e+00, -8.1990e+00,\n",
            "         -5.5280e+00, -9.5745e+00, -1.0788e+01, -9.1837e+00, -9.6262e+00,\n",
            "         -4.8211e+00, -8.1213e+00, -3.3426e+00, -8.5076e+00, -5.6036e+00,\n",
            "         -1.2286e+01, -6.4616e+00, -7.3141e+00, -1.0168e+01, -8.3667e+00,\n",
            "         -3.5175e+00, -7.4145e+00, -3.9641e+00, -9.3896e+00, -8.9321e+00,\n",
            "         -1.0546e+01, -1.0532e+01, -4.7124e+00, -3.5124e+00, -4.2295e+00,\n",
            "         -1.0561e+01, -9.1378e+00, -8.2578e+00, -6.8759e+00, -8.0761e+00,\n",
            "         -7.6771e+00, -6.7255e+00, -1.1557e+01, -6.6393e+00, -9.7989e+00,\n",
            "         -7.6516e+00, -9.9104e+00, -1.0855e+01, -8.8297e+00, -1.0168e+01,\n",
            "         -7.2960e+00, -8.3210e+00, -6.8168e+00, -3.9200e+00, -1.3726e+01,\n",
            "         -3.3275e+00, -8.1757e+00, -9.3923e+00, -7.2115e+00, -9.1563e+00],\n",
            "        [-7.4233e+00, -2.4483e+00, -5.7883e+00, -6.4345e+00, -6.2401e+00,\n",
            "         -5.4183e+00, -6.5439e+00, -6.5035e+00, -7.3746e+00, -9.0732e+00,\n",
            "         -2.8090e+00, -4.1329e+00, -4.0900e+00, -5.0167e+00, -8.1864e+00,\n",
            "         -7.6577e+00, -7.1350e+00, -6.0817e+00, -6.9198e+00, -6.4073e+00,\n",
            "         -9.8747e+00, -7.0279e+00, -7.8871e+00, -2.0569e+00, -8.7688e+00,\n",
            "         -4.3385e+00, -4.7715e+00, -6.6900e+00, -4.6396e+00, -6.8221e+00,\n",
            "         -6.0547e+00, -5.7722e+00, -4.5146e+00, -6.1273e+00, -8.3797e+00,\n",
            "         -6.4301e+00, -7.5538e+00, -8.0812e+00, -7.8719e+00, -1.6562e-01,\n",
            "         -6.3739e+00, -8.2992e+00, -6.7783e+00, -8.1064e+00, -6.4516e+00,\n",
            "         -5.0884e+00, -6.0781e+00, -5.4116e+00, -7.7060e+00, -3.6436e+00,\n",
            "         -8.4002e+00, -8.2175e+00, -6.3887e+00, -7.5393e+00, -8.4259e+00,\n",
            "         -5.8850e+00, -7.8655e+00, -5.2607e+00, -9.5545e+00, -2.8019e+00,\n",
            "         -6.5432e+00, -4.6654e+00, -9.4059e+00, -5.1956e+00, -5.1395e+00,\n",
            "         -6.5706e+00, -6.2983e+00, -7.3751e+00, -8.3899e+00, -8.4202e+00,\n",
            "         -7.3603e+00, -5.7432e+00, -7.7994e+00, -2.8583e+00, -7.7834e+00,\n",
            "         -7.5790e+00, -2.3534e+00, -9.3849e+00, -6.3591e+00, -8.5894e+00,\n",
            "         -1.0289e+01, -5.7935e+00, -8.6499e+00, -6.7164e+00, -6.7693e+00,\n",
            "         -5.1120e+00, -4.7959e+00, -6.8667e+00, -7.7292e+00, -9.1883e+00,\n",
            "         -7.1983e+00, -5.9210e+00, -4.9372e+00, -4.7744e+00, -1.0645e+01,\n",
            "         -3.2906e+00, -4.5918e+00, -9.7499e+00, -6.9368e+00, -5.5506e+00]],\n",
            "       grad_fn=<AddmmBackward0>)\n"
          ]
        }
      ]
    },
    {
      "cell_type": "code",
      "source": [
        "_, predicted = torch.max(outputs, 1)\n",
        "\n",
        "predicted"
      ],
      "metadata": {
        "id": "OECD97jvTqR4",
        "colab": {
          "base_uri": "https://localhost:8080/"
        },
        "outputId": "25d77dc4-08df-4fed-a50e-d268554c220f"
      },
      "execution_count": 57,
      "outputs": [
        {
          "output_type": "execute_result",
          "data": {
            "text/plain": [
              "tensor([63,  7, 94, 54, 65, 56, 95, 39])"
            ]
          },
          "metadata": {},
          "execution_count": 57
        }
      ]
    },
    {
      "cell_type": "code",
      "source": [
        "print('Predicted: ', ' '.join(classes_cifar100[predicted[j]] for j in range(len(labels))))"
      ],
      "metadata": {
        "id": "Wdue0Nz6Tjv0",
        "colab": {
          "base_uri": "https://localhost:8080/"
        },
        "outputId": "155d8004-be67-4f4d-f4c3-5f69b6f58618"
      },
      "execution_count": 58,
      "outputs": [
        {
          "output_type": "stream",
          "name": "stdout",
          "text": [
            "Predicted:  porcupine beetle wardrobe orchid rabbit palm_tree whale keyboard\n"
          ]
        }
      ]
    },
    {
      "cell_type": "code",
      "source": [
        "gt = np.array([classes_cifar100[labels[j]] for j in range(len(labels))])\n",
        "pred = np.array([classes_cifar100[predicted[j]] for j in range(len(labels))])\n",
        "\n",
        "print(gt)\n",
        "print(pred)\n",
        "print(f'Accuracy is {(gt == pred).sum() / len(gt):.4f}')"
      ],
      "metadata": {
        "id": "Ro1VZg2MTj7V",
        "colab": {
          "base_uri": "https://localhost:8080/"
        },
        "outputId": "d2d19bb5-52bb-4c76-9555-81e8ccf85fc1"
      },
      "execution_count": 59,
      "outputs": [
        {
          "output_type": "stream",
          "name": "stdout",
          "text": [
            "['rocket' 'snail' 'wardrobe' 'caterpillar' 'bear' 'palm_tree' 'whale'\n",
            " 'keyboard']\n",
            "['porcupine' 'beetle' 'wardrobe' 'orchid' 'rabbit' 'palm_tree' 'whale'\n",
            " 'keyboard']\n",
            "Accuracy is 0.5000\n"
          ]
        }
      ]
    }
  ]
}