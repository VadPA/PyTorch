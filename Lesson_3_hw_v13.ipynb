{
  "nbformat": 4,
  "nbformat_minor": 0,
  "metadata": {
    "colab": {
      "name": "Lesson_3_hw_v13.ipynb",
      "provenance": [],
      "collapsed_sections": [],
      "authorship_tag": "ABX9TyM1QFolKH2cPNZtn4EukmHM",
      "include_colab_link": true
    },
    "kernelspec": {
      "name": "python3",
      "display_name": "Python 3"
    },
    "language_info": {
      "name": "python"
    }
  },
  "cells": [
    {
      "cell_type": "markdown",
      "metadata": {
        "id": "view-in-github",
        "colab_type": "text"
      },
      "source": [
        "<a href=\"https://colab.research.google.com/github/VadPA/PyTorch/blob/master/Lesson_3_hw_v13.ipynb\" target=\"_parent\"><img src=\"https://colab.research.google.com/assets/colab-badge.svg\" alt=\"Open In Colab\"/></a>"
      ]
    },
    {
      "cell_type": "code",
      "execution_count": 173,
      "metadata": {
        "id": "W85uJYzEDL1i"
      },
      "outputs": [],
      "source": [
        "import numpy as np\n",
        "import torch\n",
        "from torch.utils.data import Dataset\n",
        "from sklearn.datasets import fetch_california_housing\n",
        "from sklearn.model_selection import train_test_split\n",
        "from torch import nn\n",
        "import torch.nn.functional as F\n",
        "from sklearn.preprocessing import MinMaxScaler"
      ]
    },
    {
      "cell_type": "code",
      "source": [
        "class Net(nn.Module):\n",
        "    def __init__(self, input_dim, hidden_dim, output_dim):\n",
        "        super().__init__()\n",
        "        self.fc1 = nn.Linear(input_dim, 2 * hidden_dim)\n",
        "        self.fc2 = nn.Linear(2 * hidden_dim, hidden_dim)\n",
        "        self.bn = nn.BatchNorm1d(hidden_dim)\n",
        "        self.bn2 = nn.BatchNorm1d(2 * hidden_dim)\n",
        "        self.dp = nn.Dropout(0.05)\n",
        "        self.fc3 = nn.Linear(1 * hidden_dim, hidden_dim)\n",
        "        self.fc4 = nn.Linear(hidden_dim, output_dim)\n",
        "\n",
        "    def forward(self, x):\n",
        "        x = x.view(x.shape[0], -1)\n",
        "        x = self.fc1(x)\n",
        "        x = F.leaky_relu(x)\n",
        "        x = self.fc2(x)\n",
        "        x = F.leaky_relu(x)\n",
        "        x = self.fc3(x)\n",
        "        x = F.leaky_relu(x)\n",
        "        x = self.bn(x)\n",
        "        x = self.dp(x)\n",
        "        x = self.fc4(x)\n",
        "\n",
        "        return x"
      ],
      "metadata": {
        "id": "Qd0NQxC-DtGZ"
      },
      "execution_count": 174,
      "outputs": []
    },
    {
      "cell_type": "code",
      "source": [
        "class CustomDataset(Dataset):\n",
        "    def __init__(self, is_train=True):\n",
        "        super(CustomDataset, self).__init__()\n",
        "        self.is_train = is_train\n",
        "        self.sc = MinMaxScaler()\n",
        "        self.X, self.Y = fetch_california_housing(return_X_y=True, as_frame=True)\n",
        "        self.X_train, self.X_test, self.y_train, self.y_test = train_test_split(self.X, self.Y, test_size=0.25,\n",
        "                                                                                random_state=13)\n",
        "\n",
        "    def __len__(self):\n",
        "        if self.is_train:\n",
        "            return len(self.X_train)\n",
        "        else:\n",
        "            return len(self.X_test)\n",
        "\n",
        "    def __getitem__(self, idx):\n",
        "        if self.is_train:\n",
        "            x = np.array(self.X_train).astype(np.float32)\n",
        "            y = np.array(self.y_train).astype(np.float32)\n",
        "            x = self.sc.fit_transform(x)\n",
        "            return x[idx], y[idx]\n",
        "        else:\n",
        "            x = np.array(self.X_test).astype(np.float32)\n",
        "            y = np.array(self.y_test).astype(np.float32)\n",
        "            x = self.sc.fit_transform(x)\n",
        "            return x[idx], y[idx]"
      ],
      "metadata": {
        "id": "WO1UK5XtD4Bg"
      },
      "execution_count": 175,
      "outputs": []
    },
    {
      "cell_type": "code",
      "source": [
        "X_train = CustomDataset(is_train=True)"
      ],
      "metadata": {
        "id": "pHWDGibpD_U_"
      },
      "execution_count": 176,
      "outputs": []
    },
    {
      "cell_type": "code",
      "source": [
        "train_loader = torch.utils.data.DataLoader(dataset=X_train,\n",
        "                                           batch_size=64,\n",
        "                                           shuffle=True)"
      ],
      "metadata": {
        "id": "kHcejAW5EJAW"
      },
      "execution_count": 177,
      "outputs": []
    },
    {
      "cell_type": "code",
      "source": [
        "X_test = CustomDataset(is_train=False)"
      ],
      "metadata": {
        "id": "emX6fBY3EJM2"
      },
      "execution_count": 178,
      "outputs": []
    },
    {
      "cell_type": "code",
      "source": [
        "test_loader = torch.utils.data.DataLoader(dataset=X_test,\n",
        "                                          batch_size=64,\n",
        "                                          shuffle=True)"
      ],
      "metadata": {
        "id": "J7VF_IfMEJXH"
      },
      "execution_count": 179,
      "outputs": []
    },
    {
      "cell_type": "code",
      "source": [
        "device = 'cuda' if torch.cuda.is_available() else 'cpu'\n",
        "device"
      ],
      "metadata": {
        "colab": {
          "base_uri": "https://localhost:8080/",
          "height": 35
        },
        "id": "ct7V-AM3t7Dp",
        "outputId": "af1d620d-9627-4e78-db51-f6bf35f89819"
      },
      "execution_count": 180,
      "outputs": [
        {
          "output_type": "execute_result",
          "data": {
            "text/plain": [
              "'cpu'"
            ],
            "application/vnd.google.colaboratory.intrinsic+json": {
              "type": "string"
            }
          },
          "metadata": {},
          "execution_count": 180
        }
      ]
    },
    {
      "cell_type": "code",
      "source": [
        "net = Net(input_dim=8, hidden_dim=48, output_dim=1).to(device)  # определить сеть\n",
        "print(net)  # структура сети печати"
      ],
      "metadata": {
        "colab": {
          "base_uri": "https://localhost:8080/"
        },
        "id": "YRwXgIJoEWtG",
        "outputId": "bd8abeed-5af0-459c-adfe-54d3c91d3ddc"
      },
      "execution_count": 181,
      "outputs": [
        {
          "output_type": "stream",
          "name": "stdout",
          "text": [
            "Net(\n",
            "  (fc1): Linear(in_features=8, out_features=96, bias=True)\n",
            "  (fc2): Linear(in_features=96, out_features=48, bias=True)\n",
            "  (bn): BatchNorm1d(48, eps=1e-05, momentum=0.1, affine=True, track_running_stats=True)\n",
            "  (bn2): BatchNorm1d(96, eps=1e-05, momentum=0.1, affine=True, track_running_stats=True)\n",
            "  (dp): Dropout(p=0.05, inplace=False)\n",
            "  (fc3): Linear(in_features=48, out_features=48, bias=True)\n",
            "  (fc4): Linear(in_features=48, out_features=1, bias=True)\n",
            ")\n"
          ]
        }
      ]
    },
    {
      "cell_type": "code",
      "source": [
        "loss_func = torch.nn.MSELoss()\n",
        "optimizer = torch.optim.RMSprop(net.parameters(), lr=0.001, alpha=0.99)"
      ],
      "metadata": {
        "id": "H-UYIQgnEdEe"
      },
      "execution_count": 182,
      "outputs": []
    },
    {
      "cell_type": "code",
      "source": [
        "num_epochs = 5"
      ],
      "metadata": {
        "id": "fzhkoQygEo3Z"
      },
      "execution_count": 183,
      "outputs": []
    },
    {
      "cell_type": "code",
      "source": [
        "for epoch in range(num_epochs):\n",
        "    net.train()\n",
        "    training_loss = 0.0\n",
        "    training_items = 0.0\n",
        "    valid_loss = 0.0\n",
        "\n",
        "    for i, data in enumerate(train_loader):\n",
        "        inputs, labels = data[0], data[1]\n",
        "\n",
        "        # Обнуляем градиент\n",
        "        optimizer.zero_grad()\n",
        "        # Делаем предсказание\n",
        "        outputs = net(inputs)\n",
        "        # Рассчитываем лосс-функцию\n",
        "        loss = loss_func(outputs.mH[0, :], labels)\n",
        "        # Делаем шаг назад по лоссу\n",
        "        loss.backward()\n",
        "        # Делаем шаг нашего оптимайзера\n",
        "        optimizer.step()\n",
        "\n",
        "        # выводим статистику о процессе обучения\n",
        "        training_loss += loss.item()\n",
        "        training_items += len(labels)\n",
        "        # печатаем каждые 20 mini-batches\n",
        "        if i % 20 == 0:\n",
        "            net.eval()\n",
        "            print(f'Epoch [{epoch + 1}/{num_epochs}]. '\n",
        "                  f'Step [{i + 1}/{len(train_loader)}]. '\n",
        "                  f'Train_Loss: {training_loss / training_items:.4f}', end='. ')\n",
        "            training_loss, training_items = 0.0, 0.0\n",
        "\n",
        "            valid_loss, loss_val = 0.0, 0.0\n",
        "            for j, batch in enumerate(test_loader):\n",
        "              inputs, targets = batch\n",
        "              output = net(inputs)\n",
        "              loss_val = loss_func(output.mH[0, :], targets)\n",
        "              valid_loss += loss_val.item()\n",
        "            valid_loss /= len(test_loader)\n",
        "\n",
        "            print('Valid_Loss: {:.4f}'.format(valid_loss))\n",
        "            net.train()\n",
        "\n"
      ],
      "metadata": {
        "colab": {
          "base_uri": "https://localhost:8080/"
        },
        "id": "tVAaF-EFEhjr",
        "outputId": "cb19a223-eaaf-4588-c20f-17a4e38f2d1e"
      },
      "execution_count": 184,
      "outputs": [
        {
          "output_type": "stream",
          "name": "stdout",
          "text": [
            "Epoch [1/5]. Step [1/242]. Train_Loss: 0.0849. Valid_Loss: 4.8897\n",
            "Epoch [1/5]. Step [21/242]. Train_Loss: 0.0543. Valid_Loss: 3.5873\n",
            "Epoch [1/5]. Step [41/242]. Train_Loss: 0.0341. Valid_Loss: 2.1098\n",
            "Epoch [1/5]. Step [61/242]. Train_Loss: 0.0200. Valid_Loss: 1.1063\n",
            "Epoch [1/5]. Step [81/242]. Train_Loss: 0.0132. Valid_Loss: 0.9712\n",
            "Epoch [1/5]. Step [101/242]. Train_Loss: 0.0108. Valid_Loss: 0.5448\n",
            "Epoch [1/5]. Step [121/242]. Train_Loss: 0.0102. Valid_Loss: 0.5327\n",
            "Epoch [1/5]. Step [141/242]. Train_Loss: 0.0077. Valid_Loss: 0.4937\n",
            "Epoch [1/5]. Step [161/242]. Train_Loss: 0.0092. Valid_Loss: 0.5997\n",
            "Epoch [1/5]. Step [181/242]. Train_Loss: 0.0083. Valid_Loss: 0.7029\n",
            "Epoch [1/5]. Step [201/242]. Train_Loss: 0.0078. Valid_Loss: 0.5995\n",
            "Epoch [1/5]. Step [221/242]. Train_Loss: 0.0093. Valid_Loss: 0.7857\n",
            "Epoch [1/5]. Step [241/242]. Train_Loss: 0.0079. Valid_Loss: 0.6548\n",
            "Epoch [2/5]. Step [1/242]. Train_Loss: 0.0083. Valid_Loss: 0.5487\n",
            "Epoch [2/5]. Step [21/242]. Train_Loss: 0.0079. Valid_Loss: 0.4764\n",
            "Epoch [2/5]. Step [41/242]. Train_Loss: 0.0082. Valid_Loss: 0.4991\n",
            "Epoch [2/5]. Step [61/242]. Train_Loss: 0.0082. Valid_Loss: 0.5337\n",
            "Epoch [2/5]. Step [81/242]. Train_Loss: 0.0074. Valid_Loss: 0.4831\n",
            "Epoch [2/5]. Step [101/242]. Train_Loss: 0.0095. Valid_Loss: 0.4812\n",
            "Epoch [2/5]. Step [121/242]. Train_Loss: 0.0083. Valid_Loss: 0.6284\n",
            "Epoch [2/5]. Step [141/242]. Train_Loss: 0.0087. Valid_Loss: 0.4869\n",
            "Epoch [2/5]. Step [161/242]. Train_Loss: 0.0085. Valid_Loss: 0.5469\n",
            "Epoch [2/5]. Step [181/242]. Train_Loss: 0.0080. Valid_Loss: 0.6804\n",
            "Epoch [2/5]. Step [201/242]. Train_Loss: 0.0075. Valid_Loss: 0.5048\n",
            "Epoch [2/5]. Step [221/242]. Train_Loss: 0.0074. Valid_Loss: 0.4980\n",
            "Epoch [2/5]. Step [241/242]. Train_Loss: 0.0078. Valid_Loss: 0.6032\n",
            "Epoch [3/5]. Step [1/242]. Train_Loss: 0.0053. Valid_Loss: 0.7204\n",
            "Epoch [3/5]. Step [21/242]. Train_Loss: 0.0078. Valid_Loss: 0.4834\n",
            "Epoch [3/5]. Step [41/242]. Train_Loss: 0.0071. Valid_Loss: 0.6158\n",
            "Epoch [3/5]. Step [61/242]. Train_Loss: 0.0076. Valid_Loss: 0.5396\n",
            "Epoch [3/5]. Step [81/242]. Train_Loss: 0.0075. Valid_Loss: 0.7015\n",
            "Epoch [3/5]. Step [101/242]. Train_Loss: 0.0080. Valid_Loss: 0.9689\n",
            "Epoch [3/5]. Step [121/242]. Train_Loss: 0.0083. Valid_Loss: 0.7323\n",
            "Epoch [3/5]. Step [141/242]. Train_Loss: 0.0079. Valid_Loss: 0.6878\n",
            "Epoch [3/5]. Step [161/242]. Train_Loss: 0.0069. Valid_Loss: 0.4402\n",
            "Epoch [3/5]. Step [181/242]. Train_Loss: 0.0098. Valid_Loss: 0.5835\n",
            "Epoch [3/5]. Step [201/242]. Train_Loss: 0.0081. Valid_Loss: 0.7055\n",
            "Epoch [3/5]. Step [221/242]. Train_Loss: 0.0082. Valid_Loss: 0.5801\n",
            "Epoch [3/5]. Step [241/242]. Train_Loss: 0.0073. Valid_Loss: 0.5126\n",
            "Epoch [4/5]. Step [1/242]. Train_Loss: 0.0073. Valid_Loss: 0.4666\n",
            "Epoch [4/5]. Step [21/242]. Train_Loss: 0.0077. Valid_Loss: 0.6252\n",
            "Epoch [4/5]. Step [41/242]. Train_Loss: 0.0068. Valid_Loss: 0.6051\n",
            "Epoch [4/5]. Step [61/242]. Train_Loss: 0.0082. Valid_Loss: 0.4629\n",
            "Epoch [4/5]. Step [81/242]. Train_Loss: 0.0078. Valid_Loss: 0.5035\n",
            "Epoch [4/5]. Step [101/242]. Train_Loss: 0.0077. Valid_Loss: 0.5809\n",
            "Epoch [4/5]. Step [121/242]. Train_Loss: 0.0072. Valid_Loss: 0.5725\n",
            "Epoch [4/5]. Step [141/242]. Train_Loss: 0.0079. Valid_Loss: 0.4526\n",
            "Epoch [4/5]. Step [161/242]. Train_Loss: 0.0081. Valid_Loss: 0.7310\n",
            "Epoch [4/5]. Step [181/242]. Train_Loss: 0.0084. Valid_Loss: 0.4765\n",
            "Epoch [4/5]. Step [201/242]. Train_Loss: 0.0078. Valid_Loss: 0.5278\n",
            "Epoch [4/5]. Step [221/242]. Train_Loss: 0.0073. Valid_Loss: 0.5198\n",
            "Epoch [4/5]. Step [241/242]. Train_Loss: 0.0080. Valid_Loss: 0.5536\n",
            "Epoch [5/5]. Step [1/242]. Train_Loss: 0.0098. Valid_Loss: 0.4630\n",
            "Epoch [5/5]. Step [21/242]. Train_Loss: 0.0077. Valid_Loss: 0.9910\n",
            "Epoch [5/5]. Step [41/242]. Train_Loss: 0.0069. Valid_Loss: 0.5471\n",
            "Epoch [5/5]. Step [61/242]. Train_Loss: 0.0074. Valid_Loss: 0.4811\n",
            "Epoch [5/5]. Step [81/242]. Train_Loss: 0.0074. Valid_Loss: 0.5860\n",
            "Epoch [5/5]. Step [101/242]. Train_Loss: 0.0074. Valid_Loss: 0.6749\n",
            "Epoch [5/5]. Step [121/242]. Train_Loss: 0.0067. Valid_Loss: 0.7205\n",
            "Epoch [5/5]. Step [141/242]. Train_Loss: 0.0080. Valid_Loss: 0.5549\n",
            "Epoch [5/5]. Step [161/242]. Train_Loss: 0.0085. Valid_Loss: 0.5558\n",
            "Epoch [5/5]. Step [181/242]. Train_Loss: 0.0073. Valid_Loss: 0.7416\n",
            "Epoch [5/5]. Step [201/242]. Train_Loss: 0.0079. Valid_Loss: 0.4789\n",
            "Epoch [5/5]. Step [221/242]. Train_Loss: 0.0067. Valid_Loss: 0.6442\n",
            "Epoch [5/5]. Step [241/242]. Train_Loss: 0.0082. Valid_Loss: 0.5700\n"
          ]
        }
      ]
    },
    {
      "cell_type": "code",
      "source": [
        "data_iter = iter(test_loader)\n",
        "inputs, labels = data_iter.next()"
      ],
      "metadata": {
        "id": "kYul0sewKvAn"
      },
      "execution_count": 185,
      "outputs": []
    },
    {
      "cell_type": "code",
      "source": [
        "net.eval()\n",
        "outputs = net(inputs)"
      ],
      "metadata": {
        "id": "8SsccIcTKzo2"
      },
      "execution_count": 186,
      "outputs": []
    },
    {
      "cell_type": "code",
      "source": [
        "print(outputs.T)"
      ],
      "metadata": {
        "colab": {
          "base_uri": "https://localhost:8080/"
        },
        "id": "JLukSrxxK38G",
        "outputId": "429f0878-0a07-46b0-e60c-63e5aa1c13b4"
      },
      "execution_count": 187,
      "outputs": [
        {
          "output_type": "stream",
          "name": "stdout",
          "text": [
            "tensor([[1.1937, 1.6008, 4.2049, 4.6409, 1.8449, 3.6507, 1.7184, 1.9777, 2.8583,\n",
            "         2.8309, 1.0029, 2.3411, 2.1630, 1.4229, 5.0265, 2.9960, 3.1908, 2.0156,\n",
            "         2.0600, 1.5979, 1.4995, 2.7242, 1.6688, 2.4199, 1.6094, 2.8353, 1.6869,\n",
            "         1.5160, 3.0222, 2.1628, 1.9510, 2.0621, 2.5807, 3.0331, 2.6155, 1.3639,\n",
            "         1.7801, 2.7060, 1.5225, 1.4767, 2.0425, 2.6348, 1.8040, 1.5053, 3.3670,\n",
            "         2.0024, 3.7281, 4.0205, 1.0720, 1.7748, 1.6159, 1.7825, 2.3960, 1.3627,\n",
            "         3.2377, 2.9780, 1.6279, 2.1981, 1.0164, 1.4905, 3.6971, 1.7358, 1.4234,\n",
            "         2.6331]], grad_fn=<PermuteBackward0>)\n"
          ]
        }
      ]
    },
    {
      "cell_type": "code",
      "source": [
        "print(loss_func(outputs.mH[0, :], labels))"
      ],
      "metadata": {
        "colab": {
          "base_uri": "https://localhost:8080/"
        },
        "id": "BtS_SzSxK801",
        "outputId": "c1f53fab-7832-459e-c9ce-40a041b4f863"
      },
      "execution_count": 188,
      "outputs": [
        {
          "output_type": "stream",
          "name": "stdout",
          "text": [
            "tensor(0.5616, grad_fn=<MseLossBackward0>)\n"
          ]
        }
      ]
    },
    {
      "cell_type": "code",
      "source": [
        "print(labels)"
      ],
      "metadata": {
        "colab": {
          "base_uri": "https://localhost:8080/"
        },
        "id": "QMjLrdYRLBlu",
        "outputId": "021e635f-97ad-4755-cad3-5802b5382cb7"
      },
      "execution_count": 189,
      "outputs": [
        {
          "output_type": "stream",
          "name": "stdout",
          "text": [
            "tensor([1.1030, 1.0780, 4.7280, 5.0000, 2.0210, 4.1370, 1.0000, 2.2500, 2.6730,\n",
            "        2.2580, 0.6460, 1.8620, 3.6880, 1.4870, 5.0000, 3.3980, 2.8320, 3.2240,\n",
            "        1.8410, 1.1000, 2.5000, 3.3520, 1.6440, 2.6760, 1.7070, 1.6980, 1.3790,\n",
            "        1.0700, 3.4250, 2.1590, 2.2410, 2.9840, 2.5400, 5.0000, 4.5000, 1.3960,\n",
            "        1.3100, 5.0000, 1.2830, 1.2290, 1.7500, 3.2280, 1.0890, 0.9730, 3.4510,\n",
            "        1.9740, 1.3750, 3.7200, 0.5320, 1.8140, 1.4570, 0.8890, 1.1880, 0.9730,\n",
            "        2.8750, 2.4350, 2.0170, 2.4030, 0.7800, 1.5770, 5.0000, 1.7050, 1.1690,\n",
            "        2.9210])\n"
          ]
        }
      ]
    },
    {
      "cell_type": "code",
      "source": [
        "# !pip install torchmetrics"
      ],
      "metadata": {
        "id": "DsiKAscXx7yq"
      },
      "execution_count": 190,
      "outputs": []
    },
    {
      "cell_type": "code",
      "source": [
        "from torchmetrics import R2Score"
      ],
      "metadata": {
        "id": "Lyp34Y8LZ5a7"
      },
      "execution_count": 191,
      "outputs": []
    },
    {
      "cell_type": "code",
      "source": [
        "r2score = R2Score()"
      ],
      "metadata": {
        "id": "ypQMfTd6xqg1"
      },
      "execution_count": 192,
      "outputs": []
    },
    {
      "cell_type": "code",
      "source": [
        "r2score(outputs[:,0], labels)"
      ],
      "metadata": {
        "colab": {
          "base_uri": "https://localhost:8080/"
        },
        "id": "kicqnYoJyLfY",
        "outputId": "e12b21eb-efe0-4fe4-b452-56b41ac895b6"
      },
      "execution_count": 193,
      "outputs": [
        {
          "output_type": "execute_result",
          "data": {
            "text/plain": [
              "tensor(0.6352, grad_fn=<SqueezeBackward0>)"
            ]
          },
          "metadata": {},
          "execution_count": 193
        }
      ]
    },
    {
      "cell_type": "markdown",
      "source": [
        "## Рассчитаем MSE для всего тестового набора"
      ],
      "metadata": {
        "id": "JF9DOln_qDRR"
      }
    },
    {
      "cell_type": "code",
      "source": [
        "net.eval()\n",
        "test_loss, loss_test = 0.0, 0.0\n",
        "for j, batch in enumerate(test_loader):\n",
        "  inputs, targets = batch\n",
        "  output = net(inputs)\n",
        "  loss_test = loss_func(output.mH[0, :], targets)\n",
        "  test_loss += loss_test.item()\n",
        "  \n",
        "  \n",
        "  \n",
        "test_loss /= len(test_loader)\n",
        "print('Test_Loss: {:.4f}'.format(test_loss))"
      ],
      "metadata": {
        "id": "mXW3YVDlyUjB",
        "colab": {
          "base_uri": "https://localhost:8080/"
        },
        "outputId": "72ab898a-608f-42b2-e063-b2761d586af1"
      },
      "execution_count": 194,
      "outputs": [
        {
          "output_type": "stream",
          "name": "stdout",
          "text": [
            "Test_Loss: 0.5237\n"
          ]
        }
      ]
    },
    {
      "cell_type": "markdown",
      "source": [
        "## Рассчитаем R2 SCORE для всего тестового набора   "
      ],
      "metadata": {
        "id": "2WNUVtxJpgJM"
      }
    },
    {
      "cell_type": "code",
      "source": [
        "output = net(torch.from_numpy(X_test[:][0]).type(torch.FloatTensor))"
      ],
      "metadata": {
        "id": "-DW-yhX7nSCp"
      },
      "execution_count": 195,
      "outputs": []
    },
    {
      "cell_type": "code",
      "source": [
        "r2score(output[:,0], torch.from_numpy(X_test[:][1]).type(torch.FloatTensor))"
      ],
      "metadata": {
        "colab": {
          "base_uri": "https://localhost:8080/"
        },
        "id": "zdB6nh5wnAHt",
        "outputId": "741f49fc-eae9-4148-b653-3eb35c6949b8"
      },
      "execution_count": 196,
      "outputs": [
        {
          "output_type": "execute_result",
          "data": {
            "text/plain": [
              "tensor(0.6120, grad_fn=<SqueezeBackward0>)"
            ]
          },
          "metadata": {},
          "execution_count": 196
        }
      ]
    },
    {
      "cell_type": "code",
      "source": [],
      "metadata": {
        "id": "qwPD8FWAyeJu"
      },
      "execution_count": 196,
      "outputs": []
    }
  ]
}