{
  "nbformat": 4,
  "nbformat_minor": 0,
  "metadata": {
    "colab": {
      "name": "Lesson_3_hw.ipynb",
      "provenance": [],
      "collapsed_sections": [],
      "authorship_tag": "ABX9TyO5kiPKQtrsNxvdKNxVLnxt",
      "include_colab_link": true
    },
    "kernelspec": {
      "name": "python3",
      "display_name": "Python 3"
    },
    "language_info": {
      "name": "python"
    }
  },
  "cells": [
    {
      "cell_type": "markdown",
      "metadata": {
        "id": "view-in-github",
        "colab_type": "text"
      },
      "source": [
        "<a href=\"https://colab.research.google.com/github/VadPA/PyTorch/blob/master/Lesson_3_hw.ipynb\" target=\"_parent\"><img src=\"https://colab.research.google.com/assets/colab-badge.svg\" alt=\"Open In Colab\"/></a>"
      ]
    },
    {
      "cell_type": "code",
      "execution_count": 267,
      "metadata": {
        "id": "W85uJYzEDL1i"
      },
      "outputs": [],
      "source": [
        "import numpy as np\n",
        "import torch\n",
        "from torch.utils.data import Dataset\n",
        "from sklearn.datasets import fetch_california_housing\n",
        "from sklearn.model_selection import train_test_split\n",
        "from torch import nn\n",
        "import torch.nn.functional as F\n",
        "from sklearn.preprocessing import MinMaxScaler"
      ]
    },
    {
      "cell_type": "code",
      "source": [
        "class Net(nn.Module):\n",
        "    def __init__(self, input_dim, hidden_dim, output_dim):\n",
        "        super().__init__()\n",
        "        self.fc1 = nn.Linear(input_dim, 2 * hidden_dim)\n",
        "        self.fc2 = nn.Linear(2 * hidden_dim, hidden_dim)\n",
        "        self.bn = nn.BatchNorm1d(hidden_dim)\n",
        "        self.bn2 = nn.BatchNorm1d(2 * hidden_dim)\n",
        "        self.dp = nn.Dropout(0.25)\n",
        "        self.fc3 = nn.Linear(1 * hidden_dim, hidden_dim)\n",
        "        self.fc4 = nn.Linear(hidden_dim, output_dim)\n",
        "\n",
        "    def forward(self, x):\n",
        "        x = x.view(x.shape[0], -1)\n",
        "        x = self.fc1(x)\n",
        "        x = F.leaky_relu(x)\n",
        "        x = self.fc2(x)\n",
        "        x = F.leaky_relu(x)\n",
        "        x = self.fc3(x)\n",
        "        x = F.leaky_relu(x)\n",
        "        x = self.fc4(x)\n",
        "\n",
        "        return x"
      ],
      "metadata": {
        "id": "Qd0NQxC-DtGZ"
      },
      "execution_count": 268,
      "outputs": []
    },
    {
      "cell_type": "code",
      "source": [
        "class CustomDataset(Dataset):\n",
        "    def __init__(self, is_train=True):\n",
        "        super(CustomDataset, self).__init__()\n",
        "        self.is_train = is_train\n",
        "        self.sc = MinMaxScaler()\n",
        "        self.X, self.Y = fetch_california_housing(return_X_y=True, as_frame=True)\n",
        "        self.X_train, self.X_test, self.y_train, self.y_test = train_test_split(self.X, self.Y, test_size=0.25,\n",
        "                                                                                random_state=13)\n",
        "\n",
        "    def __len__(self):\n",
        "        if self.is_train:\n",
        "            return len(self.X_train)\n",
        "        else:\n",
        "            return len(self.X_test)\n",
        "\n",
        "    def __getitem__(self, idx):\n",
        "        if self.is_train:\n",
        "            x = np.array(self.X_train).astype(np.float32)\n",
        "            y = np.array(self.y_train).astype(np.float32)\n",
        "            x = self.sc.fit_transform(x)\n",
        "            return x[idx], y[idx]\n",
        "        else:\n",
        "            x = np.array(self.X_test).astype(np.float32)\n",
        "            y = np.array(self.y_test).astype(np.float32)\n",
        "            x = self.sc.fit_transform(x)\n",
        "            return x[idx], y[idx]"
      ],
      "metadata": {
        "id": "WO1UK5XtD4Bg"
      },
      "execution_count": 269,
      "outputs": []
    },
    {
      "cell_type": "code",
      "source": [
        "X_train = CustomDataset(is_train=True)"
      ],
      "metadata": {
        "id": "pHWDGibpD_U_"
      },
      "execution_count": 270,
      "outputs": []
    },
    {
      "cell_type": "code",
      "source": [
        "train_loader = torch.utils.data.DataLoader(dataset=X_train,\n",
        "                                           batch_size=64,\n",
        "                                           shuffle=True)"
      ],
      "metadata": {
        "id": "kHcejAW5EJAW"
      },
      "execution_count": 271,
      "outputs": []
    },
    {
      "cell_type": "code",
      "source": [
        "X_test = CustomDataset(is_train=False)"
      ],
      "metadata": {
        "id": "emX6fBY3EJM2"
      },
      "execution_count": 272,
      "outputs": []
    },
    {
      "cell_type": "code",
      "source": [
        "test_loader = torch.utils.data.DataLoader(dataset=X_test,\n",
        "                                          batch_size=64,\n",
        "                                          shuffle=True)"
      ],
      "metadata": {
        "id": "J7VF_IfMEJXH"
      },
      "execution_count": 273,
      "outputs": []
    },
    {
      "cell_type": "code",
      "source": [
        "device = 'cuda' if torch.cuda.is_available() else 'cpu'\n",
        "device"
      ],
      "metadata": {
        "colab": {
          "base_uri": "https://localhost:8080/",
          "height": 35
        },
        "id": "ct7V-AM3t7Dp",
        "outputId": "65a9c401-6439-4932-fdee-50ddbffed5d5"
      },
      "execution_count": 274,
      "outputs": [
        {
          "output_type": "execute_result",
          "data": {
            "text/plain": [
              "'cpu'"
            ],
            "application/vnd.google.colaboratory.intrinsic+json": {
              "type": "string"
            }
          },
          "metadata": {},
          "execution_count": 274
        }
      ]
    },
    {
      "cell_type": "code",
      "source": [
        "net = Net(input_dim=8, hidden_dim=32, output_dim=1).to(device)  # определить сеть\n",
        "print(net)  # структура сети печати"
      ],
      "metadata": {
        "colab": {
          "base_uri": "https://localhost:8080/"
        },
        "id": "YRwXgIJoEWtG",
        "outputId": "32cf929e-9fda-4f41-f8fa-caf631e53eba"
      },
      "execution_count": 275,
      "outputs": [
        {
          "output_type": "stream",
          "name": "stdout",
          "text": [
            "Net(\n",
            "  (fc1): Linear(in_features=8, out_features=64, bias=True)\n",
            "  (fc2): Linear(in_features=64, out_features=32, bias=True)\n",
            "  (bn): BatchNorm1d(32, eps=1e-05, momentum=0.1, affine=True, track_running_stats=True)\n",
            "  (bn2): BatchNorm1d(64, eps=1e-05, momentum=0.1, affine=True, track_running_stats=True)\n",
            "  (dp): Dropout(p=0.25, inplace=False)\n",
            "  (fc3): Linear(in_features=32, out_features=32, bias=True)\n",
            "  (fc4): Linear(in_features=32, out_features=1, bias=True)\n",
            ")\n"
          ]
        }
      ]
    },
    {
      "cell_type": "code",
      "source": [
        "loss_func = torch.nn.MSELoss()\n",
        "optimizer = torch.optim.Adam(net.parameters(), lr=0.001)"
      ],
      "metadata": {
        "id": "H-UYIQgnEdEe"
      },
      "execution_count": 276,
      "outputs": []
    },
    {
      "cell_type": "code",
      "source": [
        "num_epochs = 10"
      ],
      "metadata": {
        "id": "fzhkoQygEo3Z"
      },
      "execution_count": 277,
      "outputs": []
    },
    {
      "cell_type": "code",
      "source": [
        "for epoch in range(num_epochs):\n",
        "    net.train()\n",
        "    training_loss = 0.0\n",
        "    training_items = 0.0\n",
        "    valid_loss = 0.0\n",
        "\n",
        "    for i, data in enumerate(train_loader):\n",
        "        inputs, labels = data[0], data[1]\n",
        "\n",
        "        # Обнуляем градиент\n",
        "        optimizer.zero_grad()\n",
        "        # Делаем предсказание\n",
        "        outputs = net(inputs)\n",
        "        # Рассчитываем лосс-функцию\n",
        "        loss = loss_func(outputs.mH[0, :], labels)\n",
        "        # Делаем шаг назад по лоссу\n",
        "        loss.backward()\n",
        "        # Делаем шаг нашего оптимайзера\n",
        "        optimizer.step()\n",
        "\n",
        "        # выводим статистику о процессе обучения\n",
        "        training_loss += loss.item()\n",
        "        training_items += len(labels)\n",
        "        # печатаем каждые 20 mini-batches\n",
        "        if i % 20 == 0:\n",
        "            net.eval()\n",
        "            print(f'Epoch [{epoch + 1}/{num_epochs}]. '\n",
        "                  f'Step [{i + 1}/{len(train_loader)}]. '\n",
        "                  f'Train_Loss: {training_loss / training_items:.4f}', end='. ')\n",
        "            training_loss, training_items = 0.0, 0.0\n",
        "\n",
        "            valid_loss, loss_val = 0.0, 0.0\n",
        "            for j, batch in enumerate(test_loader):\n",
        "              inputs, targets = batch\n",
        "              output = net(inputs)\n",
        "              loss_val = loss_func(output.mH[0, :], targets)\n",
        "              valid_loss += loss_val.item()\n",
        "            valid_loss /= len(test_loader)\n",
        "\n",
        "            print('Valid_Loss: {:.4f}'.format(valid_loss))\n",
        "            net.train()\n",
        "\n"
      ],
      "metadata": {
        "colab": {
          "base_uri": "https://localhost:8080/"
        },
        "id": "tVAaF-EFEhjr",
        "outputId": "550f3845-d6ca-4994-852d-ded207f736bd"
      },
      "execution_count": 278,
      "outputs": [
        {
          "output_type": "stream",
          "name": "stdout",
          "text": [
            "Epoch [1/10]. Step [1/242]. Train_Loss: 0.1073. Valid_Loss: 5.0022\n",
            "Epoch [1/10]. Step [21/242]. Train_Loss: 0.0720. Valid_Loss: 4.1715\n",
            "Epoch [1/10]. Step [41/242]. Train_Loss: 0.0570. Valid_Loss: 2.6211\n",
            "Epoch [1/10]. Step [61/242]. Train_Loss: 0.0290. Valid_Loss: 1.3529\n",
            "Epoch [1/10]. Step [81/242]. Train_Loss: 0.0187. Valid_Loss: 1.2510\n",
            "Epoch [1/10]. Step [101/242]. Train_Loss: 0.0188. Valid_Loss: 1.1814\n",
            "Epoch [1/10]. Step [121/242]. Train_Loss: 0.0173. Valid_Loss: 1.1122\n",
            "Epoch [1/10]. Step [141/242]. Train_Loss: 0.0159. Valid_Loss: 1.0180\n",
            "Epoch [1/10]. Step [161/242]. Train_Loss: 0.0150. Valid_Loss: 0.9165\n",
            "Epoch [1/10]. Step [181/242]. Train_Loss: 0.0128. Valid_Loss: 0.8036\n",
            "Epoch [1/10]. Step [201/242]. Train_Loss: 0.0103. Valid_Loss: 0.6807\n",
            "Epoch [1/10]. Step [221/242]. Train_Loss: 0.0097. Valid_Loss: 0.6195\n",
            "Epoch [1/10]. Step [241/242]. Train_Loss: 0.0096. Valid_Loss: 0.5936\n",
            "Epoch [2/10]. Step [1/242]. Train_Loss: 0.0072. Valid_Loss: 0.5897\n",
            "Epoch [2/10]. Step [21/242]. Train_Loss: 0.0102. Valid_Loss: 0.5818\n",
            "Epoch [2/10]. Step [41/242]. Train_Loss: 0.0084. Valid_Loss: 0.5723\n",
            "Epoch [2/10]. Step [61/242]. Train_Loss: 0.0086. Valid_Loss: 0.5736\n",
            "Epoch [2/10]. Step [81/242]. Train_Loss: 0.0087. Valid_Loss: 0.5750\n",
            "Epoch [2/10]. Step [101/242]. Train_Loss: 0.0078. Valid_Loss: 0.5545\n",
            "Epoch [2/10]. Step [121/242]. Train_Loss: 0.0078. Valid_Loss: 0.5606\n",
            "Epoch [2/10]. Step [141/242]. Train_Loss: 0.0083. Valid_Loss: 0.5596\n",
            "Epoch [2/10]. Step [161/242]. Train_Loss: 0.0097. Valid_Loss: 0.5447\n",
            "Epoch [2/10]. Step [181/242]. Train_Loss: 0.0081. Valid_Loss: 0.5381\n",
            "Epoch [2/10]. Step [201/242]. Train_Loss: 0.0085. Valid_Loss: 0.5423\n",
            "Epoch [2/10]. Step [221/242]. Train_Loss: 0.0086. Valid_Loss: 0.5268\n",
            "Epoch [2/10]. Step [241/242]. Train_Loss: 0.0076. Valid_Loss: 0.5577\n",
            "Epoch [3/10]. Step [1/242]. Train_Loss: 0.0116. Valid_Loss: 0.5742\n",
            "Epoch [3/10]. Step [21/242]. Train_Loss: 0.0084. Valid_Loss: 0.5230\n",
            "Epoch [3/10]. Step [41/242]. Train_Loss: 0.0083. Valid_Loss: 0.5177\n",
            "Epoch [3/10]. Step [61/242]. Train_Loss: 0.0080. Valid_Loss: 0.5158\n",
            "Epoch [3/10]. Step [81/242]. Train_Loss: 0.0076. Valid_Loss: 0.5160\n",
            "Epoch [3/10]. Step [101/242]. Train_Loss: 0.0078. Valid_Loss: 0.5184\n",
            "Epoch [3/10]. Step [121/242]. Train_Loss: 0.0081. Valid_Loss: 0.5255\n",
            "Epoch [3/10]. Step [141/242]. Train_Loss: 0.0079. Valid_Loss: 0.5070\n",
            "Epoch [3/10]. Step [161/242]. Train_Loss: 0.0087. Valid_Loss: 0.5403\n",
            "Epoch [3/10]. Step [181/242]. Train_Loss: 0.0081. Valid_Loss: 0.5081\n",
            "Epoch [3/10]. Step [201/242]. Train_Loss: 0.0074. Valid_Loss: 0.5005\n",
            "Epoch [3/10]. Step [221/242]. Train_Loss: 0.0078. Valid_Loss: 0.4987\n",
            "Epoch [3/10]. Step [241/242]. Train_Loss: 0.0080. Valid_Loss: 0.5179\n",
            "Epoch [4/10]. Step [1/242]. Train_Loss: 0.0066. Valid_Loss: 0.5034\n",
            "Epoch [4/10]. Step [21/242]. Train_Loss: 0.0090. Valid_Loss: 0.5078\n",
            "Epoch [4/10]. Step [41/242]. Train_Loss: 0.0077. Valid_Loss: 0.4961\n",
            "Epoch [4/10]. Step [61/242]. Train_Loss: 0.0076. Valid_Loss: 0.4975\n",
            "Epoch [4/10]. Step [81/242]. Train_Loss: 0.0074. Valid_Loss: 0.4889\n",
            "Epoch [4/10]. Step [101/242]. Train_Loss: 0.0074. Valid_Loss: 0.5025\n",
            "Epoch [4/10]. Step [121/242]. Train_Loss: 0.0082. Valid_Loss: 0.4896\n",
            "Epoch [4/10]. Step [141/242]. Train_Loss: 0.0073. Valid_Loss: 0.4866\n",
            "Epoch [4/10]. Step [161/242]. Train_Loss: 0.0077. Valid_Loss: 0.4842\n",
            "Epoch [4/10]. Step [181/242]. Train_Loss: 0.0079. Valid_Loss: 0.5181\n",
            "Epoch [4/10]. Step [201/242]. Train_Loss: 0.0071. Valid_Loss: 0.4896\n",
            "Epoch [4/10]. Step [221/242]. Train_Loss: 0.0076. Valid_Loss: 0.4848\n",
            "Epoch [4/10]. Step [241/242]. Train_Loss: 0.0080. Valid_Loss: 0.4826\n",
            "Epoch [5/10]. Step [1/242]. Train_Loss: 0.0076. Valid_Loss: 0.4800\n",
            "Epoch [5/10]. Step [21/242]. Train_Loss: 0.0075. Valid_Loss: 0.4885\n",
            "Epoch [5/10]. Step [41/242]. Train_Loss: 0.0071. Valid_Loss: 0.4827\n",
            "Epoch [5/10]. Step [61/242]. Train_Loss: 0.0068. Valid_Loss: 0.4829\n",
            "Epoch [5/10]. Step [81/242]. Train_Loss: 0.0078. Valid_Loss: 0.4814\n",
            "Epoch [5/10]. Step [101/242]. Train_Loss: 0.0077. Valid_Loss: 0.4802\n",
            "Epoch [5/10]. Step [121/242]. Train_Loss: 0.0072. Valid_Loss: 0.4768\n",
            "Epoch [5/10]. Step [141/242]. Train_Loss: 0.0074. Valid_Loss: 0.4829\n",
            "Epoch [5/10]. Step [161/242]. Train_Loss: 0.0088. Valid_Loss: 0.4903\n",
            "Epoch [5/10]. Step [181/242]. Train_Loss: 0.0075. Valid_Loss: 0.4820\n",
            "Epoch [5/10]. Step [201/242]. Train_Loss: 0.0083. Valid_Loss: 0.5135\n",
            "Epoch [5/10]. Step [221/242]. Train_Loss: 0.0079. Valid_Loss: 0.4748\n",
            "Epoch [5/10]. Step [241/242]. Train_Loss: 0.0069. Valid_Loss: 0.4738\n",
            "Epoch [6/10]. Step [1/242]. Train_Loss: 0.0042. Valid_Loss: 0.4944\n",
            "Epoch [6/10]. Step [21/242]. Train_Loss: 0.0069. Valid_Loss: 0.4689\n",
            "Epoch [6/10]. Step [41/242]. Train_Loss: 0.0076. Valid_Loss: 0.4728\n",
            "Epoch [6/10]. Step [61/242]. Train_Loss: 0.0075. Valid_Loss: 0.4891\n",
            "Epoch [6/10]. Step [81/242]. Train_Loss: 0.0081. Valid_Loss: 0.4905\n",
            "Epoch [6/10]. Step [101/242]. Train_Loss: 0.0072. Valid_Loss: 0.5047\n",
            "Epoch [6/10]. Step [121/242]. Train_Loss: 0.0079. Valid_Loss: 0.4640\n",
            "Epoch [6/10]. Step [141/242]. Train_Loss: 0.0077. Valid_Loss: 0.4665\n",
            "Epoch [6/10]. Step [161/242]. Train_Loss: 0.0070. Valid_Loss: 0.4966\n",
            "Epoch [6/10]. Step [181/242]. Train_Loss: 0.0080. Valid_Loss: 0.4610\n",
            "Epoch [6/10]. Step [201/242]. Train_Loss: 0.0079. Valid_Loss: 0.4733\n",
            "Epoch [6/10]. Step [221/242]. Train_Loss: 0.0068. Valid_Loss: 0.4606\n",
            "Epoch [6/10]. Step [241/242]. Train_Loss: 0.0064. Valid_Loss: 0.4618\n",
            "Epoch [7/10]. Step [1/242]. Train_Loss: 0.0068. Valid_Loss: 0.4610\n",
            "Epoch [7/10]. Step [21/242]. Train_Loss: 0.0072. Valid_Loss: 0.5020\n",
            "Epoch [7/10]. Step [41/242]. Train_Loss: 0.0062. Valid_Loss: 0.4683\n",
            "Epoch [7/10]. Step [61/242]. Train_Loss: 0.0078. Valid_Loss: 0.4964\n",
            "Epoch [7/10]. Step [81/242]. Train_Loss: 0.0081. Valid_Loss: 0.4841\n",
            "Epoch [7/10]. Step [101/242]. Train_Loss: 0.0072. Valid_Loss: 0.4888\n",
            "Epoch [7/10]. Step [121/242]. Train_Loss: 0.0071. Valid_Loss: 0.5082\n",
            "Epoch [7/10]. Step [141/242]. Train_Loss: 0.0081. Valid_Loss: 0.5082\n",
            "Epoch [7/10]. Step [161/242]. Train_Loss: 0.0071. Valid_Loss: 0.4855\n",
            "Epoch [7/10]. Step [181/242]. Train_Loss: 0.0073. Valid_Loss: 0.4925\n",
            "Epoch [7/10]. Step [201/242]. Train_Loss: 0.0070. Valid_Loss: 0.4670\n",
            "Epoch [7/10]. Step [221/242]. Train_Loss: 0.0069. Valid_Loss: 0.4621\n",
            "Epoch [7/10]. Step [241/242]. Train_Loss: 0.0072. Valid_Loss: 0.4790\n",
            "Epoch [8/10]. Step [1/242]. Train_Loss: 0.0071. Valid_Loss: 0.4783\n",
            "Epoch [8/10]. Step [21/242]. Train_Loss: 0.0069. Valid_Loss: 0.4835\n",
            "Epoch [8/10]. Step [41/242]. Train_Loss: 0.0068. Valid_Loss: 0.4628\n",
            "Epoch [8/10]. Step [61/242]. Train_Loss: 0.0071. Valid_Loss: 0.4835\n",
            "Epoch [8/10]. Step [81/242]. Train_Loss: 0.0082. Valid_Loss: 0.4716\n",
            "Epoch [8/10]. Step [101/242]. Train_Loss: 0.0074. Valid_Loss: 0.4869\n",
            "Epoch [8/10]. Step [121/242]. Train_Loss: 0.0083. Valid_Loss: 0.4679\n",
            "Epoch [8/10]. Step [141/242]. Train_Loss: 0.0068. Valid_Loss: 0.4826\n",
            "Epoch [8/10]. Step [161/242]. Train_Loss: 0.0077. Valid_Loss: 0.5279\n",
            "Epoch [8/10]. Step [181/242]. Train_Loss: 0.0075. Valid_Loss: 0.4476\n",
            "Epoch [8/10]. Step [201/242]. Train_Loss: 0.0066. Valid_Loss: 0.4707\n",
            "Epoch [8/10]. Step [221/242]. Train_Loss: 0.0066. Valid_Loss: 0.5056\n",
            "Epoch [8/10]. Step [241/242]. Train_Loss: 0.0070. Valid_Loss: 0.5350\n",
            "Epoch [9/10]. Step [1/242]. Train_Loss: 0.0071. Valid_Loss: 0.5111\n",
            "Epoch [9/10]. Step [21/242]. Train_Loss: 0.0067. Valid_Loss: 0.5057\n",
            "Epoch [9/10]. Step [41/242]. Train_Loss: 0.0069. Valid_Loss: 0.4984\n",
            "Epoch [9/10]. Step [61/242]. Train_Loss: 0.0072. Valid_Loss: 0.5276\n",
            "Epoch [9/10]. Step [81/242]. Train_Loss: 0.0074. Valid_Loss: 0.4744\n",
            "Epoch [9/10]. Step [101/242]. Train_Loss: 0.0072. Valid_Loss: 0.4955\n",
            "Epoch [9/10]. Step [121/242]. Train_Loss: 0.0074. Valid_Loss: 0.4719\n",
            "Epoch [9/10]. Step [141/242]. Train_Loss: 0.0070. Valid_Loss: 0.4815\n",
            "Epoch [9/10]. Step [161/242]. Train_Loss: 0.0062. Valid_Loss: 0.5456\n",
            "Epoch [9/10]. Step [181/242]. Train_Loss: 0.0076. Valid_Loss: 0.4761\n",
            "Epoch [9/10]. Step [201/242]. Train_Loss: 0.0073. Valid_Loss: 0.5809\n",
            "Epoch [9/10]. Step [221/242]. Train_Loss: 0.0073. Valid_Loss: 0.4926\n",
            "Epoch [9/10]. Step [241/242]. Train_Loss: 0.0072. Valid_Loss: 0.5402\n",
            "Epoch [10/10]. Step [1/242]. Train_Loss: 0.0086. Valid_Loss: 0.4890\n",
            "Epoch [10/10]. Step [21/242]. Train_Loss: 0.0072. Valid_Loss: 0.4834\n",
            "Epoch [10/10]. Step [41/242]. Train_Loss: 0.0072. Valid_Loss: 0.5970\n",
            "Epoch [10/10]. Step [61/242]. Train_Loss: 0.0069. Valid_Loss: 0.5046\n",
            "Epoch [10/10]. Step [81/242]. Train_Loss: 0.0075. Valid_Loss: 0.5132\n",
            "Epoch [10/10]. Step [101/242]. Train_Loss: 0.0072. Valid_Loss: 0.5877\n",
            "Epoch [10/10]. Step [121/242]. Train_Loss: 0.0077. Valid_Loss: 0.6687\n",
            "Epoch [10/10]. Step [141/242]. Train_Loss: 0.0080. Valid_Loss: 0.4992\n",
            "Epoch [10/10]. Step [161/242]. Train_Loss: 0.0074. Valid_Loss: 0.4651\n",
            "Epoch [10/10]. Step [181/242]. Train_Loss: 0.0069. Valid_Loss: 0.4832\n",
            "Epoch [10/10]. Step [201/242]. Train_Loss: 0.0069. Valid_Loss: 0.4724\n",
            "Epoch [10/10]. Step [221/242]. Train_Loss: 0.0072. Valid_Loss: 0.5341\n",
            "Epoch [10/10]. Step [241/242]. Train_Loss: 0.0058. Valid_Loss: 0.4811\n"
          ]
        }
      ]
    },
    {
      "cell_type": "code",
      "source": [
        "data_iter = iter(test_loader)\n",
        "inputs, labels = data_iter.next()"
      ],
      "metadata": {
        "id": "kYul0sewKvAn"
      },
      "execution_count": 312,
      "outputs": []
    },
    {
      "cell_type": "code",
      "source": [
        "net.eval()\n",
        "outputs = net(inputs)"
      ],
      "metadata": {
        "id": "8SsccIcTKzo2"
      },
      "execution_count": 313,
      "outputs": []
    },
    {
      "cell_type": "code",
      "source": [
        "print(outputs.T)"
      ],
      "metadata": {
        "colab": {
          "base_uri": "https://localhost:8080/"
        },
        "id": "JLukSrxxK38G",
        "outputId": "a7a1b018-ab38-43bb-d2d6-e5b6411e8c52"
      },
      "execution_count": 314,
      "outputs": [
        {
          "output_type": "stream",
          "name": "stdout",
          "text": [
            "tensor([[5.0002, 0.9242, 3.0311, 2.9310, 1.0628, 1.1833, 2.2842, 0.8712, 4.5034,\n",
            "         1.3742, 1.3403, 2.1605, 0.9459, 1.3707, 1.8020, 1.0927, 1.5268, 4.4358,\n",
            "         2.1857, 1.5327, 3.1582, 0.8906, 1.6457, 1.4832, 1.6531, 1.1229, 1.3531,\n",
            "         3.2579, 1.2487, 2.8839, 1.1571, 1.1721, 1.4059, 3.0556, 4.2594, 1.7353,\n",
            "         1.3838, 2.3092, 0.7808, 2.5013, 2.9113, 0.6336, 1.6473, 0.9617, 1.0746,\n",
            "         3.3883, 1.0890, 1.3062, 1.5301, 2.1855, 0.9084, 0.8614, 1.0218, 2.4872,\n",
            "         0.9049, 1.9236, 0.9395, 1.0544, 1.3032, 1.0063, 1.4342, 0.9803, 1.7111,\n",
            "         1.7455]], grad_fn=<PermuteBackward0>)\n"
          ]
        }
      ]
    },
    {
      "cell_type": "code",
      "source": [
        "print(loss_func(outputs.mH[0, :], labels))"
      ],
      "metadata": {
        "colab": {
          "base_uri": "https://localhost:8080/"
        },
        "id": "BtS_SzSxK801",
        "outputId": "6e37eff5-5fe1-4fbd-cbda-0ede121457db"
      },
      "execution_count": 315,
      "outputs": [
        {
          "output_type": "stream",
          "name": "stdout",
          "text": [
            "tensor(0.4374, grad_fn=<MseLossBackward0>)\n"
          ]
        }
      ]
    },
    {
      "cell_type": "code",
      "source": [
        "print(labels)"
      ],
      "metadata": {
        "colab": {
          "base_uri": "https://localhost:8080/"
        },
        "id": "QMjLrdYRLBlu",
        "outputId": "3093bf2a-bb79-4dc2-d8b8-05a6751ba760"
      },
      "execution_count": 316,
      "outputs": [
        {
          "output_type": "stream",
          "name": "stdout",
          "text": [
            "tensor([5.0000, 0.6780, 4.4110, 3.4120, 1.1320, 0.8650, 2.2710, 0.8110, 5.0000,\n",
            "        1.2830, 1.6440, 4.5000, 1.1180, 1.0940, 1.7130, 1.1740, 1.2980, 5.0000,\n",
            "        3.1430, 3.7610, 4.1390, 0.7800, 2.6350, 1.0620, 1.8140, 1.8750, 1.5670,\n",
            "        3.3110, 1.2910, 1.8750, 0.7410, 1.5160, 1.9750, 2.6470, 5.0000, 1.8750,\n",
            "        2.1190, 2.4460, 0.4930, 3.2600, 3.5970, 0.5910, 3.2730, 0.8750, 0.9680,\n",
            "        3.8600, 1.1230, 1.9430, 0.8450, 2.5390, 1.1790, 0.5880, 0.5800, 3.0080,\n",
            "        0.6930, 1.3820, 1.5740, 1.3590, 1.0110, 0.8940, 1.7770, 1.0850, 0.9720,\n",
            "        2.4940])\n"
          ]
        }
      ]
    },
    {
      "cell_type": "code",
      "source": [
        "# !pip install torchmetrics"
      ],
      "metadata": {
        "id": "DsiKAscXx7yq"
      },
      "execution_count": 284,
      "outputs": []
    },
    {
      "cell_type": "code",
      "source": [
        "from torchmetrics import R2Score"
      ],
      "metadata": {
        "id": "Lyp34Y8LZ5a7"
      },
      "execution_count": 285,
      "outputs": []
    },
    {
      "cell_type": "code",
      "source": [
        "r2score = R2Score()"
      ],
      "metadata": {
        "id": "ypQMfTd6xqg1"
      },
      "execution_count": 286,
      "outputs": []
    },
    {
      "cell_type": "code",
      "source": [
        "r2score(outputs[:,0], labels)"
      ],
      "metadata": {
        "colab": {
          "base_uri": "https://localhost:8080/"
        },
        "id": "kicqnYoJyLfY",
        "outputId": "ee3c089e-d2cb-4a63-af7d-14f4bcb796fc"
      },
      "execution_count": 317,
      "outputs": [
        {
          "output_type": "execute_result",
          "data": {
            "text/plain": [
              "tensor(0.7370, grad_fn=<SqueezeBackward0>)"
            ]
          },
          "metadata": {},
          "execution_count": 317
        }
      ]
    },
    {
      "cell_type": "code",
      "source": [],
      "metadata": {
        "id": "mXW3YVDlyUjB"
      },
      "execution_count": null,
      "outputs": []
    }
  ]
}