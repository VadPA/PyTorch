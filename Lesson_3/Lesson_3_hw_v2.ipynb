{
  "nbformat": 4,
  "nbformat_minor": 0,
  "metadata": {
    "colab": {
      "name": "Lesson_3_hw_v2.ipynb",
      "provenance": [],
      "collapsed_sections": [],
      "authorship_tag": "ABX9TyOYTXMcJszNqTbkbkcLKeeT",
      "include_colab_link": true
    },
    "kernelspec": {
      "name": "python3",
      "display_name": "Python 3"
    },
    "language_info": {
      "name": "python"
    }
  },
  "cells": [
    {
      "cell_type": "markdown",
      "metadata": {
        "id": "view-in-github",
        "colab_type": "text"
      },
      "source": [
        "<a href=\"https://colab.research.google.com/github/VadPA/PyTorch/blob/master/Lesson_3_hw_v2.ipynb\" target=\"_parent\"><img src=\"https://colab.research.google.com/assets/colab-badge.svg\" alt=\"Open In Colab\"/></a>"
      ]
    },
    {
      "cell_type": "code",
      "execution_count": 87,
      "metadata": {
        "id": "W85uJYzEDL1i"
      },
      "outputs": [],
      "source": [
        "import numpy as np\n",
        "import torch\n",
        "from torch.utils.data import Dataset\n",
        "from sklearn.datasets import fetch_california_housing\n",
        "from sklearn.model_selection import train_test_split\n",
        "from torch import nn\n",
        "import torch.nn.functional as F\n",
        "from sklearn.preprocessing import MinMaxScaler"
      ]
    },
    {
      "cell_type": "code",
      "source": [
        "class Net(nn.Module):\n",
        "    def __init__(self, input_dim, hidden_dim, output_dim):\n",
        "        super().__init__()\n",
        "        self.fc1 = nn.Linear(input_dim, 2 * hidden_dim)\n",
        "        self.fc2 = nn.Linear(2 * hidden_dim, hidden_dim)\n",
        "        self.bn = nn.BatchNorm1d(hidden_dim)\n",
        "        self.bn2 = nn.BatchNorm1d(2 * hidden_dim)\n",
        "        self.dp = nn.Dropout(0.25)\n",
        "        self.fc3 = nn.Linear(1 * hidden_dim, hidden_dim)\n",
        "        self.fc4 = nn.Linear(hidden_dim, output_dim)\n",
        "\n",
        "    def forward(self, x):\n",
        "        x = x.view(x.shape[0], -1)\n",
        "        x = self.fc1(x)\n",
        "        x = F.leaky_relu(x)\n",
        "        x = self.fc2(x)\n",
        "        x = F.leaky_relu(x)\n",
        "        x = self.fc3(x)\n",
        "        x = F.leaky_relu(x)\n",
        "        x = self.fc4(x)\n",
        "\n",
        "        return x"
      ],
      "metadata": {
        "id": "Qd0NQxC-DtGZ"
      },
      "execution_count": 88,
      "outputs": []
    },
    {
      "cell_type": "code",
      "source": [
        "class CustomDataset(Dataset):\n",
        "    def __init__(self, is_train=True):\n",
        "        super(CustomDataset, self).__init__()\n",
        "        self.is_train = is_train\n",
        "        self.sc = MinMaxScaler()\n",
        "        self.X, self.Y = fetch_california_housing(return_X_y=True, as_frame=True)\n",
        "        self.X_train, self.X_test, self.y_train, self.y_test = train_test_split(self.X, self.Y, test_size=0.25,\n",
        "                                                                                random_state=13)\n",
        "\n",
        "    def __len__(self):\n",
        "        if self.is_train:\n",
        "            return len(self.X_train)\n",
        "        else:\n",
        "            return len(self.X_test)\n",
        "\n",
        "    def __getitem__(self, idx):\n",
        "        if self.is_train:\n",
        "            x = np.array(self.X_train).astype(np.float32)\n",
        "            y = np.array(self.y_train).astype(np.float32)\n",
        "            x = self.sc.fit_transform(x)\n",
        "            return x[idx], y[idx]\n",
        "        else:\n",
        "            x = np.array(self.X_test).astype(np.float32)\n",
        "            y = np.array(self.y_test).astype(np.float32)\n",
        "            x = self.sc.fit_transform(x)\n",
        "            return x[idx], y[idx]"
      ],
      "metadata": {
        "id": "WO1UK5XtD4Bg"
      },
      "execution_count": 89,
      "outputs": []
    },
    {
      "cell_type": "code",
      "source": [
        "X_train = CustomDataset(is_train=True)"
      ],
      "metadata": {
        "id": "pHWDGibpD_U_"
      },
      "execution_count": 90,
      "outputs": []
    },
    {
      "cell_type": "code",
      "source": [
        "train_loader = torch.utils.data.DataLoader(dataset=X_train,\n",
        "                                           batch_size=64,\n",
        "                                           shuffle=True)"
      ],
      "metadata": {
        "id": "kHcejAW5EJAW"
      },
      "execution_count": 91,
      "outputs": []
    },
    {
      "cell_type": "code",
      "source": [
        "X_test = CustomDataset(is_train=False)"
      ],
      "metadata": {
        "id": "emX6fBY3EJM2"
      },
      "execution_count": 92,
      "outputs": []
    },
    {
      "cell_type": "code",
      "source": [
        "test_loader = torch.utils.data.DataLoader(dataset=X_test,\n",
        "                                          batch_size=64,\n",
        "                                          shuffle=True)"
      ],
      "metadata": {
        "id": "J7VF_IfMEJXH"
      },
      "execution_count": 93,
      "outputs": []
    },
    {
      "cell_type": "code",
      "source": [
        "device = 'cuda' if torch.cuda.is_available() else 'cpu'\n",
        "device"
      ],
      "metadata": {
        "colab": {
          "base_uri": "https://localhost:8080/",
          "height": 35
        },
        "id": "ct7V-AM3t7Dp",
        "outputId": "01becf9e-976a-4f62-baea-bd7a3828fae1"
      },
      "execution_count": 94,
      "outputs": [
        {
          "output_type": "execute_result",
          "data": {
            "text/plain": [
              "'cpu'"
            ],
            "application/vnd.google.colaboratory.intrinsic+json": {
              "type": "string"
            }
          },
          "metadata": {},
          "execution_count": 94
        }
      ]
    },
    {
      "cell_type": "code",
      "source": [
        "net = Net(input_dim=8, hidden_dim=48, output_dim=1).to(device)  # определить сеть\n",
        "print(net)  # структура сети печати"
      ],
      "metadata": {
        "colab": {
          "base_uri": "https://localhost:8080/"
        },
        "id": "YRwXgIJoEWtG",
        "outputId": "c242a49b-f59d-446e-d1ec-87d9bc580cf7"
      },
      "execution_count": 95,
      "outputs": [
        {
          "output_type": "stream",
          "name": "stdout",
          "text": [
            "Net(\n",
            "  (fc1): Linear(in_features=8, out_features=96, bias=True)\n",
            "  (fc2): Linear(in_features=96, out_features=48, bias=True)\n",
            "  (bn): BatchNorm1d(48, eps=1e-05, momentum=0.1, affine=True, track_running_stats=True)\n",
            "  (bn2): BatchNorm1d(96, eps=1e-05, momentum=0.1, affine=True, track_running_stats=True)\n",
            "  (dp): Dropout(p=0.25, inplace=False)\n",
            "  (fc3): Linear(in_features=48, out_features=48, bias=True)\n",
            "  (fc4): Linear(in_features=48, out_features=1, bias=True)\n",
            ")\n"
          ]
        }
      ]
    },
    {
      "cell_type": "code",
      "source": [
        "loss_func = torch.nn.MSELoss()\n",
        "optimizer = torch.optim.Adam(net.parameters(), lr=0.001)"
      ],
      "metadata": {
        "id": "H-UYIQgnEdEe"
      },
      "execution_count": 96,
      "outputs": []
    },
    {
      "cell_type": "code",
      "source": [
        "num_epochs = 5"
      ],
      "metadata": {
        "id": "fzhkoQygEo3Z"
      },
      "execution_count": 97,
      "outputs": []
    },
    {
      "cell_type": "code",
      "source": [
        "for epoch in range(num_epochs):\n",
        "    net.train()\n",
        "    training_loss = 0.0\n",
        "    training_items = 0.0\n",
        "    valid_loss = 0.0\n",
        "\n",
        "    for i, data in enumerate(train_loader):\n",
        "        inputs, labels = data[0], data[1]\n",
        "\n",
        "        # Обнуляем градиент\n",
        "        optimizer.zero_grad()\n",
        "        # Делаем предсказание\n",
        "        outputs = net(inputs)\n",
        "        # Рассчитываем лосс-функцию\n",
        "        loss = loss_func(outputs.mH[0, :], labels)\n",
        "        # Делаем шаг назад по лоссу\n",
        "        loss.backward()\n",
        "        # Делаем шаг нашего оптимайзера\n",
        "        optimizer.step()\n",
        "\n",
        "        # выводим статистику о процессе обучения\n",
        "        training_loss += loss.item()\n",
        "        training_items += len(labels)\n",
        "        # печатаем каждые 20 mini-batches\n",
        "        if i % 20 == 0:\n",
        "            net.eval()\n",
        "            print(f'Epoch [{epoch + 1}/{num_epochs}]. '\n",
        "                  f'Step [{i + 1}/{len(train_loader)}]. '\n",
        "                  f'Train_Loss: {training_loss / training_items:.4f}', end='. ')\n",
        "            training_loss, training_items = 0.0, 0.0\n",
        "\n",
        "            valid_loss, loss_val = 0.0, 0.0\n",
        "            for j, batch in enumerate(test_loader):\n",
        "              inputs, targets = batch\n",
        "              output = net(inputs)\n",
        "              loss_val = loss_func(output.mH[0, :], targets)\n",
        "              valid_loss += loss_val.item()\n",
        "            valid_loss /= len(test_loader)\n",
        "\n",
        "            print('Valid_Loss: {:.4f}'.format(valid_loss))\n",
        "            net.train()\n",
        "\n"
      ],
      "metadata": {
        "colab": {
          "base_uri": "https://localhost:8080/"
        },
        "id": "tVAaF-EFEhjr",
        "outputId": "84adcc8b-02e6-430d-b9c6-6bc0392dba0f"
      },
      "execution_count": 98,
      "outputs": [
        {
          "output_type": "stream",
          "name": "stdout",
          "text": [
            "Epoch [1/5]. Step [1/242]. Train_Loss: 0.1019. Valid_Loss: 5.0687\n",
            "Epoch [1/5]. Step [21/242]. Train_Loss: 0.0743. Valid_Loss: 3.7313\n",
            "Epoch [1/5]. Step [41/242]. Train_Loss: 0.0360. Valid_Loss: 1.2541\n",
            "Epoch [1/5]. Step [61/242]. Train_Loss: 0.0216. Valid_Loss: 1.1938\n",
            "Epoch [1/5]. Step [81/242]. Train_Loss: 0.0169. Valid_Loss: 1.1239\n",
            "Epoch [1/5]. Step [101/242]. Train_Loss: 0.0155. Valid_Loss: 1.0498\n",
            "Epoch [1/5]. Step [121/242]. Train_Loss: 0.0161. Valid_Loss: 0.9588\n",
            "Epoch [1/5]. Step [141/242]. Train_Loss: 0.0147. Valid_Loss: 0.8641\n",
            "Epoch [1/5]. Step [161/242]. Train_Loss: 0.0110. Valid_Loss: 0.7312\n",
            "Epoch [1/5]. Step [181/242]. Train_Loss: 0.0110. Valid_Loss: 0.6358\n",
            "Epoch [1/5]. Step [201/242]. Train_Loss: 0.0101. Valid_Loss: 0.6405\n",
            "Epoch [1/5]. Step [221/242]. Train_Loss: 0.0094. Valid_Loss: 0.5968\n",
            "Epoch [1/5]. Step [241/242]. Train_Loss: 0.0090. Valid_Loss: 0.5833\n",
            "Epoch [2/5]. Step [1/242]. Train_Loss: 0.0072. Valid_Loss: 0.5945\n",
            "Epoch [2/5]. Step [21/242]. Train_Loss: 0.0081. Valid_Loss: 0.5876\n",
            "Epoch [2/5]. Step [41/242]. Train_Loss: 0.0091. Valid_Loss: 0.5802\n",
            "Epoch [2/5]. Step [61/242]. Train_Loss: 0.0087. Valid_Loss: 0.5640\n",
            "Epoch [2/5]. Step [81/242]. Train_Loss: 0.0097. Valid_Loss: 0.5608\n",
            "Epoch [2/5]. Step [101/242]. Train_Loss: 0.0079. Valid_Loss: 0.5567\n",
            "Epoch [2/5]. Step [121/242]. Train_Loss: 0.0090. Valid_Loss: 0.5552\n",
            "Epoch [2/5]. Step [141/242]. Train_Loss: 0.0095. Valid_Loss: 0.5445\n",
            "Epoch [2/5]. Step [161/242]. Train_Loss: 0.0084. Valid_Loss: 0.5374\n",
            "Epoch [2/5]. Step [181/242]. Train_Loss: 0.0085. Valid_Loss: 0.5402\n",
            "Epoch [2/5]. Step [201/242]. Train_Loss: 0.0090. Valid_Loss: 0.5416\n",
            "Epoch [2/5]. Step [221/242]. Train_Loss: 0.0082. Valid_Loss: 0.5245\n",
            "Epoch [2/5]. Step [241/242]. Train_Loss: 0.0083. Valid_Loss: 0.5383\n",
            "Epoch [3/5]. Step [1/242]. Train_Loss: 0.0098. Valid_Loss: 0.5694\n",
            "Epoch [3/5]. Step [21/242]. Train_Loss: 0.0088. Valid_Loss: 0.5292\n",
            "Epoch [3/5]. Step [41/242]. Train_Loss: 0.0086. Valid_Loss: 0.5201\n",
            "Epoch [3/5]. Step [61/242]. Train_Loss: 0.0086. Valid_Loss: 0.5425\n",
            "Epoch [3/5]. Step [81/242]. Train_Loss: 0.0081. Valid_Loss: 0.5126\n",
            "Epoch [3/5]. Step [101/242]. Train_Loss: 0.0077. Valid_Loss: 0.5054\n",
            "Epoch [3/5]. Step [121/242]. Train_Loss: 0.0074. Valid_Loss: 0.5011\n",
            "Epoch [3/5]. Step [141/242]. Train_Loss: 0.0084. Valid_Loss: 0.5125\n",
            "Epoch [3/5]. Step [161/242]. Train_Loss: 0.0086. Valid_Loss: 0.5254\n",
            "Epoch [3/5]. Step [181/242]. Train_Loss: 0.0073. Valid_Loss: 0.4923\n",
            "Epoch [3/5]. Step [201/242]. Train_Loss: 0.0082. Valid_Loss: 0.5075\n",
            "Epoch [3/5]. Step [221/242]. Train_Loss: 0.0084. Valid_Loss: 0.5638\n",
            "Epoch [3/5]. Step [241/242]. Train_Loss: 0.0072. Valid_Loss: 0.4908\n",
            "Epoch [4/5]. Step [1/242]. Train_Loss: 0.0105. Valid_Loss: 0.4925\n",
            "Epoch [4/5]. Step [21/242]. Train_Loss: 0.0085. Valid_Loss: 0.5034\n",
            "Epoch [4/5]. Step [41/242]. Train_Loss: 0.0076. Valid_Loss: 0.4980\n",
            "Epoch [4/5]. Step [61/242]. Train_Loss: 0.0078. Valid_Loss: 0.4811\n",
            "Epoch [4/5]. Step [81/242]. Train_Loss: 0.0076. Valid_Loss: 0.5431\n",
            "Epoch [4/5]. Step [101/242]. Train_Loss: 0.0073. Valid_Loss: 0.5157\n",
            "Epoch [4/5]. Step [121/242]. Train_Loss: 0.0087. Valid_Loss: 0.4749\n",
            "Epoch [4/5]. Step [141/242]. Train_Loss: 0.0074. Valid_Loss: 0.4965\n",
            "Epoch [4/5]. Step [161/242]. Train_Loss: 0.0078. Valid_Loss: 0.5561\n",
            "Epoch [4/5]. Step [181/242]. Train_Loss: 0.0085. Valid_Loss: 0.4726\n",
            "Epoch [4/5]. Step [201/242]. Train_Loss: 0.0078. Valid_Loss: 0.4696\n",
            "Epoch [4/5]. Step [221/242]. Train_Loss: 0.0068. Valid_Loss: 0.5201\n",
            "Epoch [4/5]. Step [241/242]. Train_Loss: 0.0073. Valid_Loss: 0.6129\n",
            "Epoch [5/5]. Step [1/242]. Train_Loss: 0.0111. Valid_Loss: 0.5236\n",
            "Epoch [5/5]. Step [21/242]. Train_Loss: 0.0078. Valid_Loss: 0.4672\n",
            "Epoch [5/5]. Step [41/242]. Train_Loss: 0.0084. Valid_Loss: 0.4814\n",
            "Epoch [5/5]. Step [61/242]. Train_Loss: 0.0068. Valid_Loss: 0.4714\n",
            "Epoch [5/5]. Step [81/242]. Train_Loss: 0.0078. Valid_Loss: 0.5429\n",
            "Epoch [5/5]. Step [101/242]. Train_Loss: 0.0080. Valid_Loss: 0.5343\n",
            "Epoch [5/5]. Step [121/242]. Train_Loss: 0.0072. Valid_Loss: 0.4558\n",
            "Epoch [5/5]. Step [141/242]. Train_Loss: 0.0077. Valid_Loss: 0.4784\n",
            "Epoch [5/5]. Step [161/242]. Train_Loss: 0.0076. Valid_Loss: 0.5030\n",
            "Epoch [5/5]. Step [181/242]. Train_Loss: 0.0070. Valid_Loss: 0.4963\n",
            "Epoch [5/5]. Step [201/242]. Train_Loss: 0.0077. Valid_Loss: 0.4735\n",
            "Epoch [5/5]. Step [221/242]. Train_Loss: 0.0074. Valid_Loss: 0.5038\n",
            "Epoch [5/5]. Step [241/242]. Train_Loss: 0.0067. Valid_Loss: 0.4706\n"
          ]
        }
      ]
    },
    {
      "cell_type": "code",
      "source": [
        "data_iter = iter(test_loader)\n",
        "inputs, labels = data_iter.next()"
      ],
      "metadata": {
        "id": "kYul0sewKvAn"
      },
      "execution_count": 126,
      "outputs": []
    },
    {
      "cell_type": "code",
      "source": [
        "net.eval()\n",
        "outputs = net(inputs)"
      ],
      "metadata": {
        "id": "8SsccIcTKzo2"
      },
      "execution_count": 127,
      "outputs": []
    },
    {
      "cell_type": "code",
      "source": [
        "print(outputs.T)"
      ],
      "metadata": {
        "colab": {
          "base_uri": "https://localhost:8080/"
        },
        "id": "JLukSrxxK38G",
        "outputId": "00edfd6f-a946-4e68-9c01-e1d6083a9302"
      },
      "execution_count": 128,
      "outputs": [
        {
          "output_type": "stream",
          "name": "stdout",
          "text": [
            "tensor([[1.3228, 3.7831, 3.2730, 0.8615, 2.3998, 1.4612, 1.8514, 2.8138, 2.0612,\n",
            "         1.9766, 0.9808, 1.3427, 1.9921, 5.9258, 1.4056, 1.1927, 4.7977, 1.1728,\n",
            "         2.5367, 2.9239, 0.9644, 1.3007, 2.7993, 3.5379, 2.0879, 1.3161, 1.1940,\n",
            "         1.9567, 1.7220, 1.7271, 3.1503, 1.2381, 1.8791, 2.6336, 2.9348, 0.7822,\n",
            "         2.1177, 1.3714, 1.6466, 1.6983, 3.2469, 1.5990, 1.4803, 3.3077, 1.3878,\n",
            "         0.9311, 2.2353, 0.9427, 1.7056, 1.1709, 1.5719, 3.0812, 0.7736, 2.0666,\n",
            "         0.8278, 1.3092, 2.5248, 2.2183, 3.4351, 1.1788, 1.9628, 0.9758, 1.4200,\n",
            "         2.2069]], grad_fn=<PermuteBackward0>)\n"
          ]
        }
      ]
    },
    {
      "cell_type": "code",
      "source": [
        "print(loss_func(outputs.mH[0, :], labels))"
      ],
      "metadata": {
        "colab": {
          "base_uri": "https://localhost:8080/"
        },
        "id": "BtS_SzSxK801",
        "outputId": "e05090ca-360b-4cb8-dacc-9a140e41f3bd"
      },
      "execution_count": 129,
      "outputs": [
        {
          "output_type": "stream",
          "name": "stdout",
          "text": [
            "tensor(0.2480, grad_fn=<MseLossBackward0>)\n"
          ]
        }
      ]
    },
    {
      "cell_type": "code",
      "source": [
        "print(labels)"
      ],
      "metadata": {
        "colab": {
          "base_uri": "https://localhost:8080/"
        },
        "id": "QMjLrdYRLBlu",
        "outputId": "606c6cf0-f1d5-4c23-bf5d-6a238d7b946d"
      },
      "execution_count": 130,
      "outputs": [
        {
          "output_type": "stream",
          "name": "stdout",
          "text": [
            "tensor([0.8780, 3.2470, 4.0000, 0.8180, 2.3870, 1.5520, 1.7950, 2.4690, 1.7180,\n",
            "        1.9700, 0.9060, 1.0630, 2.0370, 5.0000, 1.5610, 0.7310, 5.0000, 1.4710,\n",
            "        2.4790, 2.1950, 1.6610, 1.2500, 3.0080, 5.0000, 2.0860, 0.7050, 0.9140,\n",
            "        2.7750, 1.3390, 2.0210, 3.6870, 1.7720, 1.5040, 2.2560, 3.6050, 0.5530,\n",
            "        2.2920, 1.7500, 1.5130, 1.2530, 2.2110, 0.9120, 1.7190, 3.9230, 1.2340,\n",
            "        0.5830, 3.6000, 0.5420, 1.8200, 1.1430, 1.3700, 3.1090, 0.7710, 1.5890,\n",
            "        0.6690, 0.9140, 1.7170, 2.4730, 3.3670, 0.9630, 1.2600, 1.0700, 1.3110,\n",
            "        3.2520])\n"
          ]
        }
      ]
    },
    {
      "cell_type": "code",
      "source": [
        "# !pip install torchmetrics"
      ],
      "metadata": {
        "id": "DsiKAscXx7yq"
      },
      "execution_count": 104,
      "outputs": []
    },
    {
      "cell_type": "code",
      "source": [
        "from torchmetrics import R2Score"
      ],
      "metadata": {
        "id": "Lyp34Y8LZ5a7"
      },
      "execution_count": 105,
      "outputs": []
    },
    {
      "cell_type": "code",
      "source": [
        "r2score = R2Score()"
      ],
      "metadata": {
        "id": "ypQMfTd6xqg1"
      },
      "execution_count": 106,
      "outputs": []
    },
    {
      "cell_type": "code",
      "source": [
        "r2score(outputs[:,0], labels)"
      ],
      "metadata": {
        "colab": {
          "base_uri": "https://localhost:8080/"
        },
        "id": "kicqnYoJyLfY",
        "outputId": "4ddd249e-2251-42a0-d33f-5adfd615510b"
      },
      "execution_count": 131,
      "outputs": [
        {
          "output_type": "execute_result",
          "data": {
            "text/plain": [
              "tensor(0.8033, grad_fn=<SqueezeBackward0>)"
            ]
          },
          "metadata": {},
          "execution_count": 131
        }
      ]
    },
    {
      "cell_type": "markdown",
      "source": [
        "## Рассчитаем MSE для всего тестового набора"
      ],
      "metadata": {
        "id": "JF9DOln_qDRR"
      }
    },
    {
      "cell_type": "code",
      "source": [
        "net.eval()\n",
        "test_loss, loss_test = 0.0, 0.0\n",
        "for j, batch in enumerate(test_loader):\n",
        "  inputs, targets = batch\n",
        "  output = net(inputs)\n",
        "  loss_test = loss_func(output.mH[0, :], targets)\n",
        "  test_loss += loss_test.item()\n",
        "  \n",
        "  \n",
        "  \n",
        "test_loss /= len(test_loader)\n",
        "print('Test_Loss: {:.4f}'.format(test_loss))"
      ],
      "metadata": {
        "id": "mXW3YVDlyUjB",
        "colab": {
          "base_uri": "https://localhost:8080/"
        },
        "outputId": "701c2484-1025-4749-b713-33cbc20534f4"
      },
      "execution_count": 133,
      "outputs": [
        {
          "output_type": "stream",
          "name": "stdout",
          "text": [
            "Test_Loss: 0.4670\n"
          ]
        }
      ]
    },
    {
      "cell_type": "markdown",
      "source": [
        "## Рассчитаем R2 SCORE для всего тестового набора   "
      ],
      "metadata": {
        "id": "2WNUVtxJpgJM"
      }
    },
    {
      "cell_type": "code",
      "source": [
        "output = net(torch.from_numpy(X_test[:][0]).type(torch.FloatTensor))"
      ],
      "metadata": {
        "id": "-DW-yhX7nSCp"
      },
      "execution_count": 180,
      "outputs": []
    },
    {
      "cell_type": "code",
      "source": [
        "r2score(output[:,0], torch.from_numpy(X_test[:][1]).type(torch.FloatTensor))"
      ],
      "metadata": {
        "colab": {
          "base_uri": "https://localhost:8080/"
        },
        "id": "zdB6nh5wnAHt",
        "outputId": "f1f1ca21-afab-469e-84b4-0cc88bdca520"
      },
      "execution_count": 189,
      "outputs": [
        {
          "output_type": "execute_result",
          "data": {
            "text/plain": [
              "tensor(0.6552, grad_fn=<SqueezeBackward0>)"
            ]
          },
          "metadata": {},
          "execution_count": 189
        }
      ]
    }
  ]
}