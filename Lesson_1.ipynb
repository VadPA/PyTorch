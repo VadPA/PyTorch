{
  "nbformat": 4,
  "nbformat_minor": 0,
  "metadata": {
    "colab": {
      "name": "Lesson_1.ipynb",
      "provenance": [],
      "authorship_tag": "ABX9TyN2yOXKQ/T6tNIFj1K8Bhde",
      "include_colab_link": true
    },
    "kernelspec": {
      "name": "python3",
      "display_name": "Python 3"
    },
    "language_info": {
      "name": "python"
    }
  },
  "cells": [
    {
      "cell_type": "markdown",
      "metadata": {
        "id": "view-in-github",
        "colab_type": "text"
      },
      "source": [
        "<a href=\"https://colab.research.google.com/github/VadPA/PyTorch/blob/master/Lesson_1.ipynb\" target=\"_parent\"><img src=\"https://colab.research.google.com/assets/colab-badge.svg\" alt=\"Open In Colab\"/></a>"
      ]
    },
    {
      "cell_type": "code",
      "execution_count": 1,
      "metadata": {
        "id": "FOCddQ6ON7rj"
      },
      "outputs": [],
      "source": [
        "import torch"
      ]
    },
    {
      "cell_type": "markdown",
      "source": [
        "# 1. Создайте случайный FloatTensor размера 3x4x5"
      ],
      "metadata": {
        "id": "sgsMsM12Oa3K"
      }
    },
    {
      "cell_type": "code",
      "source": [
        "a = torch.randn(3, 4, 5)\n",
        "a"
      ],
      "metadata": {
        "colab": {
          "base_uri": "https://localhost:8080/"
        },
        "id": "momjkr2pOZZa",
        "outputId": "b50e1be7-7045-4c52-9ce5-67a054bfae9f"
      },
      "execution_count": 3,
      "outputs": [
        {
          "output_type": "execute_result",
          "data": {
            "text/plain": [
              "tensor([[[-1.6580e+00,  1.0434e+00,  1.2749e-01, -3.9453e-01, -1.0583e+00],\n",
              "         [-2.1733e+00, -2.4753e-01,  9.0516e-01, -9.4241e-01, -5.1325e-01],\n",
              "         [ 1.1496e-01,  6.4910e-01,  1.0646e-01, -2.7123e-01, -1.2925e+00],\n",
              "         [-8.9753e-01,  5.3365e-01,  1.5722e+00, -9.5110e-01, -1.6327e-01]],\n",
              "\n",
              "        [[-4.2982e-01, -1.1250e+00, -4.6661e-01, -1.3358e+00, -7.7898e-01],\n",
              "         [-1.6179e+00, -7.1237e-01,  1.5329e+00,  3.1454e-01, -6.4831e-01],\n",
              "         [ 3.2094e-01,  3.5468e-04, -5.1211e-02, -6.5503e-01,  9.6468e-03],\n",
              "         [ 1.1852e+00, -4.6562e-01, -4.7667e-01,  9.5779e-01,  4.1249e-01]],\n",
              "\n",
              "        [[-6.0410e-01, -8.0737e-01, -3.7144e-01, -4.7387e-02, -1.3594e+00],\n",
              "         [ 5.4463e-01,  8.2581e-01,  4.5122e-01,  6.0565e-01, -1.2856e+00],\n",
              "         [-3.3716e-01, -7.8600e-01, -2.3709e+00,  3.9062e-01,  4.7636e-01],\n",
              "         [ 2.0374e-01,  6.2961e-01, -6.0868e-01,  2.3834e+00, -4.4119e-01]]])"
            ]
          },
          "metadata": {},
          "execution_count": 3
        }
      ]
    },
    {
      "cell_type": "markdown",
      "source": [
        "# 2. Выведите его форму (shape)"
      ],
      "metadata": {
        "id": "3R6c0Um7P-Hh"
      }
    },
    {
      "cell_type": "code",
      "source": [
        "a.shape"
      ],
      "metadata": {
        "colab": {
          "base_uri": "https://localhost:8080/"
        },
        "id": "DIAKLSe7P9Ju",
        "outputId": "c57285c9-7905-4f68-c328-580cb242bcc7"
      },
      "execution_count": 4,
      "outputs": [
        {
          "output_type": "execute_result",
          "data": {
            "text/plain": [
              "torch.Size([3, 4, 5])"
            ]
          },
          "metadata": {},
          "execution_count": 4
        }
      ]
    },
    {
      "cell_type": "markdown",
      "source": [
        "# 3. Приведите его к форме 6х10"
      ],
      "metadata": {
        "id": "tCBB0V59QNtE"
      }
    },
    {
      "cell_type": "code",
      "source": [
        "a.reshape(-1, 10).size()"
      ],
      "metadata": {
        "colab": {
          "base_uri": "https://localhost:8080/"
        },
        "id": "Jjvv0qjZQLYi",
        "outputId": "a0a08c19-0ed9-4f4c-adda-d3b954c2234d"
      },
      "execution_count": 10,
      "outputs": [
        {
          "output_type": "execute_result",
          "data": {
            "text/plain": [
              "torch.Size([6, 10])"
            ]
          },
          "metadata": {},
          "execution_count": 10
        }
      ]
    },
    {
      "cell_type": "markdown",
      "source": [
        "# 4. Создайте случайный IntTensor размера 10"
      ],
      "metadata": {
        "id": "kbEPZnUGRFl1"
      }
    },
    {
      "cell_type": "code",
      "source": [
        "b = torch.IntTensor(10)\n",
        "b"
      ],
      "metadata": {
        "colab": {
          "base_uri": "https://localhost:8080/"
        },
        "id": "-F61oJoyQ6Xw",
        "outputId": "559386d5-7075-4ec8-8f78-4afa337024f3"
      },
      "execution_count": 15,
      "outputs": [
        {
          "output_type": "execute_result",
          "data": {
            "text/plain": [
              "tensor([ 109914752,          0,         24,          0,         -1,      32694,\n",
              "        1668444020, 1767059048, 1529374074,  824192054], dtype=torch.int32)"
            ]
          },
          "metadata": {},
          "execution_count": 15
        }
      ]
    },
    {
      "cell_type": "markdown",
      "source": [
        "# 5. Умножьте созданный FloatTensor на созданный IntTensor поэлементно"
      ],
      "metadata": {
        "id": "d8WVqh_tVaBx"
      }
    },
    {
      "cell_type": "code",
      "source": [
        "a.reshape(-1, 10).mv(b.type(torch.FloatTensor))"
      ],
      "metadata": {
        "colab": {
          "base_uri": "https://localhost:8080/"
        },
        "id": "gQJQxjvYVfw2",
        "outputId": "dec81fe1-e0b8-44f9-90b2-c9bac5560439"
      },
      "execution_count": 17,
      "outputs": [
        {
          "output_type": "execute_result",
          "data": {
            "text/plain": [
              "tensor([-8.6012e+08,  2.0920e+09,  1.4196e+09,  2.2093e+08,  1.9755e+09,\n",
              "         3.2193e+09])"
            ]
          },
          "metadata": {},
          "execution_count": 17
        }
      ]
    },
    {
      "cell_type": "markdown",
      "source": [
        "# 6. Умножьте тензор матрично на себя, чтобы результат был размерности 6x6"
      ],
      "metadata": {
        "id": "qXz_wfCCW8tH"
      }
    },
    {
      "cell_type": "code",
      "source": [
        "a.reshape(-1, 10).mm(a.reshape(-1, 10).T)"
      ],
      "metadata": {
        "colab": {
          "base_uri": "https://localhost:8080/"
        },
        "id": "OXEW926ZRa_-",
        "outputId": "77449381-943f-4c0b-f067-562697c11561"
      },
      "execution_count": 18,
      "outputs": [
        {
          "output_type": "execute_result",
          "data": {
            "text/plain": [
              "tensor([[11.8847,  6.1968,  5.9470, -4.2963,  0.6785, -4.3909],\n",
              "        [ 6.1968,  6.6835,  3.8285, -2.8431,  1.4320, -4.5217],\n",
              "        [ 5.9470,  3.8285, 10.0535, -1.5296,  2.7097,  0.5671],\n",
              "        [-4.2963, -2.8431, -1.5296,  3.4710, -0.0615,  2.1009],\n",
              "        [ 0.6785,  1.4320,  2.7097, -0.0615,  6.2067,  3.4197],\n",
              "        [-4.3909, -4.5217,  0.5671,  2.1009,  3.4197, 13.4155]])"
            ]
          },
          "metadata": {},
          "execution_count": 18
        }
      ]
    },
    {
      "cell_type": "markdown",
      "source": [
        "# 7. Посчитайте производную функции y = x**3 + z - 75t в точке (1, 0.5, 2)"
      ],
      "metadata": {
        "id": "MKqcIX_bXds3"
      }
    },
    {
      "cell_type": "code",
      "source": [
        "x = torch.tensor(1.0, requires_grad=True)\n",
        "z = torch.tensor(0.5, requires_grad=True)\n",
        "t = torch.tensor(2.0, requires_grad=True)"
      ],
      "metadata": {
        "id": "tjN8PFvaV_VV"
      },
      "execution_count": 28,
      "outputs": []
    },
    {
      "cell_type": "code",
      "source": [
        "y = x**3 + z - 75*t"
      ],
      "metadata": {
        "id": "jkhmQ8-LYq2w"
      },
      "execution_count": 29,
      "outputs": []
    },
    {
      "cell_type": "code",
      "source": [
        "y.backward()"
      ],
      "metadata": {
        "id": "-rvlq2EYaUvd"
      },
      "execution_count": 30,
      "outputs": []
    },
    {
      "cell_type": "code",
      "source": [
        "x.grad"
      ],
      "metadata": {
        "colab": {
          "base_uri": "https://localhost:8080/"
        },
        "id": "ngE6xZKNfXyb",
        "outputId": "a3b2fee7-a908-41cf-ba11-f1300d7689f6"
      },
      "execution_count": 31,
      "outputs": [
        {
          "output_type": "execute_result",
          "data": {
            "text/plain": [
              "tensor(3.)"
            ]
          },
          "metadata": {},
          "execution_count": 31
        }
      ]
    },
    {
      "cell_type": "code",
      "source": [
        "z.grad"
      ],
      "metadata": {
        "colab": {
          "base_uri": "https://localhost:8080/"
        },
        "id": "UZxvCvDc1BD1",
        "outputId": "f8268f1f-c4a3-4a6b-d12b-396f274090b6"
      },
      "execution_count": 32,
      "outputs": [
        {
          "output_type": "execute_result",
          "data": {
            "text/plain": [
              "tensor(1.)"
            ]
          },
          "metadata": {},
          "execution_count": 32
        }
      ]
    },
    {
      "cell_type": "code",
      "source": [
        "t.grad"
      ],
      "metadata": {
        "colab": {
          "base_uri": "https://localhost:8080/"
        },
        "id": "nLuLrnCp1Bda",
        "outputId": "1aef8550-99bb-4474-d130-d123685a1393"
      },
      "execution_count": 33,
      "outputs": [
        {
          "output_type": "execute_result",
          "data": {
            "text/plain": [
              "tensor(-75.)"
            ]
          },
          "metadata": {},
          "execution_count": 33
        }
      ]
    },
    {
      "cell_type": "markdown",
      "source": [
        "# 8. Создайте единичный тензор размера 5x6"
      ],
      "metadata": {
        "id": "FLVE3lQIhX18"
      }
    },
    {
      "cell_type": "code",
      "source": [
        "torch.ones(5, 6)"
      ],
      "metadata": {
        "colab": {
          "base_uri": "https://localhost:8080/"
        },
        "id": "Ev1i-TinhR6G",
        "outputId": "0a38a0bc-d7cd-4904-e7a7-4b16c9ca4db9"
      },
      "execution_count": 34,
      "outputs": [
        {
          "output_type": "execute_result",
          "data": {
            "text/plain": [
              "tensor([[1., 1., 1., 1., 1., 1.],\n",
              "        [1., 1., 1., 1., 1., 1.],\n",
              "        [1., 1., 1., 1., 1., 1.],\n",
              "        [1., 1., 1., 1., 1., 1.],\n",
              "        [1., 1., 1., 1., 1., 1.]])"
            ]
          },
          "metadata": {},
          "execution_count": 34
        }
      ]
    },
    {
      "cell_type": "markdown",
      "source": [
        "# 9. Переведите его в формат numpy"
      ],
      "metadata": {
        "id": "Ldbt48xUiENA"
      }
    },
    {
      "cell_type": "code",
      "source": [
        "torch.ones(5, 6).numpy()"
      ],
      "metadata": {
        "colab": {
          "base_uri": "https://localhost:8080/"
        },
        "id": "yOmNUxzDh6Xe",
        "outputId": "b17f018d-d9c1-4e7b-eb7e-f222db610f16"
      },
      "execution_count": 35,
      "outputs": [
        {
          "output_type": "execute_result",
          "data": {
            "text/plain": [
              "array([[1., 1., 1., 1., 1., 1.],\n",
              "       [1., 1., 1., 1., 1., 1.],\n",
              "       [1., 1., 1., 1., 1., 1.],\n",
              "       [1., 1., 1., 1., 1., 1.],\n",
              "       [1., 1., 1., 1., 1., 1.]], dtype=float32)"
            ]
          },
          "metadata": {},
          "execution_count": 35
        }
      ]
    }
  ]
}